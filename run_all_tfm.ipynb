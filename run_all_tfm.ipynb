{
 "cells": [
  {
   "cell_type": "markdown",
   "metadata": {},
   "source": [
    "This notebook runs everything necessary for my TFM"
   ]
  },
  {
   "cell_type": "code",
   "execution_count": 87,
   "metadata": {},
   "outputs": [],
   "source": [
    "import os\n",
    "from subprocess import call\n",
    "\n",
    "import requests\n",
    "import papermill as pm\n",
    "\n",
    "def run_notebook(path, **kwargs):\n",
    "    pm.execute_notebook(path, path, progress_bar=True, cwd=os.path.dirname(path), **kwargs)\n",
    "\n",
    "def run_file(path):\n",
    "    call(['python', path])\n",
    "\n",
    "PLATFORMS = [\n",
    "    'aragon',\n",
    "    'daohaus',\n",
    "    'daostack',\n",
    "    # 'governor',\n",
    "    # 'realms',\n",
    "    'snapshot',\n",
    "    # 'tally',\n",
    "]"
   ]
  },
  {
   "cell_type": "markdown",
   "metadata": {},
   "source": [
    "# Deployments\n",
    "\n",
    "Getting the deployments"
   ]
  },
  {
   "cell_type": "code",
   "execution_count": 88,
   "metadata": {},
   "outputs": [],
   "source": [
    "def get_files_from_daoanalyzer(org, dst_path, download_files):\n",
    "    # Zenodo ID\n",
    "    zenodo_id = 10372368\n",
    "    zenodo_dotfile = os.path.join(dst_path, org, '.zenodo-id.txt')\n",
    "\n",
    "    assert download_files, \"download_files cant be empty\"\n",
    "    all_files_available = all( ( os.path.exists(os.path.join(dst_path, org, f)) for f in download_files ) )\n",
    "    old_zenodo_id = -1\n",
    "\n",
    "    if os.path.exists(zenodo_dotfile):\n",
    "        with open(zenodo_dotfile, 'r') as f:\n",
    "            old_zenodo_id = int(f.readline())\n",
    "\n",
    "    if not all_files_available or zenodo_id != old_zenodo_id:\n",
    "        # Download from Zenodo (no API key needed)\n",
    "        url = f\"https://zenodo.org/records/{zenodo_id}/files/archive.zip?download=1\"\n",
    "\n",
    "        archive = f'./DATA/archive-{zenodo_id}.zip'\n",
    "        if not os.path.exists(archive):\n",
    "            r = requests.get(url)\n",
    "            r.raise_for_status()\n",
    "\n",
    "            with open(archive, 'wb') as f:\n",
    "                f.write(r.content)\n",
    "\n",
    "        call(['unzip', '-oj', archive, *[f'{org}/{f}' for f in download_files], '-d', os.path.join(dst_path, org)])\n",
    "        with open(zenodo_dotfile, 'w') as f:\n",
    "            f.write(str(zenodo_id))\n",
    "    else:\n",
    "        print('All files already present')"
   ]
  },
  {
   "cell_type": "markdown",
   "metadata": {},
   "source": [
    "## Aragon"
   ]
  },
  {
   "cell_type": "code",
   "execution_count": 89,
   "metadata": {},
   "outputs": [
    {
     "name": "stdout",
     "output_type": "stream",
     "text": [
      "All files already present\n"
     ]
    },
    {
     "data": {
      "application/vnd.jupyter.widget-view+json": {
       "model_id": "2eaf2f76afd449ddbbe519095a18f15a",
       "version_major": 2,
       "version_minor": 0
      },
      "text/plain": [
       "Executing:   0%|          | 0/22 [00:00<?, ?cell/s]"
      ]
     },
     "metadata": {},
     "output_type": "display_data"
    },
    {
     "name": "stderr",
     "output_type": "stream",
     "text": [
      "[IPKernelApp] WARNING | debugpy_stream undefined, debugging will not be enabled\n"
     ]
    }
   ],
   "source": [
    "get_files_from_daoanalyzer('aragon', 'deployments', ['organizations.csv', 'casts.csv', 'votes.csv'])\n",
    "run_notebook('./deployments/aragon/aragon_get_deployments.ipynb')"
   ]
  },
  {
   "cell_type": "markdown",
   "metadata": {},
   "source": [
    "## DAOhaus"
   ]
  },
  {
   "cell_type": "code",
   "execution_count": 90,
   "metadata": {},
   "outputs": [
    {
     "name": "stdout",
     "output_type": "stream",
     "text": [
      "All files already present\n"
     ]
    },
    {
     "data": {
      "application/vnd.jupyter.widget-view+json": {
       "model_id": "8ef1a4966d9e4d89a23c6ab6000c7ced",
       "version_major": 2,
       "version_minor": 0
      },
      "text/plain": [
       "Executing:   0%|          | 0/25 [00:00<?, ?cell/s]"
      ]
     },
     "metadata": {},
     "output_type": "display_data"
    },
    {
     "name": "stderr",
     "output_type": "stream",
     "text": [
      "[IPKernelApp] WARNING | debugpy_stream undefined, debugging will not be enabled\n"
     ]
    }
   ],
   "source": [
    "get_files_from_daoanalyzer('daohaus', 'deployments', ['moloches.csv', 'votes.csv', 'proposals.csv'])\n",
    "run_notebook('./deployments/daohaus/daohaus_get_deployments.ipynb')"
   ]
  },
  {
   "cell_type": "markdown",
   "metadata": {},
   "source": [
    "## DAOstack"
   ]
  },
  {
   "cell_type": "code",
   "execution_count": 91,
   "metadata": {},
   "outputs": [
    {
     "name": "stdout",
     "output_type": "stream",
     "text": [
      "All files already present\n"
     ]
    },
    {
     "data": {
      "application/vnd.jupyter.widget-view+json": {
       "model_id": "2b0c622b6a5b4a38bc6f474fbb1d1c9e",
       "version_major": 2,
       "version_minor": 0
      },
      "text/plain": [
       "Executing:   0%|          | 0/19 [00:00<?, ?cell/s]"
      ]
     },
     "metadata": {},
     "output_type": "display_data"
    },
    {
     "name": "stderr",
     "output_type": "stream",
     "text": [
      "[IPKernelApp] WARNING | debugpy_stream undefined, debugging will not be enabled\n"
     ]
    }
   ],
   "source": [
    "get_files_from_daoanalyzer('daostack', 'deployments', ['daos.csv', 'proposals.csv', 'votes.csv'])\n",
    "run_notebook('./deployments/daostack/daostack_get_deployments.ipynb')"
   ]
  },
  {
   "cell_type": "markdown",
   "metadata": {},
   "source": [
    "## Snapshot"
   ]
  },
  {
   "cell_type": "code",
   "execution_count": 92,
   "metadata": {},
   "outputs": [
    {
     "data": {
      "application/vnd.jupyter.widget-view+json": {
       "model_id": "e609ab2f0bca4d5f828dd478d201d4f8",
       "version_major": 2,
       "version_minor": 0
      },
      "text/plain": [
       "Executing:   0%|          | 0/8 [00:00<?, ?cell/s]"
      ]
     },
     "metadata": {},
     "output_type": "display_data"
    },
    {
     "name": "stderr",
     "output_type": "stream",
     "text": [
      "[IPKernelApp] WARNING | debugpy_stream undefined, debugging will not be enabled\n"
     ]
    }
   ],
   "source": [
    "run_notebook('./deployments/snapshot/snapshot_get_deployments.ipynb')"
   ]
  },
  {
   "cell_type": "markdown",
   "metadata": {},
   "source": [
    "## Combine and analyze"
   ]
  },
  {
   "cell_type": "code",
   "execution_count": 93,
   "metadata": {},
   "outputs": [
    {
     "data": {
      "application/vnd.jupyter.widget-view+json": {
       "model_id": "15fdc72a0e4246cab73d2272b6b107bf",
       "version_major": 2,
       "version_minor": 0
      },
      "text/plain": [
       "Executing:   0%|          | 0/17 [00:00<?, ?cell/s]"
      ]
     },
     "metadata": {},
     "output_type": "display_data"
    },
    {
     "name": "stderr",
     "output_type": "stream",
     "text": [
      "[IPKernelApp] WARNING | debugpy_stream undefined, debugging will not be enabled\n"
     ]
    }
   ],
   "source": [
    "run_notebook('./deployments/combine_and_analyze.ipynb')"
   ]
  },
  {
   "cell_type": "markdown",
   "metadata": {},
   "source": [
    "# Proposals"
   ]
  },
  {
   "cell_type": "markdown",
   "metadata": {},
   "source": [
    "## Aragon"
   ]
  },
  {
   "cell_type": "code",
   "execution_count": 94,
   "metadata": {},
   "outputs": [
    {
     "name": "stdout",
     "output_type": "stream",
     "text": [
      "All files already present\n"
     ]
    },
    {
     "data": {
      "application/vnd.jupyter.widget-view+json": {
       "model_id": "bd37668fb00a4973ac3903fa23387e71",
       "version_major": 2,
       "version_minor": 0
      },
      "text/plain": [
       "Executing:   0%|          | 0/8 [00:00<?, ?cell/s]"
      ]
     },
     "metadata": {},
     "output_type": "display_data"
    },
    {
     "name": "stderr",
     "output_type": "stream",
     "text": [
      "[IPKernelApp] WARNING | debugpy_stream undefined, debugging will not be enabled\n"
     ]
    }
   ],
   "source": [
    "get_files_from_daoanalyzer('aragon', './proposals/', ['votes.csv'])\n",
    "run_notebook('./proposals/aragon/get_aragon_proposals.ipynb')"
   ]
  },
  {
   "cell_type": "markdown",
   "metadata": {},
   "source": [
    "## DAOhaus"
   ]
  },
  {
   "cell_type": "code",
   "execution_count": 95,
   "metadata": {},
   "outputs": [
    {
     "name": "stdout",
     "output_type": "stream",
     "text": [
      "All files already present\n"
     ]
    },
    {
     "data": {
      "application/vnd.jupyter.widget-view+json": {
       "model_id": "545c6db82e854008be4fe41cee862e9c",
       "version_major": 2,
       "version_minor": 0
      },
      "text/plain": [
       "Executing:   0%|          | 0/8 [00:00<?, ?cell/s]"
      ]
     },
     "metadata": {},
     "output_type": "display_data"
    },
    {
     "name": "stderr",
     "output_type": "stream",
     "text": [
      "[IPKernelApp] WARNING | debugpy_stream undefined, debugging will not be enabled\n"
     ]
    }
   ],
   "source": [
    "get_files_from_daoanalyzer('daohaus', './proposals/', ['proposals.csv'])\n",
    "run_notebook('./proposals/daohaus/get_daohaus_proposals.ipynb')"
   ]
  },
  {
   "cell_type": "markdown",
   "metadata": {},
   "source": [
    "## DAOstack"
   ]
  },
  {
   "cell_type": "code",
   "execution_count": 96,
   "metadata": {},
   "outputs": [
    {
     "name": "stdout",
     "output_type": "stream",
     "text": [
      "All files already present\n"
     ]
    },
    {
     "data": {
      "application/vnd.jupyter.widget-view+json": {
       "model_id": "5503b77ec1a0463a814a00350e4822ec",
       "version_major": 2,
       "version_minor": 0
      },
      "text/plain": [
       "Executing:   0%|          | 0/13 [00:00<?, ?cell/s]"
      ]
     },
     "metadata": {},
     "output_type": "display_data"
    },
    {
     "name": "stderr",
     "output_type": "stream",
     "text": [
      "[IPKernelApp] WARNING | debugpy_stream undefined, debugging will not be enabled\n"
     ]
    }
   ],
   "source": [
    "get_files_from_daoanalyzer('daostack', './proposals/', ['proposals.csv', 'votes.csv'])\n",
    "run_notebook('./proposals/daostack/get_daostack_proposals.ipynb')"
   ]
  },
  {
   "cell_type": "markdown",
   "metadata": {},
   "source": [
    "## Governor"
   ]
  },
  {
   "cell_type": "code",
   "execution_count": 97,
   "metadata": {},
   "outputs": [],
   "source": [
    "# run_notebook('./proposals/governor/get_proposals.ipynb')"
   ]
  },
  {
   "cell_type": "markdown",
   "metadata": {},
   "source": [
    "## Snapshot"
   ]
  },
  {
   "cell_type": "code",
   "execution_count": 98,
   "metadata": {},
   "outputs": [
    {
     "data": {
      "application/vnd.jupyter.widget-view+json": {
       "model_id": "ffd4efdb7c044cd99453ff65b5070c3b",
       "version_major": 2,
       "version_minor": 0
      },
      "text/plain": [
       "Executing:   0%|          | 0/12 [00:00<?, ?cell/s]"
      ]
     },
     "metadata": {},
     "output_type": "display_data"
    },
    {
     "name": "stderr",
     "output_type": "stream",
     "text": [
      "[IPKernelApp] WARNING | debugpy_stream undefined, debugging will not be enabled\n"
     ]
    },
    {
     "data": {
      "application/vnd.jupyter.widget-view+json": {
       "model_id": "c252f71f83df419d8c30bf3b11a705e4",
       "version_major": 2,
       "version_minor": 0
      },
      "text/plain": [
       "Executing:   0%|          | 0/12 [00:00<?, ?cell/s]"
      ]
     },
     "metadata": {},
     "output_type": "display_data"
    },
    {
     "name": "stderr",
     "output_type": "stream",
     "text": [
      "[IPKernelApp] WARNING | debugpy_stream undefined, debugging will not be enabled\n"
     ]
    }
   ],
   "source": [
    "run_notebook('./proposals/snapshot/download_all_proposals_new.ipynb')\n",
    "run_notebook('./proposals/snapshot/process_snapshot_proposals.ipynb')"
   ]
  },
  {
   "cell_type": "markdown",
   "metadata": {},
   "source": [
    "# Votes"
   ]
  },
  {
   "cell_type": "markdown",
   "metadata": {},
   "source": [
    "## Aragon"
   ]
  },
  {
   "cell_type": "code",
   "execution_count": 99,
   "metadata": {},
   "outputs": [
    {
     "name": "stdout",
     "output_type": "stream",
     "text": [
      "All files already present\n"
     ]
    },
    {
     "data": {
      "application/vnd.jupyter.widget-view+json": {
       "model_id": "bcb4cac2c39e4d1aa63d3dd0aa6dc874",
       "version_major": 2,
       "version_minor": 0
      },
      "text/plain": [
       "Executing:   0%|          | 0/5 [00:00<?, ?cell/s]"
      ]
     },
     "metadata": {},
     "output_type": "display_data"
    },
    {
     "name": "stderr",
     "output_type": "stream",
     "text": [
      "[IPKernelApp] WARNING | debugpy_stream undefined, debugging will not be enabled\n"
     ]
    }
   ],
   "source": [
    "get_files_from_daoanalyzer('aragon', './votes/', ['casts.csv'])\n",
    "run_notebook('./votes/aragon/get_aragon_votes.ipynb')"
   ]
  },
  {
   "cell_type": "markdown",
   "metadata": {},
   "source": [
    "## DAOhaus"
   ]
  },
  {
   "cell_type": "code",
   "execution_count": 100,
   "metadata": {},
   "outputs": [
    {
     "name": "stdout",
     "output_type": "stream",
     "text": [
      "All files already present\n"
     ]
    },
    {
     "data": {
      "application/vnd.jupyter.widget-view+json": {
       "model_id": "020fdd404fbb4c8f8ce681c255d3707a",
       "version_major": 2,
       "version_minor": 0
      },
      "text/plain": [
       "Executing:   0%|          | 0/8 [00:00<?, ?cell/s]"
      ]
     },
     "metadata": {},
     "output_type": "display_data"
    },
    {
     "name": "stderr",
     "output_type": "stream",
     "text": [
      "[IPKernelApp] WARNING | debugpy_stream undefined, debugging will not be enabled\n"
     ]
    }
   ],
   "source": [
    "get_files_from_daoanalyzer('daohaus', './votes/', ['votes.csv'])\n",
    "run_notebook('./votes/daohaus/get_daohaus_votes.ipynb')"
   ]
  },
  {
   "cell_type": "markdown",
   "metadata": {},
   "source": [
    "## DAOstack"
   ]
  },
  {
   "cell_type": "code",
   "execution_count": 101,
   "metadata": {},
   "outputs": [
    {
     "name": "stdout",
     "output_type": "stream",
     "text": [
      "All files already present\n"
     ]
    },
    {
     "data": {
      "application/vnd.jupyter.widget-view+json": {
       "model_id": "08a25061524f41359d92aa3b3fc4cde5",
       "version_major": 2,
       "version_minor": 0
      },
      "text/plain": [
       "Executing:   0%|          | 0/4 [00:00<?, ?cell/s]"
      ]
     },
     "metadata": {},
     "output_type": "display_data"
    },
    {
     "name": "stderr",
     "output_type": "stream",
     "text": [
      "[IPKernelApp] WARNING | debugpy_stream undefined, debugging will not be enabled\n"
     ]
    }
   ],
   "source": [
    "get_files_from_daoanalyzer('daostack', './votes/', ['votes.csv'])\n",
    "run_notebook('./votes/daostack/get_daostack_votes.ipynb')"
   ]
  },
  {
   "cell_type": "markdown",
   "metadata": {},
   "source": [
    "## Snapshot\n",
    "\n",
    "To check progress:\n",
    "- `audit_download.ipynb` shows `get_snapshot_votes.ipynb` progress. There should be 6798 files in the `votes_out` folder\n",
    "- `audit_large_proposal_votes.ipynb` shows `get_large_proposal_votes.ipynb` progress. Look for one of the last cells that says \"Total progress\""
   ]
  },
  {
   "cell_type": "code",
   "execution_count": 102,
   "metadata": {},
   "outputs": [
    {
     "data": {
      "application/vnd.jupyter.widget-view+json": {
       "model_id": "281c20d397b34a4ab49fd969675b51fe",
       "version_major": 2,
       "version_minor": 0
      },
      "text/plain": [
       "Executing:   0%|          | 0/18 [00:00<?, ?cell/s]"
      ]
     },
     "metadata": {},
     "output_type": "display_data"
    },
    {
     "name": "stderr",
     "output_type": "stream",
     "text": [
      "[IPKernelApp] WARNING | debugpy_stream undefined, debugging will not be enabled\n"
     ]
    },
    {
     "data": {
      "application/vnd.jupyter.widget-view+json": {
       "model_id": "fed40e8428fd473fa9715da061d07f73",
       "version_major": 2,
       "version_minor": 0
      },
      "text/plain": [
       "Executing:   0%|          | 0/8 [00:00<?, ?cell/s]"
      ]
     },
     "metadata": {},
     "output_type": "display_data"
    },
    {
     "name": "stderr",
     "output_type": "stream",
     "text": [
      "[IPKernelApp] WARNING | debugpy_stream undefined, debugging will not be enabled\n"
     ]
    }
   ],
   "source": [
    "run_notebook('./votes/snapshot/get_snapshot_votes.ipynb')\n",
    "run_notebook('./votes/snapshot/get_large_proposal_votes.ipynb')\n",
    "# This takes quite some time, so we will run it only if necessary\n",
    "if not os.path.exists('./votes/snapshot/snapshot_votes_small_proposals.csv'):\n",
    "    run_notebook('./votes/snapshot/process_snapshot_votes.ipynb', log_output=True)"
   ]
  },
  {
   "cell_type": "markdown",
   "metadata": {},
   "source": [
    "# Concatenate data to \"parquets\""
   ]
  },
  {
   "cell_type": "code",
   "execution_count": 105,
   "metadata": {},
   "outputs": [
    {
     "data": {
      "application/vnd.jupyter.widget-view+json": {
       "model_id": "9eefe2ffcbb4438983db854e19b4d5b9",
       "version_major": 2,
       "version_minor": 0
      },
      "text/plain": [
       "Executing:   0%|          | 0/20 [00:00<?, ?cell/s]"
      ]
     },
     "metadata": {},
     "output_type": "display_data"
    },
    {
     "name": "stderr",
     "output_type": "stream",
     "text": [
      "[IPKernelApp] WARNING | debugpy_stream undefined, debugging will not be enabled\n"
     ]
    },
    {
     "ename": "PapermillExecutionError",
     "evalue": "\n---------------------------------------------------------------------------\nException encountered at \"In [11]\":\n---------------------------------------------------------------------------\nIndexError                                Traceback (most recent call last)\nCell In[11], line 3\n      1 import glob\n----> 3 snapshot_votes = glob.glob('/users/personal/Downloads/DATA_onedrive_2023-07-25/votes/snapshot_*.parquet')[0]\n      4 snapshot_votes\n\nIndexError: list index out of range\n",
     "output_type": "error",
     "traceback": [
      "\u001b[0;31m---------------------------------------------------------------------------\u001b[0m",
      "\u001b[0;31mPapermillExecutionError\u001b[0m                   Traceback (most recent call last)",
      "Cell \u001b[0;32mIn[105], line 3\u001b[0m\n\u001b[1;32m      1\u001b[0m \u001b[38;5;28;01mif\u001b[39;00m \u001b[38;5;129;01mnot\u001b[39;00m os\u001b[38;5;241m.\u001b[39mpath\u001b[38;5;241m.\u001b[39mexists(\u001b[38;5;124m'\u001b[39m\u001b[38;5;124m./parquets\u001b[39m\u001b[38;5;124m'\u001b[39m):\n\u001b[1;32m      2\u001b[0m     os\u001b[38;5;241m.\u001b[39mmkdir(\u001b[38;5;124m'\u001b[39m\u001b[38;5;124m./parquets\u001b[39m\u001b[38;5;124m'\u001b[39m)\n\u001b[0;32m----> 3\u001b[0m \u001b[43mrun_notebook\u001b[49m\u001b[43m(\u001b[49m\u001b[38;5;124;43m'\u001b[39;49m\u001b[38;5;124;43m./concatenate_DATA.ipynb\u001b[39;49m\u001b[38;5;124;43m'\u001b[39;49m\u001b[43m,\u001b[49m\u001b[43m \u001b[49m\u001b[43mlog_output\u001b[49m\u001b[38;5;241;43m=\u001b[39;49m\u001b[38;5;28;43;01mTrue\u001b[39;49;00m\u001b[43m)\u001b[49m\n",
      "Cell \u001b[0;32mIn[87], line 8\u001b[0m, in \u001b[0;36mrun_notebook\u001b[0;34m(path, **kwargs)\u001b[0m\n\u001b[1;32m      7\u001b[0m \u001b[38;5;28;01mdef\u001b[39;00m \u001b[38;5;21mrun_notebook\u001b[39m(path, \u001b[38;5;241m*\u001b[39m\u001b[38;5;241m*\u001b[39mkwargs):\n\u001b[0;32m----> 8\u001b[0m     \u001b[43mpm\u001b[49m\u001b[38;5;241;43m.\u001b[39;49m\u001b[43mexecute_notebook\u001b[49m\u001b[43m(\u001b[49m\u001b[43mpath\u001b[49m\u001b[43m,\u001b[49m\u001b[43m \u001b[49m\u001b[43mpath\u001b[49m\u001b[43m,\u001b[49m\u001b[43m \u001b[49m\u001b[43mprogress_bar\u001b[49m\u001b[38;5;241;43m=\u001b[39;49m\u001b[38;5;28;43;01mTrue\u001b[39;49;00m\u001b[43m,\u001b[49m\u001b[43m \u001b[49m\u001b[43mcwd\u001b[49m\u001b[38;5;241;43m=\u001b[39;49m\u001b[43mos\u001b[49m\u001b[38;5;241;43m.\u001b[39;49m\u001b[43mpath\u001b[49m\u001b[38;5;241;43m.\u001b[39;49m\u001b[43mdirname\u001b[49m\u001b[43m(\u001b[49m\u001b[43mpath\u001b[49m\u001b[43m)\u001b[49m\u001b[43m,\u001b[49m\u001b[43m \u001b[49m\u001b[38;5;241;43m*\u001b[39;49m\u001b[38;5;241;43m*\u001b[39;49m\u001b[43mkwargs\u001b[49m\u001b[43m)\u001b[49m\n",
      "File \u001b[0;32m/usr/lib/python3.11/site-packages/papermill/execute.py:128\u001b[0m, in \u001b[0;36mexecute_notebook\u001b[0;34m(input_path, output_path, parameters, engine_name, request_save_on_cell_execute, prepare_only, kernel_name, language, progress_bar, log_output, stdout_file, stderr_file, start_timeout, report_mode, cwd, **engine_kwargs)\u001b[0m\n\u001b[1;32m    113\u001b[0m         nb \u001b[38;5;241m=\u001b[39m papermill_engines\u001b[38;5;241m.\u001b[39mexecute_notebook_with_engine(\n\u001b[1;32m    114\u001b[0m             engine_name,\n\u001b[1;32m    115\u001b[0m             nb,\n\u001b[0;32m   (...)\u001b[0m\n\u001b[1;32m    124\u001b[0m             \u001b[38;5;241m*\u001b[39m\u001b[38;5;241m*\u001b[39mengine_kwargs\n\u001b[1;32m    125\u001b[0m         )\n\u001b[1;32m    127\u001b[0m     \u001b[38;5;66;03m# Check for errors first (it saves on error before raising)\u001b[39;00m\n\u001b[0;32m--> 128\u001b[0m     \u001b[43mraise_for_execution_errors\u001b[49m\u001b[43m(\u001b[49m\u001b[43mnb\u001b[49m\u001b[43m,\u001b[49m\u001b[43m \u001b[49m\u001b[43moutput_path\u001b[49m\u001b[43m)\u001b[49m\n\u001b[1;32m    130\u001b[0m \u001b[38;5;66;03m# Write final output in case the engine didn't write it on cell completion.\u001b[39;00m\n\u001b[1;32m    131\u001b[0m write_ipynb(nb, output_path)\n",
      "File \u001b[0;32m/usr/lib/python3.11/site-packages/papermill/execute.py:232\u001b[0m, in \u001b[0;36mraise_for_execution_errors\u001b[0;34m(nb, output_path)\u001b[0m\n\u001b[1;32m    229\u001b[0m nb\u001b[38;5;241m.\u001b[39mcells\u001b[38;5;241m.\u001b[39minsert(\u001b[38;5;241m0\u001b[39m, error_msg_cell)\n\u001b[1;32m    231\u001b[0m write_ipynb(nb, output_path)\n\u001b[0;32m--> 232\u001b[0m \u001b[38;5;28;01mraise\u001b[39;00m error\n",
      "\u001b[0;31mPapermillExecutionError\u001b[0m: \n---------------------------------------------------------------------------\nException encountered at \"In [11]\":\n---------------------------------------------------------------------------\nIndexError                                Traceback (most recent call last)\nCell In[11], line 3\n      1 import glob\n----> 3 snapshot_votes = glob.glob('/users/personal/Downloads/DATA_onedrive_2023-07-25/votes/snapshot_*.parquet')[0]\n      4 snapshot_votes\n\nIndexError: list index out of range\n"
     ]
    }
   ],
   "source": [
    "if not os.path.exists('./parquets'):\n",
    "    os.mkdir('./parquets')\n",
    "run_notebook('./concatenate_DATA.ipynb', log_output=True)"
   ]
  },
  {
   "cell_type": "code",
   "execution_count": 106,
   "metadata": {},
   "outputs": [
    {
     "data": {
      "text/plain": [
       "[('0xda4f201a37ea08cf1892418e7b9e88f5687a68dbdc96c3ab22abaa1c7244648e',\n",
       "  2765849),\n",
       " ('0xc18c4911e19adf4bd54c6ad142bb08bc81fd44dee723e520c511c2a9414d5920',\n",
       "  514470),\n",
       " ('0xcfc335d45421a2d3b5f64d5ee19770ab103f539cedc240ba937691093b392bc4',\n",
       "  510861),\n",
       " ('0xd6bb6427e285ae4e269ebb9f4d0396808d2de356c654c19877402da4e3e8c44a',\n",
       "  510523),\n",
       " ('0x2eff53c9e9f0bf19a98345d1d32103ec0ec859d81978eecacb38db16be33b94b',\n",
       "  472911),\n",
       " ('0xed5fe9d40c9e82a53c548d4458fdca91d6d26c12cc34303c205906b5e1854e29',\n",
       "  470709),\n",
       " ('0x3ab405d7d396f0b3bf04b966dd12b06ad5e81d3cf583eda8b890f2d744a98693',\n",
       "  470250),\n",
       " ('0xe8e92474bbd4ad0aa011cf69ad1873a9e30ab9c431f717e9d859a78fdd799a3a',\n",
       "  456653),\n",
       " ('0x6078a960e2cb6b518dddc3773f7f40b30ab76bc6f2f3de2022eaafe78c8ee0a1',\n",
       "  456232),\n",
       " ('0x73917ac1c09063a4776aea60176817f3aa3ee96b3a54f93ba9e9dddfc1add2ee',\n",
       "  455835),\n",
       " ('0xf1274081c9f4db1db77f30f21b53f61dde8716f8d3f2aac7367709bd4af369b2',\n",
       "  450500),\n",
       " ('0x3cb9430062af89937887e9d359e4765de4f138c6bcea49ee66225a8fa998e97b',\n",
       "  449253),\n",
       " ('0x85c675f303a69df297e1fdcf6dc2845366a8672362e946150ba4a4d7928cc8ea',\n",
       "  446938),\n",
       " ('0x13e489cc2b60e4b57876266b70e15d77d6ac86a23817dffba26043e69e3bf91e',\n",
       "  436786),\n",
       " ('0x1a1199e257551beac23b21fdba98f6efba2773a52135ad848fc6ad5b22b5d627',\n",
       "  398987),\n",
       " ('0xafce718ac2c5b42caa1c4a2f355f37bab804600b8f2a897840606df146db3da0',\n",
       "  388945),\n",
       " ('0x9f0e54337d515a9daa2e9cc05580b1993ebb18e2ebc465cf3ee6e777df369e2b',\n",
       "  371130),\n",
       " ('0x108a9e597560c4f249cd8be23acd409059fcd17bb2290d69a550ac2232676e7d',\n",
       "  369729),\n",
       " ('0x5280241b4ccc9b7c5088e657a714d28fa89bd5305a1ff0abf0736438c446ae98',\n",
       "  365538),\n",
       " ('0xcbefd708a0b64d9e9d634e5d7f57c5056b59285b6a5ba18492cfea4db6a53104',\n",
       "  338494),\n",
       " ('0x6b703b90d3cd1f82f7c176fc2e566a2bb79e8eb6618a568b52a4f29cb2f8d57b',\n",
       "  264249),\n",
       " ('0x04df8aafa123cf995b4ef28e0d28c4987ae09a41a4396235bd9c7368b05fdc80',\n",
       "  225194),\n",
       " ('0xda01dacad76bf6559fcd16cf947f23dd4ee3459e1d08aa6325b17a573733d039',\n",
       "  224086),\n",
       " ('0x98b977f8413bd99eee2791cc9e8f9a4dad3d16f2f5c8af8f4a288d9d612f6fbc',\n",
       "  220917),\n",
       " ('0x67d414042da88026e2c718284e90a5d79e1c0a32d322a288b373e0d7a21f4cef',\n",
       "  213953),\n",
       " ('0xc29df4ccabd80fd15786929fc5ee5937384462dc6ac34e5a9b108dc78d70ce92',\n",
       "  212780),\n",
       " ('0xe485f7c2bb4f7843d4ce353ae82f19dcf017e70e917bad28f70ff8b231b57deb',\n",
       "  212738),\n",
       " ('0xb41606b1de917d84098e44a849130648879b4cbe6b5f7e9f47aeb77893f2d2ad',\n",
       "  212490),\n",
       " ('0x764de824caab8bbaef62d97c23cac5cc213f8bc2d5aa8f137f2451c27af1c13d',\n",
       "  212404),\n",
       " ('0x05e5d04ac774cc834488264c7c0067580fb9c0d72fcc2e152c518ee5ff42c819',\n",
       "  210175),\n",
       " ('0xadde41781913a66b94e509f602fc619580db2cb2817ab5f6b610d0c4ab668fbd',\n",
       "  209671),\n",
       " ('0xcde9eaab1490c87be43daf36d82397b6662f95ffb6cedbed9d02f33b3b8868f8',\n",
       "  208986),\n",
       " ('0x617fee854b8f3b969ea2d0aaaadb82816ff008cd1c126dfacab57a46ebbe1a5a',\n",
       "  208343),\n",
       " ('0x451d9658dcc65c946c25471295beae3d658d7ac613fa6a32082ed70268e1aa3b',\n",
       "  207790),\n",
       " ('0x3ac774993247cf161cefa5f4ba8e83613adbadb92a16b40f4f449437fade750e',\n",
       "  207105),\n",
       " ('0x4b020109855f25ea982f9330329df970e352cf01f28b30710aec325fd727ee48',\n",
       "  206996),\n",
       " ('0xf980d6deed62c3d77dd055963724b9d07ea0f383a2142703e5581c8e751b06ad',\n",
       "  206732),\n",
       " ('0x9794907b96437b0d919f49c17a16234cef067d5c0209527c8f666550ee628a67',\n",
       "  205869),\n",
       " ('0x9b511ccf8bd097176255da63725877de9f80caeea8a28256ff50dfad10a3820d',\n",
       "  199680),\n",
       " ('0xcf9f2fb87d17cb92f0839d5e8e75df82258050c4ded23d5339bda8aea4627c55',\n",
       "  197555),\n",
       " ('0x3a42582cea9058e7ffaffda2438648f93f42440783f0536072338310a0505515',\n",
       "  195676),\n",
       " ('0x0b2f28596b46525ee684470ab8931d2b7ff47442cfae391a8a6d6c98961f5918',\n",
       "  194816),\n",
       " ('0xafed2301a7a3d63ed37672ef8a4778937cbfa196712cc5a278fe40e3571c4dfe',\n",
       "  193758),\n",
       " ('0x4f98ca5f50a120aab0874f4c43180da678acc74264fd9a1a76cc9201ec06c0d9',\n",
       "  191311),\n",
       " ('0xa62ce02e48e050a12090e94322f2f4214bbd5b733c578af2f6020fa790459ffc',\n",
       "  181402),\n",
       " ('0x46843767f728a2181be7cbd1b31d202586fcd060e63359074e78c6786c01f1bc',\n",
       "  179975),\n",
       " ('0xe828fd4cb23d1ca6cb08a6945eeaf3c750c0f77f1e77d889b855dbbb5d5beeb4',\n",
       "  179098),\n",
       " ('0xdf34b9d1635cd633c458e019d2a0b2f9975f75ae264b60c2aeeb737eff6abef8',\n",
       "  177644),\n",
       " ('0x34d0595c5e79d37c4a2a99cf604bc511cbb2cf824d443690c5084fc673aeb0e1',\n",
       "  177086),\n",
       " ('0xd05be3daa352190405683162a3b976837226ef1e4d639c76e152e06e02e4532c',\n",
       "  176430),\n",
       " ('0xcd9bcd04d63f50b13c17a3ea7cb950763eb888bc14533d48aa0be4585f9ec679',\n",
       "  175328),\n",
       " ('0x710224aca0f510d6d4acf155e04aeabeaab445a5d40a1e5211c9d95760e2a1fe',\n",
       "  174710),\n",
       " ('0x616a21fa0df3d43fdbd2c192b8525f919b6ff626996881b11591d50ad81ff78a',\n",
       "  174367),\n",
       " ('0x95136997f7d574711d37d3aa0e70e72dabd1bce86e696f718a1c90e1db109c18',\n",
       "  173331),\n",
       " ('0x8d22e724cb9c21db506eb0b617846ffcd107ce25d4b91862c49d8bef994b37cb',\n",
       "  173298),\n",
       " ('0xbd66defae793456544ab43a958a2b6cc42f66a70f29566feb1462f4416763ee9',\n",
       "  172942),\n",
       " ('0x1230e17053ac2e8d023825f19c69fb549c791119ff3a2f1e83725075081900b4',\n",
       "  172392),\n",
       " ('0x6302882e472eecf518370b031b9246570feadc1368cc4ca5fbde452f5ffa7089',\n",
       "  172303),\n",
       " ('0xc794ca84923aabcbd4ba138bdba248c45becde5db69f950cd0deaa17aacf96d5',\n",
       "  172259),\n",
       " ('0x83fcf18ae072b237dc82342141652d09c864fd0f3a4f09f78461f0661250f048',\n",
       "  172198),\n",
       " ('0x0b6489fdfa24ccc61d51070e5ccd34348627added7f8d9b68a6c79f9220ae047',\n",
       "  172034),\n",
       " ('0xe82d118d27eb70147be98058f3b545026306542bf030b093987a58c986408d32',\n",
       "  170770),\n",
       " ('0xa1d03000b4b32b4affd6e1b87db7b187e22565ebe63dfe38936a1e94074e1786',\n",
       "  170554),\n",
       " ('0xd4d2e8e079eb0f2255914b89b4c4c460ccdaa35765c0396201ab756df619f8eb',\n",
       "  170477),\n",
       " ('0x71a84be6c97830a62f1f159807456a2470dc4d0e2b24351492457fc352cefefe',\n",
       "  169903),\n",
       " ('0xa04d8b5f7a2795b7472cce491f4190f4fb2b48c441c148e8e68d6478dc075232',\n",
       "  169379),\n",
       " ('0xbe09edc955b93b0534675b42dbf1669fdaf1200853ad6b8fd896499122fcdcbd',\n",
       "  168495),\n",
       " ('0x27b0f3ecd9a37e5080e8f31828a829d9a86a6bbf32627a1fb620351e77ffa440',\n",
       "  168301),\n",
       " ('0x5c81d9a19adf4c0370efdf29a2b2953b7577a068210898f7dd4c53b20959ca66',\n",
       "  167798),\n",
       " ('0xd1211b5fe1b322777918be05d27911e2a9db5531331ac7363f72b8dafdccfd10',\n",
       "  167764),\n",
       " ('0x6c779c285a5d3695f3ebb7331128be063fed92e5e5cc1091f0226cd499bd8d85',\n",
       "  167642),\n",
       " ('0x093d00311016dd182dfdbeaaa784142846ad8006a5f08c66475d2a52c5967878',\n",
       "  166508),\n",
       " ('0xe0f33a6dc7733b8a13d3c331d31c7dafe70d81671dc6ba60fca3ad31258e94c2',\n",
       "  164968),\n",
       " ('0x05a5a5f88bff82a45e6b6fc2ae21f0d0def10a293d96d58163339b55df60d59b',\n",
       "  164663),\n",
       " ('0x91fdf4f1822d75747d425290a99ba5b8ea974dbbc4d8ed6eb1b0d1fc8331d157',\n",
       "  162646),\n",
       " ('0xcd749b3c1caea7f5f2ecc3d1270eb2f938819f015d4410e5e07f77cab47e9eb9',\n",
       "  161040),\n",
       " ('0x8a843ec52f6e232db06f9a89e22bc369cf5e6f420414faa6fd98237df50adc21',\n",
       "  159316),\n",
       " ('0x5764572fa1d162fa02bd8d90c50d138c922cc8276887507fe45c1d1e7b27b607',\n",
       "  156558),\n",
       " ('0x615c3bd11b27d453e98b39ca95be29ed1403d07eaedef4e3d6ff698de6e26d64',\n",
       "  155905),\n",
       " ('0x4ee30f3a3354d99f3a0f3473ce406e81db1e26b9f67caa2818df0b85a8d7de23',\n",
       "  154004),\n",
       " ('0x958904e92a1ec1148b5934ea98e5405513c55a1939284f56b8e1b24292308cbd',\n",
       "  153309),\n",
       " ('0x12f35834b4badcbd84f7be18e59dfb8b773456c64ffb061f9df3faf4bf25dc35',\n",
       "  152730),\n",
       " ('0x7248dcd6f45da1cd6dc0d709619ca42f4a095c102e8d5ac79395e3c8254125bb',\n",
       "  152205),\n",
       " ('0xacd28482df3713a0805dfb9dcacdd2ba44bfab37523acc69a6fe28b5cd74783c',\n",
       "  152196),\n",
       " ('0x04ffb30c837d1b9d3f8868c8c4c23d7f09845e33c55e844c8f4cde6b4c7142b9',\n",
       "  151605),\n",
       " ('0x6cdb84ed3b60397216fd80e2859054080987c38d2ed53fd0eeb844a6bd01f02f',\n",
       "  150879),\n",
       " ('0x5d7b11ed91a2db948338a0b7a42baff3601cd0da9c95b8958cc1f3215e03bc2e',\n",
       "  150160),\n",
       " ('0x92dd10810458c72c7c356abb000e6e2a2843329fb5562d38eaea6c80333d7bd4',\n",
       "  150028),\n",
       " ('0x4ff1eca26fa6b94cbc593379960e28bcd079ff9bb18fef20b09f28cd4b79d90d',\n",
       "  149762),\n",
       " ('0xaa0077198a8579f5ed4594e487cb241387159898eda759f85bf6f0d97ef51bf0',\n",
       "  149762),\n",
       " ('0xd343295d4864b1db25d0835d8abb17503effad7fd515814107a6d179dfb1e2dc',\n",
       "  149669),\n",
       " ('0xc7e40d9e238c33aacc1173a12e378dcd940893b326c681165489d66d4ebc94a1',\n",
       "  148904),\n",
       " ('0x3312798827ecc4919cf7cab8612da169ee40afb22b2971ba403358b49b47eb5d',\n",
       "  148510),\n",
       " ('0x1fedcb9749b75d857ba2a9ff9a6de26e3db9f6e71860125ff3a01ff48e480322',\n",
       "  148190),\n",
       " ('0x2080785db69563e63fea2f7dc5b4b0f3c02999ac782a79475f2e9d93c54a39cf',\n",
       "  147842),\n",
       " ('0x6fed26f851e1cfcf8735ce83485fc18d1865296f95495d1b56c6bdf37a757304',\n",
       "  147502),\n",
       " ('0xf9b0ba1032d0a49c4a60f30c49662923edcce0123f5712ddbe469ece660ba0f2',\n",
       "  147439),\n",
       " ('0x2716672a3f79208098546a5bfa9b828631423aab60a5922a7ffe9bf753294e0b',\n",
       "  147325),\n",
       " ('0xc70755669ab4b64ed34263ec3f66503a0eb8e7a86aaae271363dfa8dfd258163',\n",
       "  147313),\n",
       " ('0xa33808b9e91ea1fc46d0c190619506a7964ecb989eb73f7c8d31a9c512a998da',\n",
       "  146543),\n",
       " ('0x14d0dfed95db9cadd86780a02db73c44e03ddff25ac09f951b4790607256620a',\n",
       "  146158),\n",
       " ('0x16411c57c2afb4d69103d8a6cd41ebd1651f3f2f97f626501bf3a94766387589',\n",
       "  145977),\n",
       " ('0x2b684ce4992527e24f51ea404edd1ed91d2a87b43574770851db6375b7195af0',\n",
       "  145372),\n",
       " ('0xd78c441994d140edde34131051113479651c593ab83badebc537a347ba86b705',\n",
       "  144031),\n",
       " ('0x77525ce1ebf3d25db2f352ed977f649f9f365a5bd2bf09ba0dcda440a792426f',\n",
       "  143695),\n",
       " ('0xea98f7a0187a916083478137467a41c5d296dfafc14fea248f56dfac36d9f2ee',\n",
       "  143475),\n",
       " ('0xccc65c1299b12f82ee09e79eec46f26890b241ff8081d43ee00502a26767e5db',\n",
       "  142643),\n",
       " ('0x7cf0d1440dbb492aa1ac6e38ccaba42c06e550d5d7e2b25b1f298448933c7bf5',\n",
       "  141921),\n",
       " ('0xa6ebd15df0aba7e6fc38bbb167d165b0af6d19b7a14b777b5839f0132c90914c',\n",
       "  141156),\n",
       " ('0xbd9f5451aad3c62865aab6d620b7f50eaf58f23a4c78f413bb5e216a1084c3fd',\n",
       "  141016),\n",
       " ('0x092dceb83890f00d51c8af522876b7ea42f3fa423c9726d41423d2472dc1bfba',\n",
       "  140874),\n",
       " ('0x3efef8ee6c1c19436344ce157def27cb36593586384fa4d2599b669dbc33923d',\n",
       "  140320),\n",
       " ('0x48a474cf61f06943e499196d27240156832d9686a4cdc3ef236b4f493271b926',\n",
       "  140115),\n",
       " ('0xd12feb3b762c9cc829b77ed2d48c1c5fd28ddd0ffb6f7cc777c7ac59efc9c467',\n",
       "  139876),\n",
       " ('0x21ab8e2daeae6ff5eaf7870bd158aecc4ed0c53e7014335ff6f0c1b7af9eb5f9',\n",
       "  139657),\n",
       " ('0xff5adf6b22a6878f6417978cd41e7e7c0936863a1754bd8aa2ba0ec981451f3c',\n",
       "  139491),\n",
       " ('0x116bf290daccaea417f8b37dc9c69d142867edbdb01dd3d42ea8177a0eed618c',\n",
       "  139286),\n",
       " ('0xe244178bb88a9a2c46d854c4e088746c2de33ff97603449545fa8f0bed08b480',\n",
       "  138852),\n",
       " ('0xa5fcc72c426ada0fffb74eb18c8639bf3e2ee09a7b2d860227fd128e3f7c8a54',\n",
       "  138811),\n",
       " ('0x7914fe531102de5c8491e26fba0c17c8a6f76f48a1389b346d13163a80a13ed1',\n",
       "  137971),\n",
       " ('0x6747c6b39856bfe532b6cc9baf261e6e0fa1ce769ce3482f8c6e08f7333913d0',\n",
       "  137962),\n",
       " ('0xbea2b569a40278ef4cacde51831e1a0fafebdb2045741b4f69dd5ec406a9b990',\n",
       "  137805),\n",
       " ('0x5bf21d61c73cca2bda3faa8b562bdbc474661b960cd056da8e98de3bd8571569',\n",
       "  137694),\n",
       " ('0x914592c1749418e86b1aacf13ddcd4649c6171f81c117ab51039eef49dd810fc',\n",
       "  137563),\n",
       " ('0x26a0001cf4b48456f99ce1a1f49d730a6324b2e674d079485ffa40ef57a7a066',\n",
       "  137226),\n",
       " ('0x75689a1d486913ca272480d11c0afc0b5b42fced1d64b5e90e85800e8ba6cbe5',\n",
       "  137046),\n",
       " ('0xebb8c062909a9201883f89124e0f871291aef6920a274256a3553ca5b9598cb1',\n",
       "  136860),\n",
       " ('0xb7a5214894816cd57d765d24873b30a1341a59bc6f8b391d9c071029581d963b',\n",
       "  136722),\n",
       " ('0x1d1fdab5906b3a00028c725232cdeff45a42c5a45a3f4a54faeb3dddf6d14839',\n",
       "  136702),\n",
       " ('0x8f418d08ec3fbd01d652358a51d2928bf247c39bb55fd91e94f5801f87bdaa3c',\n",
       "  136644),\n",
       " ('0x63a7caf8da0ed304ba59497fbc60861e2ac9eab3ce84bc91baac02a89e12ca60',\n",
       "  136438),\n",
       " ('0x8a41069073975f2682f1cbd3e1f5ff28dcf14af65cbb65a2fca95b0de9d639c5',\n",
       "  136376),\n",
       " ('0x34d33b7c2e632295768b887c649e539b3c0d8c97a42a45c36d59889c1334b1b0',\n",
       "  136369),\n",
       " ('0x510ee2a206292649e36a73e519debd2866e0ae19a3cec7a70b82b1d62584e57a',\n",
       "  134956),\n",
       " ('0xe7f175aa22827d02218896af1a8beea6ded8e05d830cd0ffdeeb469b778c6812',\n",
       "  134179),\n",
       " ('0x5f12e5c9fe5e116f2f14887345a728d9930fbe85423a80f7467c76fdedb8564e',\n",
       "  133875),\n",
       " ('0x0d59104eaf88be4a05b2276cbd415713ee6ffdabd88039e1d2c00d946dc68214',\n",
       "  133364),\n",
       " ('0x3965896f4ba916f3871c3088e6bdc93b8a923b48ed64a345565bdc733c2bc1e9',\n",
       "  133196),\n",
       " ('0x7b49beaf0418aa64e16d5239fbb4bfc150acd346eda2ebde6b7c557a8c2b7d2b',\n",
       "  131927),\n",
       " ('0x9287c40edcd68c362c7c4139fe3489bbaaa27cf4de68be5c218a82d0f252e718',\n",
       "  128564),\n",
       " ('0xbb4050e63e66b614383ae77e0a8c00e48e7a0ee16f49ecd8f81af0619fd7d7f8',\n",
       "  128027),\n",
       " ('0x8e700b27a823c70b9ec3ae8b500a4670fbd1e1c5488e660a3c1c2a1a9d686189',\n",
       "  126613),\n",
       " ('0x60ced36eae9199bee9e65e410b92b7222ba16aa9d601a62ad7817d256ca47eb7',\n",
       "  126318),\n",
       " ('0xfabcd94f4f406ae31f6655e81312adf9fa9abf55e62fa8bc8b57a2dff6f122dc',\n",
       "  126036),\n",
       " ('0xadc25e90b7b6275b3e1646fb8ab614aa581ce61b176086f344e5cf6854bde91a',\n",
       "  124654),\n",
       " ('0xb850477539d006f12feb53c1ef7d1ebc967cb5424a39dd6c6b2da3c57af05695', 92634),\n",
       " ('0x944129c5bc668dfad1affa864aea944c80cc20740390445dec4d4841dceb5cff', 89098),\n",
       " ('0x23fe90652ac0334919b815791f2c4a237682f4e0a603554f43af1bd668e8bc89', 89079),\n",
       " ('0xf4db3f4edf86fbe45c02f1b6bbc4d5118a1a9ede00c917301522471f2bbfc739', 88434),\n",
       " ('0x5dd05192776c10805526416111ec6380c894df5eb471160ece4dd293f35129d2', 88277),\n",
       " ('0xd810c4cf2f09737a6f833f1ec51eaa5504cbc0afeeb883a21a7e1c91c8a597e4', 84350),\n",
       " ('0x682ff1a979c0dae820548c9cc8d7e59a47faba2a5d0feca01a69150206f5c82e', 83018),\n",
       " ('0x82586192cf58f438cfee7101afde68df11ab3be071a6f7c05d1a3e8506836ee2', 81997),\n",
       " ('0x779e250c5a96aea1b37b75618032993b83932b6c0a9db26ece3125c5c0ab777f', 81711),\n",
       " ('0xb89734985fddc3bc70404eaa6d62100ddeeea26c54c0ea55f66a089f79dde3ca', 81613),\n",
       " ('0xd6a9541d1d19912661948ad29f7887cdc9a259f95b7cf9b1b6c1d7f0bdcd7599', 78428),\n",
       " ('0xe9ee47fa9148b1ef9820dcb6504b423f99d0bc4243e917beee12018e234dbb48', 78337),\n",
       " ('0xba5b99e13143a8e0e82e36a4e417f593e4968dab017699f12ea6caa390c66c15', 77270),\n",
       " ('0x8ca03295d142b8ed1dc55adffdaec3bd24d4a9613a44c1aa983907f3dab5ec9d', 72365),\n",
       " ('0x85648cb05df3d2eb724e2806e00f3bb5b9a5d06440cde4cf241cc5eec4787c41', 72344),\n",
       " ('0x00b8f2f79d105b9c2da9a346a24ff7c9f1295d4760e11e93709d4e5f0165c2ef', 72054),\n",
       " ('0xd0e742caae098261a030feaed2f10d1a36646bdf0ac8d4a128bfb241ca87d8f5', 71506),\n",
       " ('0x26a68e276ab63195580c5100423c5db7177c9a0f15c74e5d8393812332b28836', 70806),\n",
       " ('0x9301f156dd6aa17b2165fb3834e9523413884bc8158af166b0e25e33f990dab2', 69951),\n",
       " ('0xf6235e1e4327a0490a561b11409e14f3526d624821cd301eaef4df5b7e704dcd', 69790),\n",
       " ('0xb61b7d4e91ce674ab3270e857f07e5ab227fa2a82c8b507189b0bc26fcbbf7f2', 67758),\n",
       " ('0x1568deb7f61440b48a56e1c44e3d023852002e693fb3e58a085b5fb6f3134e98', 67196),\n",
       " ('0xae1ebaebd42f44483c06cb0e8e7cdbc1f5aca52843b27017132ab8dbd8ef9158', 67102),\n",
       " ('0xdd13d9ecee26193e58fa8bdf00b0f84b6e715701aff5501fe753447f51c7fa2a', 64215),\n",
       " ('0xa9457a5344747a6c272de786419fc7a4e83fcf0f927ef9b1ce767452faa9b453', 63845),\n",
       " ('0xa040cd10e6b648014373e84569218937f986ca1ab11210ceb39e65c88cd005a3', 63724),\n",
       " ('0x9f220b762e40e2fc8166b15e64510a0843bb8328f48d1407a800ae1a63f577fd', 63369),\n",
       " ('0x714977397be501e7f854293401370ab89d8c9261f533d7bb551d0c29ade5755f', 63319),\n",
       " ('0x5905905404f0234cb6893581dc957b1a22570685b62fedc7ef4a2be8489e39a5', 63318),\n",
       " ('0xeaf6bc49418e8952389412368ae68561973d2d099a8e8e8cd410f6e10219b398', 63163),\n",
       " ('0x4218ee725798f5450583c29e20fa231c782b9f6880ef9170229235e9eb0442ef', 62299),\n",
       " ('0x88583c43b196ec86cee45345611b582108f1d6933ab688a7cae992a6baa552a6', 62245),\n",
       " ('0x0dabcc487407cab6a0d471f7c61a01e9e4729ae7426957fece376939f2875aa6', 61353),\n",
       " ('0xdcff47b93fb17a11411bda1809e22cba72e5131d31624e4c0f2b9dbee6811f5c', 61130),\n",
       " ('0x6fc671517d63e69232fafd581e9461c50150008aa61f5571d2767a150d24779c', 53609),\n",
       " ('0xfd3551e2a0effc5d900e522b79300f68c351ec930cb05b62f537842508feceff', 53520),\n",
       " ('0x34e6fd18754c358948415dcd53bd7c7b785efb2c6805cabd560ebfdc34d6bf23', 53402),\n",
       " ('0x9fd0e509ac0a27260328e49e4fe4cae5326b7e91c79699b4f306dfc3867749aa', 52340),\n",
       " ('0x40bd516a25f204ead0c80b20f37ddc6d277b748dbbc757ebb784df935e453814', 52265),\n",
       " ('0x7839f919ddd2c226ef0f050ce9250b0f1f41c1d94bf0ab8fdc9205b151fe3a2a', 51836),\n",
       " ('0xe07fb357b2b40e042ca58a36a1534afc33a1d313d4781ac433536bc884fc3c65', 51622),\n",
       " ('0x5e43fdcaa085476a7be4fb638dd57f7b3f6b708fbbbe1380e54da126c7a095d2', 51495),\n",
       " ('0xfb862e6810019e8bf3282a1e06d2077edf28424bfc830562e56b91db0a70e861', 51479),\n",
       " ('0x27cb60a5d7085e7784e703c9776cd5b67dd18b232ae827a3dbc46ce9e138b1e3', 51133),\n",
       " ('0xba6c3ff02486031723d426c9c9d357d55e15f062e176c05c7ecf0043dc4a454d', 51112),\n",
       " ('0xd2a579e30a876adb5928160613ebbef5c2f722496b6ec160cb0aead17d28cf62', 50946),\n",
       " ('0x5c0cecde14ec0b83c954b47c2d79348ce249019b83894f3938fc80b45e1232da', 50713),\n",
       " ('0x66b953a7cf4de9f6de54e6eb87ae291b5cc62f12c7fed68eba91043607883221', 50560),\n",
       " ('0x96a343b64ce92cf9ccbe3837903160bd0ae3ffe60740675dbe301e7e2c8f868f', 50183),\n",
       " ('0x84e841ad47a5ac7eae2c8ee87c05abc381f8e724598d939ae67060487268304f', 50003),\n",
       " ('0x399ccb013b49076b1ec98dd48fb088c061d3a1db45b528d8854d59c4dabe2336', 49717),\n",
       " ('0xa0e14b85197d73e825ac30f72b7d895d644ed06159a32a578f4efe47a2739b2f', 49531),\n",
       " ('0x6b001068a3aa7f58e0e334a1f717be2145eb4c7b3f3af479cd827020aa2993a6', 49504),\n",
       " ('0xfa78979a7afa0b0df5c885ebf3a0d46c3676152c6c95b482ed9e91c2ed2dcca5', 49452),\n",
       " ('0x915fbfdfb7a76fc518424c9238578ef262b94218cc8a8e6f7a8c2ad82c155d8b', 49411),\n",
       " ('0x6a578c12950f9367d2530b0324f06835bf9df5b957adcfe2bce1a240dcc09ae4', 49409),\n",
       " ('0x0a3a2db08cfb04b4fc4062d2d026e9727207ed8907d4d6524bbcc81c11f95f8f', 48531),\n",
       " ('0xb38d83757bca12527dbb514ed5a8135874a270a660613e19f270cdd42d364028', 48077),\n",
       " ('0x34acb132daa9931dc7cb15b06118fb7489d26a59098d925c69e3a98919d5795c', 47063),\n",
       " ('0x373dfa89fc9c5ccba8ed83fa3fa4f233edd270075b5f8f4f3902b408318d9d17', 46269),\n",
       " ('0xb0156cfc112bbe4275b0a1d6cacc3970affdad6057047b8cee79ba54d45446aa', 45999),\n",
       " ('0x3cf2b5b937fd52099f34775c93fae07bdc4b974d49d70f951b5fbdfefe5f08cf', 45549),\n",
       " ('0x7203289844e807781e8d2ec110d4b97a79a29944cae06a52dbe315a16381a2ae', 45230),\n",
       " ('0xf34389495435823ac0297d6a5aa832e64cc9a5363ccbf9282351d111843fceea', 45087),\n",
       " ('0x0d9abbaf6ca88097796756da94524c05a83b27ecafaa72c3f96e462cdd45db34', 44607),\n",
       " ('0x3ae4c725f7cb82d450b6fe8517178b2a0a51d1105beaad0adb421df1bc8f8cc4', 43392),\n",
       " ('0xcacbf6633c3fead35e6a745b87264cc629bfd6161ba5ca42c0c4fdf9cae41372', 43235),\n",
       " ('0xf3490c3b7e104ca0e04981fb99e27f55da7b7e5803a531f1367a7ea4fa161e89', 43190),\n",
       " ('0x3c63d4802591ca5665b3fb77a96c04c4180900756ef5848a9ca7b9fe4ca44b29', 42082),\n",
       " ('0x164c8d16cd374bb57d4e2b84bbbe888ec3d8870b201b9ee2e1fdf750fbddb981', 42036),\n",
       " ('0x5824d0b51cc435a49f6455ee2715216d6b958637218ed79e3e93c41af6bdef33', 41564),\n",
       " ('0x14e71f784e880170972572c2696ef53ef437700c637a151b5176a5827fe5b8bc', 41213),\n",
       " ('0x7b1cdb1868a060c05470b5639e363b969e8060bc4f9ec8fa9f3e6b3c98c9036e', 40939),\n",
       " ('0x535c3fbac183b517d74baa57bc5e5b26d0d1d2beabf6258b6686cf07765cdb96', 40884),\n",
       " ('0x9f733c1b17741d21facb15521748bcee5fe3e80c81be3b3895a0855fe69e3b9c', 39920),\n",
       " ('0x25925551755a381ed9e8045c38adeba58a5e4d29a9c28859a3ce7fc31291301d', 39865),\n",
       " ('0xf826b191370b606016d3b4fc7703ab84722fc57c254780805447d8b6442b18ce', 39671),\n",
       " ('0x36855f929318977db6ddbfa5e1ad0ea9f33938edb18902f716d132ab390a3298', 39445),\n",
       " ('0x0635c390acab1583c55d2ce16c8ad13e9a41c457b1930483e16f1d04e7a740ef', 39348),\n",
       " ('0x5fadddb34e4923b39339fe76c0368f1ada575bae4f131db7f134c7d194a6baf8', 39347),\n",
       " ('0x9f61432d5fdbe1190d47bae104c5cb2acaa1af8ba82e013b978d490f65e98fc9', 39072),\n",
       " ('0xf8d910598dd2994fbb7f90ad3124917e76d857665f1aea2cc65d0a867bf3c68d', 38922),\n",
       " ('0x1058ece61a8298e85603e01df12779d934efe40931794db9fbe40c8917017bf0', 38793),\n",
       " ('0xd94827c0b975d0aadca7bc0b5849800cf4349078a085d79f3f651cb2be2a2923', 38710),\n",
       " ('0x5ff06866e18751b76f5d649f7dc0bc97c3edd61526fcebe97ea74ef9f3cd5276', 38636),\n",
       " ('0xbdeb0ce3a4b30140d4bd8e0ea34111fde254c7bcf70461b4f53584c19932029c', 38551),\n",
       " ('0x99c4733785782bacacd80a282aa2a58967240de3bb784cdb6f61cf260408ba97', 38326),\n",
       " ('0x92be5f50ae2335b18185ba99366c9ddabaa0a7a082a8b44bb982d10afa099043', 38204),\n",
       " ('0x8f08ea2c047c8a9e73803080edd4001213cf39a5a905bbb0e9c4ec8421926c41', 37881),\n",
       " ('0x03ff69825f7948410b358825fcf4a2c353226bf3ed4098e34d15beff15573bc0', 37737),\n",
       " ('0xa8c82a4983ebdc6bdf6ba96f3dd7ad2ddce388d4dbeabfbcae1ac34569bccd7e', 37214),\n",
       " ('0xaf461de5be2aabe7bbce96d868cb9d775d596ae9da397b0764cd5fd1460b2428', 36587),\n",
       " ('0x5e0057920df9a278918e4de4ee1e6de7e2415d2af985e40a6c7a1a4b47a4ce01', 35455),\n",
       " ('0x0940cc002645856d7f94c0592e425ff2a05f9ff7b2dd80d78c96c89590650118', 34342),\n",
       " ('0x3a1f9a30c47d6060f3b732404f3a6b2ceba3da07be0505ef0f93b6dab7fa3185', 33158),\n",
       " ('0x37fc8a6ae60cff2e4e72fe9c0567f739bb9a78262c2ada236892fcbc7af2c32d', 32839),\n",
       " ('0x2aa672dfa8bcd3cdaef4b87f2b0de311b79ea61eb47ea8213f029d9f5f317a7a', 32649),\n",
       " ('0x76ff3c3e1750cfbe34dd62ed22c0c126168963d6acce2217acc4bcc7e9e623b7', 32503),\n",
       " ('0x2bedb66a499d45b6932304cf39364d7068b07e712ecbe1e2e1ab71bbe0f1c8fb', 31557),\n",
       " ('0x22d4c3ab56832de58c1774d1a0aeb61ba6dde8b16c0f8382f85d8935f3ee1f11', 31041),\n",
       " ('0x57989a52325d2e15bfce04d700721605c0cb02504baef73c648d609ce0512c72', 30222),\n",
       " ('0x655b11329d5131abb2b2f5a11bb221f6ab4930358d7d6587e24ab3bc4257ac9c', 29840),\n",
       " ('0x7cbb86cab3847047c6716dd4abb03779d64238f224926e5f72155ee8d3590ac7', 29530),\n",
       " ('0x331b67799a614c5e6197d706ecd220452a747c91d5d5d65ea687abaf7ee126ad', 29024),\n",
       " ('0x22244ef5a988b9231ad073d9fd87cd74f245895f1c0fb82fae52e6ff56cf81d7', 28719),\n",
       " ('0x3f43c84a863eb88afd0bc593290cd4bb8a9ce90f8105c15cf1b0252866e3e051', 28413),\n",
       " ('0xb8798bb81535a45813f55d07fcc030ac003a450b7b8177c16972cd37f60211bc', 28294),\n",
       " ('0xf946925e4845706bb38e1a6aa8f5911a1bde144e297f299a71a9e692fe47baa8', 27847),\n",
       " ('0xa998f2893c72eb87e26944759e8898140157f57038481ab742531856bcf9fe21', 27656),\n",
       " ('0x5bda062db9833f4910cdfc582945a869e8ec7cfd524c9facaff25912bfe2ee3c', 26828),\n",
       " ('0x297769cf598bbab5fcab80d1017c86f4dc4b7452e615bbd35b88c13b1cea48aa', 26790),\n",
       " ('0xc7fc3ca957ca5593f9b5ee7ac917e14a97ff7daa315928945146ce00770f5b7e', 26584),\n",
       " ('0x354645c337aaf60f8a90ff2846d9e62414b902fae553e30710e58a40bd98b9a9', 26404),\n",
       " ('0x2be5eddc521dcfd1f4e9f7cd78a79f26c14981cd8b92903ada31ec8f9693cf2c', 26352),\n",
       " ('0xe8bc33b7849bd1d7984a8d638444e2dd97b0dfa3f5f2c9dff28fcfe0247bdab3', 26246),\n",
       " ('0x83b16d0625de67f2e224d4e63f23dc10051db9bf94a88ff3184a9c26676a338e', 26234),\n",
       " ('0x3ea1c3b6b79983ab9e1e1a354152d8319f8e9426244e7b0a625b3a8d221b67e0', 26171),\n",
       " ('0x3be7368a662d1cf12fa4da768d626edbc013be0dc7b994fef2e24d9a54e4033a', 26141),\n",
       " ('0xfbf8cd22584d70171a95dca6b1dbfbd1a9d1ba3ee1d3e09e444024ecbc38ff1b', 25908),\n",
       " ('0x51504e0380b731108cb7755fd06e701f627c8e6d88b08983963ba90f5a89e4b0', 25897),\n",
       " ('0x4ac876f72bfe2385f4546412474990dd3bfa4648fabcb45163619d6a013fe592', 25854),\n",
       " ('0xd7c38a5af10a30d35b7f63564969097019aeb59e70a48d4364739ef8594f8f6c', 25797),\n",
       " ('0x94efecadcc6eec8daecec5bac10cca355b0c7e3d55236704cf6593c196e32d88', 25797),\n",
       " ('0x7843f2911dbc651f76eb2669bb4d8291fbfe5c4deff8a54b765670692e0510c4', 25672),\n",
       " ('0x825e1f2f3d156c731899752eeb7e9a553bfbd013e9cefcca43e60bc48550b27c', 25327),\n",
       " ('0x1d81a766d920ad6e5b01a289d5524c172c8f64830693601ee217c2dc23f808ab', 25045),\n",
       " ('0x25b75e41dda21350cf69cb3d843f1dd01cf53bd0fd23da0bcdf1add3fe997ac2', 24333),\n",
       " ('0x6bf2549bfe0699347d2ceb556339d3c4f9b1ccda71e954cf12decd5a438b82ed', 24273),\n",
       " ('0x4c75f39a125a8e7122d62aee61f04e5a8251f0278f41cc811b4c9fb6d9173458', 24207),\n",
       " ('0x6f97482550d53c309c893d748923c10e2d1dadd771fcfc9f2bdd1e5307311a15', 24112),\n",
       " ('0xe80e8f5e41070cbd992625b4edc829bbbcd2392e83b4941d8c17bbd829477358', 23843),\n",
       " ('0x4c11c2f9aa75ec392f4881d4b663d25b393085322400226aca50c011dc84644e', 23372),\n",
       " ('0x540cbc97de29a2d5888ba227be5d97b1c4992bb1b2547ccbfedfacc3a3c6bce0', 23211),\n",
       " ('0x4c3fac6f95d0602dca5e018d2cd19f13d4ff65965abfa9d19b4e782778925282', 22909),\n",
       " ('0xf4db626a5c160898ec4be843d4fd03f7cc4899046d8be41cb93c1cebee24e5e0', 22837),\n",
       " ('0xf24f389b80f1e056c8f308802767d77060cbeecf17afd8d379ea71b3ded6ebb5', 22509),\n",
       " ('0x5245f8e445cef69328fbccb06d60706b9268200f29632ef3afc267ab436405af', 22478),\n",
       " ('0x4af0134cf2fad93af6f255882f4c38847e38cfa083aaa29e37e9a9a669b7d913', 22394),\n",
       " ('0xe45387d12aba236e901aecd85aadb2b648fe9379b3afb21d7a0877deb428c54b', 22315),\n",
       " ('0x5247cecaf7b6807c7890484073e4dc5b72bc1ad4e7a2479494952e9e4c3a1aa3', 22112),\n",
       " ('0x1281a058914a2fcf91b45098a8be812da69fc4fe46158a07ed02225f37816818', 22011),\n",
       " ('0x727723d66fe020f90d63159a33a61a1cdc3c36d2a0df9b27ef910ddea2a63f18', 21962),\n",
       " ('0x2012049c10ea411c7fcb99d0aacf7348084313e7b78c2170ffb5d93542175319', 21941),\n",
       " ('0x01977ccdc3011355a131642d06e9a88736f14c2c1e761d6657a477878e9e4d9e', 21866),\n",
       " ('0xc36dbb55b1cba18b1b81b8aaacb98d8e391f65bc0fac9141bbf1a0b0b55208f2', 21802),\n",
       " ('0x57ba4dcf3dafad0dba6839960e496fcf612f7bf4bcf9e32aefdef8aa2aeb9033', 21681),\n",
       " ('0x9e3d7fcece797ff72cf5ef34b1a7d6e8dc8239232391a5dab68a170c510f50d0', 21554),\n",
       " ('0xcb25527c05eabe59ec0a4e2e1c8abe1269de1113f946ba58250fd9c224ba6c88', 21536),\n",
       " ('0x070a960cf0d8824badc07f0478040a16e92959c71b6e1ca49e67d96714dabc42', 21353),\n",
       " ('0x71cf8eefa2b242043e1335fbbe11c8830ff5a40c3ad067865eadea1312525769', 21328),\n",
       " ('0xde90f4d29c4c5dd55cba023b29bdde8c49e37f70c3398668a78e2f173a61b4e6', 21321),\n",
       " ('0xd512345eb6c9b7bbf57b28a8b4f7dc46d31ab6c19ac8ad5de4605fa52fcb9e98', 21086),\n",
       " ('0xb387ad47abdbf95c2c3f285db3dd3ce8cf2bab4288250c813a38d3a89089303d', 20982),\n",
       " ('0xc0ea4c6036678ffd2cb9209683a814c98b4a7292fa09f2517e940c54c494c90a', 20777),\n",
       " ('0xf451dc98fa21d6dea83a7062cd5082ba57b3ed4861c2a3886b82e71e057380bb', 20756),\n",
       " ('0x1a2036dbf130685400071d8079a1b77c133f882d57d2121c027f490d6825a78c', 20293),\n",
       " ('0x61a4311cc427b02bf6f69a7f1d262b7a50998d37916564934194fb1eefee8a6e', 20178),\n",
       " ('0x7572d14df9604571fa6b58827c7512d94fca09f24541202cd4a976f822df8f54', 19824),\n",
       " ('0x4ed98bf0a5018d9ff80780d97d76a7fe9ba11c6c9cd01ab336936d9f400f3087', 19478),\n",
       " ('0x8e7ef50a5d0e27635db8d82bae9d0f9e991ca5188b3411ee62814559ad5f7aaa', 19465),\n",
       " ('0x70a8c246bff9f2c9ca73208fd5ce0411086e6d899a46895336617793978e99ff', 18950),\n",
       " ('0x0d9fd9f880615a320fa1294264d317228f0479d7f7f146f5c9683f1cb27f814b', 18899),\n",
       " ('0xc17bc863a09c72152c1ac25d09fcee4748b58eb2e10e70886e20e77ad4d8fad0', 18861),\n",
       " ('0xe2302872975225deced5b5d35f6e520740f59dc65c8d78a234121a0a1e1efcc2', 18769),\n",
       " ('0x6b7f42d972d241163917c6bcfc957f14cddbd161e01bf24434d1cf679211060b', 18758),\n",
       " ('0xc02a8620e55e38c2596f419df965d69701b395d8aeff492a3bced32e4c1d77cb', 18737),\n",
       " ('0x881849ef110e3097c812cc69249f17680aa90606aac98f9d4aaf38e12b9162a0', 18711),\n",
       " ('0x84deca82139320b2570f04211b249e37b8a7602b4a0ed70e6fa772c9f6e94550', 18710),\n",
       " ('0xc99797495dabf5d69b46e583cf90e4bc2858eda07886f6bbbc2ddc40aa219869', 18555),\n",
       " ('0x46cf72da892eb216edc1b7fe2f24f7491d8c37344b2b1f67632fa6950be034f7', 18546),\n",
       " ('0x3151691cde313ff87ff4024b75a40296c4b1244a37efdd6f10d53c6589c9bfde', 18495),\n",
       " ('0xc882bf5f0f0f801591bfd5f0273388ea154654220f472aa4a06fd1fe6b94bb53', 18379),\n",
       " ('0xd981f6e45a0b16f5f2a831c99bde8ee86348ecffbc7bb44e755bc41d27019d4a', 18337),\n",
       " ('0x0908edd135f544cdf93dd628bf9813b0f3af517c6d87838a42639885b8bb9fb3', 18303),\n",
       " ('0xf293783f9d56bcc0524ed3e0a84ef8aa9b2aa7688a245d4c8055ede8a1b4e2e6', 18293),\n",
       " ('0x22012b7a25907379133a599b89b96572567045d04b26f85f1b4990c5cdb31c7a', 18290),\n",
       " ('0xb8fafe7e097e6620b6d236633029e1bf1327b3a4e3cafcb0d89892b84bde9d72', 18181),\n",
       " ('0x93ba405db28122f4d7c1501bb06f9d606320caee1fb4e73dd1baaf05e8d02c01', 18121),\n",
       " ('0x6c4a78cb00f613cdfe49e47c17cb83e74776873a789ea2553c0b1014b0288ae1', 18075),\n",
       " ('0x54aef9378fdb7addaa3b0ec0fbeb7884b4652cff4023abec69f2ac4ac6babdc0', 18064),\n",
       " ('0x678e4a657f451b1acd6247618e6beb6d258e5ab9eb9122ed276e2486a9d907ee', 18050),\n",
       " ('0x97f1ffcf2fb02b4adb55807641dc1f8aecceeeed7c446dfebbd63dbf2a636fa4', 18045),\n",
       " ('0x029f9208ec4560c5c4868bcf1a5633ffb15aa69f5000fbaa22146632b440188a', 18001),\n",
       " ('0x3860f7700f2e1d6433b013114b0ff95088c09026b39321ca92c8a55fdb33d1e0', 17997),\n",
       " ('0x14dceb2c20209f29b536c1d9e7cd56445a66d20df9d1009f5024f9e7dcc6aab2', 17922),\n",
       " ('0x0aca1e2dd1d7ac5f6b687fe68fc8ed11affbb0ea261511736cc50498d55006a2', 17890),\n",
       " ('0x43ed0a4748cd1a48776ced55cbbdf5c7f9d32366ca4fcf7c64a43a8d94de7acd', 17828),\n",
       " ('0xe213f7a4e3093ac66bc614b12c83976d5b075b58380edccdffd58349b82a0a1f', 17799),\n",
       " ('0x2dad7dda8ad254908940311fd95d7bde31aceb4183133b1d7be43d76ea1fb55d', 17789),\n",
       " ('0x6b89b74c259d2cc5979c46be6cfe2ae20f9485eee728a628f56930db644da985', 17692),\n",
       " ('0xd8a400fc731b6e807f4d89aa1fa47225f0dfaaa8fc49ef04b46b11b98fbfa15f', 17663),\n",
       " ('0xf6da417983653f7e7f5560a8e16ad77d5e25533bba9157abfd222347b40d09d0', 17658),\n",
       " ('0xa2ca8fdbac4c8279db3e641ffc60393aa2bcfdf832bd1734253e3db8c2c001de', 17647),\n",
       " ('0x868a55f6dd728cde516cce81f33cfe647ab39c9b24b4cb659ab4fa31df071dc6', 17577),\n",
       " ('0x4ddcb7cc7764e5ca54a1e5a7e09a3300398c38f7133fb0506da6b0071b610170', 17574),\n",
       " ('0x2d994fff211b0d0589661fc8b00e506763d57540e126e4b7c1348d557ace6a28', 17537),\n",
       " ('0x1c9005e1f046ef4b095d720ceb312a7e831fb6d86be566465f58b84361712c6c', 17527),\n",
       " ('0xb4be8b07d53cd5e865ee78543f9dff52241fdb22da4970fb5d637ba025cf2a61', 17515),\n",
       " ('0x64ae7b7e4670f045588f81fcd4f35822aebaa02c3b4bc459696e55ed73cb5536', 17433),\n",
       " ('0x9abaac4d02728258a41777cce8c1803403072d8116306f95317f89a7cb181ec6', 17395),\n",
       " ('0x4fbce74026a978be93aabf653ad50ace270abf7f5c035e4874a21a17be38c07b', 17378),\n",
       " ('0x4b9b9a636554d52a2b925f6aa40eb7ad626181a63f9d0a62c4a0537302d53d87', 17364),\n",
       " ('0xf1191061060d8924405b366468d2ce36fbc28653ddaef6678216924d37570e9e', 17341),\n",
       " ('0x44e5dfaa684ea711bb8cfaef43845b917044dc920e7a1c78d8afed201a416f52', 17325),\n",
       " ('0x72e4eae44f212f81bdea4880b15cbff968a2257849e3aa4dc95bd3f039a3bdd3', 17310),\n",
       " ('0xb5a684d8294e3978001eafd80a6096e3f9b8e925879f83e9ea67a03644877a50', 17284),\n",
       " ('0xfd973e0ea26cee54a45f9894ac9be82b87dc2e1f2aa73ba2c3eba83f47201ff4', 17276),\n",
       " ('0xfc76965b400c55344ca9aa3134c17492b0c4585671965626fd42a19a76beeaca', 17253),\n",
       " ('0x7103fe55dd62c506860e27e539243521c5f981b30fe819a5d473cfca9f830ae2', 17243),\n",
       " ('0xd33c2db7a567d3bd9d8c02b826c8c2130c98bf8504de56c4864e9cbfa30711c2', 17194),\n",
       " ('0xb413a17004875443fa3dcf90b07e249b5c4592a760b6daf7b06909131f9fc30c', 17179),\n",
       " ('0xaa70ce32349090c4a0732188cca3a4a52c4ad381fff6b85cebd1615d1147b41c', 17154),\n",
       " ('0x9ae13a0a2610f70bcb9e946777c6a6add1c42db3b600514577f2abf23061d2ae', 17145),\n",
       " ('0xf9706ff43ce8e3d3c887e98e6e2b59fdce7d9dc371245464e91f8b03df210e0a', 17108),\n",
       " ('0x732909cb1f42a2e1c178ab63c321465cc2bd271c6e192aaf2ddeb358b37a6913', 17090),\n",
       " ('0x47d78e0fcac0ad664516c7bae6dc93a15d3ed15dfff96b1ab5ab6637dc680d18', 17068),\n",
       " ('0x8ca12ce0c337ef44a7301455197ece2948c9223528a4197ad3ede6960caa6f4a', 17033),\n",
       " ('0x2a76127c0059f06f9aef7f8baeca76a6d9c69d3b44e2d88087be0dd3b59b763a', 17018),\n",
       " ('0x833eca942053ffcaecbedd6c3b0d5f2392f1ad868e57f1babe9b40a2afedaaa3', 16995),\n",
       " ('0x96e92f4bfd50d08f61dae5f36440b9bc2fbad67ccf8e5b210268663f9261c159', 16981),\n",
       " ('0xc0be2141c5623d9233228b715def014050b5e224a6f8ec2c5ea67a15ba5cd8cb', 16981),\n",
       " ('0x4579b562a4ea07c52871f724a8baf156514a97384e9427156d04fb6f0ae91515', 16976),\n",
       " ('0x355c0fe72c7fccaaf4eb41562a5ec25e3ca9f5afb392ca1d8c1a65a41c82044d', 16933),\n",
       " ('0x871bf6b01d337db95c1ac85e6ea4c4d16391bcfa3d5091453f2bc5ff467a50cc', 16927),\n",
       " ('0x569a161ff9e3684ad5fd767b72639a389ed6f58a838a3ab1b57ccd309058e026', 16916),\n",
       " ('0xb370d4093ca52b41e7f6f28562359174129b3e48949fc2e731e0eef77062f7db', 16896),\n",
       " ('0xad923a4ff0ea227bd9e8693b64125a945ad27d7ccd8ae9e5ecf79b76f9b4a52a', 16872),\n",
       " ('0xcb9b80959be0ce7f7b1ea8863bac901181b214f8df925c970f41e3adea8a0b8b', 16845),\n",
       " ('0xb1f8b1814d9c09760daa4d7e9fa90d906b2c9ff5fbd20c8d0f5793c4f5cc4999', 16826),\n",
       " ('0x61a9b65642902868755b51fc1a7cf2a1c95ced6cf41931a16c984a9ee4c75aa1', 16818),\n",
       " ('0x2ca200dbcc6eabbee282e82c458be2a7188c47dc4e71979aa3b04f1f91dd1886', 16787),\n",
       " ('0x7c3c3c7386961fe79dea98e8acef576a57b234e53d14e21b1b8bb51baed5e8a4', 16780),\n",
       " ('0xa34dd5c4a843f687a901f217dc7b9681a0eeec15b3930bd3222f49c860860b1c', 16682),\n",
       " ('0x890cfaa5bb3f0d9c8b220e45e31efde8863538fcfa3232bd982fc9320b86f38f', 16668),\n",
       " ('0xc3c8768fa4bbdc12eea40c6cdd0d3d9f61847142a37b17cafcab3fdac7ce32d2', 16631),\n",
       " ('0x8a511e833021b64d63bf518eb9ff447216d83dac9235243f3a139f699d1f98ee', 16616),\n",
       " ('0xde072efefadba0973d05a58f56d31046874ab50294633359599cd59faa7afbab', 16609),\n",
       " ('0xea8b9cc41076ba43c8a66dfd40ce539b3126af049639babce6c1fa3e62585b79', 16593),\n",
       " ('0x2d95f68ace3009c73bdc7b3715c2ede496dc8466e42dc047fb092e45a389e29f', 16587),\n",
       " ('0x478169c0840488588b31d7e23b889b5f9442057db9c7a5b9b6cfdd61fe7108ff', 16584),\n",
       " ('0xa5cd3d931a2884bd6aa6763699b2c52c6bb5129eefb0d33d930491d6375294f0', 16579),\n",
       " ('0x51dc3882817d8a67d2550f8f9bd6f9b847b9dbfa3e2e5733b3d80ef9757fcfc6', 16486),\n",
       " ('0x51d67ef69e901b34f1d111f2cd5d582c59cffa8d70b7939023febd20f7613b88', 16482),\n",
       " ('0xf92c5647c7f60a4a3db994b4953fc4408f5946cafdc0cebcd4c5924f40e04d36', 16462),\n",
       " ('0x40604b0134f09996041ae087308a5d67ef601943d5f9e556eb5a6c7363c9563e', 16453),\n",
       " ('0xce4a31c915826aa857ab730d8b84e9c5bdd171e0c10f06b70cfffdadbf554b6c', 16449),\n",
       " ('0x6709edbc057b630e80c8bd6dcd4bb5a159256a03a1aaf8e8c25bb3f523fe52a0', 16384),\n",
       " ('0xbeeb43ae2c86bc38c06f9878070350c9b22e08ec79e906ce1b8704fea0cb1f24', 16366),\n",
       " ('0xc1b258de8d634ec1dbbe6a7336834b24fbe4046f8376ac14b841e8cbfc6a607d', 16364),\n",
       " ('0xf6bc25809a931910ea490b86b3c847dc30e09fc0d278ebf0bcdd48f4868e35c1', 16363),\n",
       " ('0x4b91ed7efdedf61ff6e263007b6810e745bc5609e489de2190ed13ff841bc8c2', 16357),\n",
       " ('0xf4aec3fbab5096752be96f0e5b522f37318c1902cf8b897b049b7a94d478de73', 16354),\n",
       " ('0xe91fdee9af11dbd0f562f24f2ff634ec9b4715d7a9b8e032caf463a493d97695', 16311),\n",
       " ('0xb81842bee7514dc270a7ba1d57766ac99fcbf774d02745de335037247f5b97bf', 16301),\n",
       " ('0x2060bdfca68c00be3478e23b2b749b684e0034ee79d692023e6551f1a44615ae', 16281),\n",
       " ('0x774c478f3adf4b238c73180b5adad589e008c6857b5e514ae5213ecf67c5c81f', 16268),\n",
       " ('0x5f232a89e10d67df3aad2907e8dce3bec9708596929b3254055cf37499969b89', 16240),\n",
       " ('0x9d7f0e85fd3f85238888dbb55151bfe4f9b7afdef418cf33128071c755281dc7', 16238),\n",
       " ('0xe567b815fe4e30044aa8f1241fdc5042d712ad3e2cd136f9aaf8aeb09a89a4e7', 16209),\n",
       " ('0x715be769f6928edc8df795dd6a4b492456907afdb8c3f1d2adb0f31d2c48a4d3', 16178),\n",
       " ('0xe2fa3720a6ef44c285622391723389df2ddc6f5ac96fbec51c98ded36937424e', 16163),\n",
       " ('0x743ae6001bb0fdfa9a8c4475a2489c20917a79084725f0101ac7c1e7f0cf27c6', 16152),\n",
       " ('0x2c71c8f2e17fd2f2cc403750c65bfba464b8af45ee6c53c40961c8dad4987c8a', 16152),\n",
       " ('0x7f77802628767dbbe50451037b797f6f7feb7ad97ad8412b681bc1a086539ddf', 16148),\n",
       " ('0xdc35e859c48f45ea152a870b2cdb59274bd98da489c324345ec883785c2de715', 16134),\n",
       " ('0x7e6175c21342dbd88dc5b0dabf2d0a86339e3ef3f199fc7d778a9a6f05ed0df9', 16126),\n",
       " ('0xb0bfe6dcf39287e5af18fcd0cc3ed80506314a2f89735379d597f430ae5bd5c7', 16110),\n",
       " ('0x4bb2ac5546101e39ea0a0a11a689e967c8720814e5ca804d112bd55cc4072d0c', 16079),\n",
       " ('0xcebb97fa8e551a79e7aae28a135ec0fd26fcb88e8262375f4b4e81ef7047e665', 16069),\n",
       " ('0xb80935da09635bb06455d3db1a34aac2af287b621c10745b0ea7087d7fdfeccc', 16067),\n",
       " ('0xef5eed1bdda3a7d6ea2b37b09c7de1960530bb54f24ddc6c7b002447251b6bb4', 16064),\n",
       " ('0x22eb6c5cdaf3731d4d6e0f4bb179e4cf6fa87470e87323f373f0bb01baceb9af', 15980),\n",
       " ('0x532f58b8e1ac4d4f306232b76537c413398c7b9a8d9be334fb89911881a58b33', 15973),\n",
       " ('0xfeb1832a75e2ef47dea4b08509a16e4e9176e9d2a962c9466c5d345b37428384', 15926),\n",
       " ('0xf9261916c696ce2d793af41b7fe556896ed1ff7a8330b7d0489d5567ebefe3ba', 15878),\n",
       " ('0x03e61c8225487f2ff6305c91ce37af31853e6c09f557ad6c10db188d21e85f24', 15873),\n",
       " ('0x65b77de92c88a6046a9179abe8e67d5c0e9e4203eace4425aac215dbb7d5a885', 15854),\n",
       " ('0x7c75d57e2539be2e764dcad851b26fc38b300af3526b179f0146fb3fc139532e', 15852),\n",
       " ('0x8492e1a2fa1a487c498140688deba6ec55b0af03df803faa80f84923e213fb13', 15848),\n",
       " ('0x4ecfa9a9d0abff7a1bebfa257908fc9e3ec072c6fdb40af44cf029c35493ef2c', 15783),\n",
       " ('0x1b816c12b6f547a1982198ffd0e36412390b05828b560c9edee4e8a6903c4882', 15760),\n",
       " ('0xe90bca444e6cc5977eab75e0ce2eeb4d4d752ffc4d2e93c7246e23c916e436d5', 15748),\n",
       " ('0x82becb89a519f2ddb75811fbcc3b47ae8349003c126eea9039bbcef981852cb2', 15649),\n",
       " ('0x05182d6092e7a075b94ab937a6cd57968f36c6ac225196561a58b437e591065f', 15606),\n",
       " ('0x63253d883265c0f39c71a4d285009a82a774e8c997ffb9e36095bdc234caade8', 15589),\n",
       " ('0x6045a328e60be9369c4cd87a6b444d88fa1e1e3862d240f244e4190414e8f132', 15567),\n",
       " ('0x0777eb4701023508c03825e2779e6189326ed9b3d1eb6e187d1f6e0f8d154605', 15561),\n",
       " ('0x255e8c54b36934bbfdc2be5913480c1dca7603a976dc05cf16554242b19c38d1', 15556),\n",
       " ('0xad27c5793bbc95ca0bc7f402e2c328b25b8664a9b99d9fe1a07859aaed9bf633', 15503),\n",
       " ('0x938268e18067861a530c1e6d8f087baa2bfd7b743f7c2febc7c243cfd4fc125d', 15494),\n",
       " ('0x5766ada34f3089572896e9f2b4fad17e6856dc4126ca9be3fcef3303bd72bfb0', 15314),\n",
       " ('0x8e6bfd147ad76b8a3466f6a1184bac68a568c20532f9d1d9bfda7bbac2f468c2', 15263),\n",
       " ('0x5ad7208d9ccad93dbc96abc12bfeffcfe83e96b9782e5135727cdaaf494d70f3', 15219),\n",
       " ('0x689ffe324d4ede2673bb70d41b190a7359fb4410d72c7d85740c7abf3a71e91f', 15190),\n",
       " ('0x7057a6311c791ebd57b93acb4a231dfd4fb92755fc02fa1de4723d0a5510d2ed', 15106),\n",
       " ('0x9d7296b06a66d6d6b4c9e85051477a4d62d066e3f56c248bcc85cbea00f7c7a4', 15071),\n",
       " ('0xd41eebb9d9150f1d4ec106e8117809b78a4841641a18cd0ad47b5d31f6b6bf86', 15067),\n",
       " ('0x953f0edc544fe50e68a0aa19d31542d15458bc3394478a31a294f748198fa906', 15060),\n",
       " ('0x9ae6e509edb18e212cc24eb7dd5be42fbc8d5a13cbeddbf42107a74ea1a1d971', 14970),\n",
       " ('0x6a9cad8d631b3d447fbc80a787abfd3fcdd2eee808d7ac56ac00a3a2bd3c5cc8', 14864),\n",
       " ('0xb5da30d8d949c3f00f4a34cd68cdddba9e64dfaf47f75ab3bd8d164fcd001279', 14720),\n",
       " ('0x6dfc0cf7c95e91cfa9643a2621617c8210079aa2d44bdf8574ff1425a9ae52f0', 14660),\n",
       " ('0x4a8f0fa77abd1180353ff55fd36368b7c2f294105b7620491959d8dd80892485', 14599),\n",
       " ('0xd08ad5d5ce7439f5e9fbc59b1d5c94b98deb01e802a0d718e7cac743a4a06627', 14571),\n",
       " ('0x71f465ebc109ddbda430a6a0312a43c324d0653624eb22e126e7503681dceb10', 14524),\n",
       " ('0xa6810a8f03414a626d72311cba3d7f3fb2903e21689ee585c929b4c4989d4212', 14490),\n",
       " ('0x1751d8de3c549ee99fbc9c1286d9575c482c3e639500dcc027455c8742d48bc9', 14455),\n",
       " ('0x89c49753bf91a6cf246751fd819d272aad48e15793618278416eb4726b6c4ca1', 14441),\n",
       " ('0x5c5de0a7cb87170f6b0f28da20c079f9c89350125fffa9f80e0f60cc3c9d43ea', 14433),\n",
       " ('0x53728c0416a9063bf833f90c3b3169fa4387e66549d5eb2b7ed2747bfe7c23fc', 14432),\n",
       " ('0x556aa2b8439dba5929e613fb5515279d8396621e71fba058912434a60751fbd4', 14383),\n",
       " ('0x6cc31c08dd7b59a516934fbab9f5fd355d9c92d5a438cc9474df65b9f7edd545', 14359),\n",
       " ('0x638f2adbeded3a0409ea238610753a86c78d4c4cc5569565139c350f58ba944b', 14352),\n",
       " ('0x9b7173e3f91ba3cab15dbe2d6d241de2e58b027612c690f00609d6e4fb422748', 14312),\n",
       " ('0xeb88691a23f3b1f9dfb4d2fb575fa19e75050a67b80b23eff91c0d430a177bd1', 14308),\n",
       " ('0x225c33775892d959715f85e0c3edb61966fe7e67b1dd474d0ee28fea533dc2c9', 14307),\n",
       " ('0x1720f1321a94a97ba0c23a612d543465cbf6f31aa80c8dc0aa016d6285bd0c03', 14289),\n",
       " ('0xb112684943ef900f2918ccbc4de3bb3091869eaeb6b3c15cc26805c17cb6a9f6', 14288),\n",
       " ('0x05636d75aae6e99be9c79a6337603f69213d34c3cf0b518842aa994f2ec790bf', 14267),\n",
       " ('0x8023477ae0364be4df4a24b5ef633bdd49121db0ceeacff6322872d557c7239b', 14246),\n",
       " ('0x7568e17d2d7078686255a8fadf563e1f072abae0b79188a5b5b76852a6ebd63f', 14238),\n",
       " ('0x4ec24a25d7d3af6c4d1a9782d791fd1fe2323527d3d8cb23b7c8c41f38d7e462', 14204),\n",
       " ('0xe97adad42eb8c0072edee33de2c68191cd2e8a0ae615ab94ebb60bdc73a7d3f2', 14194),\n",
       " ('0x9899315996ad444e94b14b7f039d872ee9d045c68751c98787e3699f22fe77b9', 14183),\n",
       " ('0x8d9f64ad44887ec43ecba44ca605912ab541ccff49012691f4a1e0c1b7ec9b05', 14164),\n",
       " ('0xecd62eb5dca71e47e7e1d0e88f8e6127857c051bea190fe0eb665636b33caa62', 14159),\n",
       " ('0xe77196bd23ce671930811755d59ae9a285c9e00909b8857181bc327640c049e3', 14091),\n",
       " ('0xbf4e3b4abfc10594ab3b9895d398c7c672b9526eeaaa672df1ae281c2a580091', 14076),\n",
       " ('0xbd8e10f386eed820cc5fe8c5a984f16f6b8e5a5cef3f24a3a3748055538d4db2', 14075),\n",
       " ('0x37d5038262ef8a6eac1d6e107a5d8c80e0e05e278af5598064ba7c473fd66ff0', 14047),\n",
       " ('0x2a7436c5bebeaee1a369e484a212a183da549dfce0393d6dc1f84837e8c5c79d', 14043),\n",
       " ('0xe290c12c3871de18c7be44d0ce19e3fe46401adbdd9fa25077629cb356889be2', 14040),\n",
       " ('0xd8a8bdf3692666195895efbe0e885887c73b614273d6f0bd584c68afa9c11600', 14032),\n",
       " ('0x06feed6d71d33bb3e10d4b987630eabd407bf9f3854152231764a317b33a7559', 14030),\n",
       " ('0x36d5040034131d5a52e9c482e149dde4d5b3083dce8b9eb990d07d9d99b927b4', 14027),\n",
       " ('0xeabcaf98f6cc84a8b3a244d66c44823149712569432877bb89c0b66c5bd00b39', 14015),\n",
       " ('0xf34db3fe2401c061e822177856e55c9df34d065610c29d1ebac1513c3c8eb9ee', 14012),\n",
       " ('0x7e61744629fce7787281905b4d5984b39f9cbe83fbe2dd05d8b77697205ce0ce', 14002),\n",
       " ('0x6cee22e2a5651aa003e3dda2ada5dcd91478b5b8372c5b6a4a15498a30202e31', 13988),\n",
       " ('0x7fcc9c9537a7061bae91a25b9dfa4c995a4618e1d7bb9b034b79ab5c214fb3e8', 13982),\n",
       " ('0x659d9d54c19fb6b00e1b6061331d3d7d5d5ceab552c76e24dc1a6fe9a15d2c8d', 13952),\n",
       " ('0x47f7044b9445c00ad1f9679e9d6e054b803a4ea995189ebb7b8343a1f3ee74fc', 13946),\n",
       " ('0xe98be83b9b3873aef54f8a19373afdc95028342cc9f2757af6099570034b093e', 13915),\n",
       " ('0x5acfa057922d6be17dcbd4c40687a867fa942835b404f1f32c870221b50dc4f2', 13900),\n",
       " ('0xd5b6e1d968970544ddf4e41d3674241cb207a22c6b868eba9c383b100df4a744', 13888),\n",
       " ('0x60d44523a63e022fcca2f54aa3b84977e49fec0bdf15c9a298122422f6dd5902', 13821),\n",
       " ('0xb7f2a599086e7d0fdfde085f5760b15c9980ca0dfa05c4b3432e2ae9aecd5487', 13799),\n",
       " ('0xc0de9efdc4f3449a48e5a445c93dab2f3aad6fb01d0176b2f0b5ed65fd316665', 13766),\n",
       " ('0x340d436e35920d2588b710ed1ef34bd1df8c1600fd5229719c6e720a0b867cfd', 13734),\n",
       " ('0xe499373c896cdbc50c133519544a933ce1dc6486526ed7d834a85a847859e976', 13732),\n",
       " ('0x34c073fe36866d1cb6ebca57e6b27dd60ee1f8e44f3bf85f26c5f0500dd05a9c', 13727),\n",
       " ('0x67c4a399876f82dda6d577faaa3fd2c91bdc91f286fee6e950d6c3bf567ba262', 13705),\n",
       " ('0x902ea597ca1c6cf6b2aaa702e1808c33c5b10ea91c71b51ffc6a0793bd2ebfd3', 13703),\n",
       " ('0xcf871243191a3e0672caa7b7a29ee1be8f917288d844fc9345f56b777a595659', 13697),\n",
       " ('0x474cbf8c806f30d016ea4ca0ad3fb5605391df6a3fa34a1aead7df61a9e4cc28', 13651),\n",
       " ('0x04e7059fc5b2c33d4e4554d68d27ef67c1f6d9d310b07493116bdfbf15c25bbc', 13637),\n",
       " ('0x001a41f25e7c6689ea5f1b03d234cd9286af0025d14f14f0eefc16515a3217b9', 13566),\n",
       " ('0x6951c9f971fc7cf939ef9f3b6ce49494a08c53bd617700b5ea46a497c3693c4c', 13563),\n",
       " ('0x349b3a5832ad54c4424c97ac393ff94fb4f05291e5286e33e64310206d6d70f0', 13554),\n",
       " ('0x066ab540856b7f00a42fbf5b96fbe627735b740bc009b356d69349afd023720f', 13552),\n",
       " ('0x47351e6617ab999543be5b842b67968b7115c5a37f4f327e7a1fc33dcda7e271', 13522),\n",
       " ('0x48dc3b528e2a51faf49ca7828aae6b688b191479f0fc54264a69c75788209c7b', 13500),\n",
       " ('0xda2d17868abe48ad7d9f96c4a8a6259165ef667879f7e7390a0283242d0e2b84', 13467),\n",
       " ('0x5aff6836eb2e2e7a664ab996a75e115dc1d2362d32bd4b1a3d8d68b1833db702', 13452),\n",
       " ('0xf44f4767df0341611940e74316ff1aa5047761f04a97eb9681aa96b8c71da75a', 13448),\n",
       " ('0x5623b5f84f021ad787033b4a1efd9e2de417004d27c5f2e3d7351f9b575574b1', 13411),\n",
       " ('0x4b6c0daa24e0268c86ad1aa1a0d3ee32456e6c1ee64aaaab3df4a58a1a0adc04', 13400),\n",
       " ('0x98bdd30f645b2981320f82c671ae9fee31ee771766c13cd2627b66a22f0d438e', 13368),\n",
       " ('0x05126c50a6227f339b64d712e6bf070c769f410bcd7cdbe62ba6493ab49b08e6', 13343),\n",
       " ('0xb094cdc806d407d0cf4ea00e595ae95b8c145f77b77cce165c463326cc757639', 13343),\n",
       " ('0x0a184f7fd0042e9e33ee545d0316b4d382f302a75806394e67dee4249b7dbd04', 13325),\n",
       " ('0x8fd34012029bec536f779b7bf46813beb57f42705b24acaf239e42353ddf7b8c', 13323),\n",
       " ('0xfba0828a2f887ce56f6c7a548e886fb2028cb062057ff3ca55c6eff95260c9a8', 13291),\n",
       " ('0xb62c93a8b3590dc46eed92b223da5fcbbf6b52f1f79a0c2fcd80bbc0afea59d8', 13287),\n",
       " ('0x95cca29a9cdcaf51bb7331a9516d643a5c88f8ddce86c5f3920c2ae4d604193f', 13263),\n",
       " ('0x86c62a31e321ecb4118bc000820a6ea989f0f592c2f03f904541247333ab3166', 13261),\n",
       " ('0xda1eff4415b3f802433e82f6d7a65806b799383fe1780d735e44df60b7eb8df5', 13174),\n",
       " ('0xcf46924fb907fb35f15f0612fadc45dcee6f169a13dd27b2e172738b83a4871c', 13128),\n",
       " ('0x824b68306034ca6c86d45a2ad7911f45408be0466d6a60b95b67fd0aebc410f9', 13110),\n",
       " ('0x2ec590658618c2046565939f534284e7a431476af082bfee00505617145b5580', 13086),\n",
       " ('0x7889339ebc62182cacccc69efbbf46902995eb4f35f6cf62724ba6aaad3933c7', 13053),\n",
       " ('0x4d200c139c13a192fad85ca51729b47b4b2ecd905667d9f6204b870aebd3d434', 13008),\n",
       " ('0x3c133c1699da0cfd075b214483671bf83cdb24bcd391859dcd09d37e2d7e32ad', 12994),\n",
       " ('0x8257d8c7681a3587a61f0d97997045c4d35815031d56386c854afa66f0d04351', 12985),\n",
       " ('0xa8b018962096aa1fc22446a395d4298ebb6ca10094f35d072fbb02048e3b5eab', 12985),\n",
       " ('0xc8d4c55645e133bb66f480f4f1a17307f73aedd99b0d64f796f4749ce355d7a5', 12977),\n",
       " ('0xb0124fb0206676ee743e8d6221b7b3c317cb26a657551f11cb5fa23544772a73', 12971),\n",
       " ('0x7539492429c307a260afc1def031883f5a8975226674c51f89a4b65202c9dee4', 12960),\n",
       " ('0xe72dd00eb1ab6223b87e5e1fa740c39b64bfef9b7ccb0939e53403c78a04b18e', 12952),\n",
       " ('0x389c0cd79720fd9853ca6714f4597484dd25cc3a5e34955bf6144f0ba1888a3a', 12921),\n",
       " ('0x0b8384e54b79f7f08a0c9d13b77a18252737192c34c5fb27a3d1622651e75a21', 12917),\n",
       " ('0x3d3cae04cca35a36b278449831a985ba8520ef127784f2724360d8d956eddf7e', 12916),\n",
       " ('0xfe17ba406d90f8308794d14e8cad4f8d44c1f74e5589a5a106f9af17df916a59', 12876),\n",
       " ('0xfdf742542138a56e62ec85b9e29beac79ba7c46fc384f9836b306a54891a792b', 12873),\n",
       " ('0xceae27bbaf42658a1b46baec664c66c09f9cba4f9452ed2d2bed6f6ce5c66e35', 12856),\n",
       " ('0x1135670ba3e550cdac362a07ce69ca1a933a00922d1786b64c0f36bc9471c87b', 12855),\n",
       " ('0x617adb838ce95e319f06f72e177ad62cd743c2fe3fd50d6340dfc8606fbdd0b3', 12840),\n",
       " ('0x34a735f4cbb0c91febe9e26a974811737b656fde16c82310073a821d3a654304', 12834),\n",
       " ('0x71db494e4b49e7533c5ccaa566686b2d045b0761cb3296a2d77af4b500566eb0', 12797),\n",
       " ('0x33def6fd7bc3424fc47256ec0abdc3b75235d6f123dc1d15be7349066bc86319', 12771),\n",
       " ('0x9b9563bc9add2ebbfa45ddee5e8c7300f98f324cd574261919f2a15048589b74', 12769),\n",
       " ('0xbe8f3f1df222a53d8ca05f8be0ec56aa9f169e9881f98e6534e078d155854713', 12766),\n",
       " ('0x8b992ee05d9e87ef0dab2cb7178c24f7b4b6f5d79561ad33298550b3c8d9fe89', 12764),\n",
       " ('0xc5786999ac6d574ca2fb3a3f169be0c38221d73613d4458afa87ab0251f4418a', 12750),\n",
       " ('0x3fa0820bea7896a063ac0a0a917216fc873cf85d68cb13db01624365049b453d', 12748),\n",
       " ('0x605f2bbb8f983f93318ba4ddbaf9b85d2920cf73dfc78def768e7da829bde413', 12745),\n",
       " ('0x568b37a6e7db50c77e17736ba3821ca700e2fb919b616ec6e36c28a9a68a20e8', 12706),\n",
       " ('0xe6bea8781d645318c6e83f98229ae346f45ff3219bdbd72da5dfd40105a9042c', 12703),\n",
       " ('0x8160b000b3c2977889daf8ea63a7ead186efde83376c00e9dac3269fb4dcd544', 12686),\n",
       " ('0x89c3286743dc99b961d40d948c9507fe1005bc6fedf7e34ffb3d1265e0bc4bff', 12679),\n",
       " ('0xf845c68e9838140dbb6c744b246ffe54f5cd54b782492a15dcdf5831c2652d67', 12673),\n",
       " ('0x294d7c2aa95222e444f5e971348538e43066c02f2ac0fcf159293cecc3ac5c7c', 12651),\n",
       " ('0xd1136b4db12346a95870f5a52ce02ef1bd4fb83cbbbf56c709aa14ae2d38659b', 12648),\n",
       " ('0x112aaa499108a4f0eca0caebf90060d32d97cba877cf095473da8ff0822f30fb', 12647),\n",
       " ('0x0c7fc4246c5795a9d9901c08a9a8279e7e6ed1069f2155fe48239c92e4e43193', 12647),\n",
       " ('0x94735082d4ba33b53497efb025aa6dbf75a5e4ade71684fd675c03f0e416a294', 12644),\n",
       " ('0xee521319c358a58381685b5d4c5317ca316f25327d1078cbbf715c0c38e7e2c7', 12640),\n",
       " ('0xfba8276d2608409e7cc902a1d53d5ccacced03b4e8bbb42b331ba6539bd23f4e', 12639),\n",
       " ('0xb41600e3f74bfa520549106fee4d21e7f674c5a79fbf1f7ca16947563474a4d7', 12631),\n",
       " ('0x272af88d9639fd246943630d7ad053cea73db9d6b5bfeca222d9a8906991168b', 12627),\n",
       " ('0xfd0cdbf58992759f47e6f5a6c07cbeb2b1a02af1c9ebf7d3099b80c33f53c138', 12624),\n",
       " ('0x099a932f4e11a07b462f91257d2e5e899df25f6f43547644c681ac5addb38a9d', 12624),\n",
       " ('0x0ea35c1174a04a614553b52b6de16fdd74552332a99001cc1d8eddd1d78038c1', 12623),\n",
       " ('0x4a61495a1e4d0823c6a56be3a38cb001567324c4c43d3199136c672bba1655e3', 12618),\n",
       " ('0xc9c0a739a29ce6477708f49a2985e4c8cb2e4ba0be1d3761541ed189a9c341e1', 12586),\n",
       " ('0x5887b4d9ca353bb8af8e73518299f2d602a3e9b5e5de42e1ac3b3892d1834720', 12524),\n",
       " ('0xb6054ed78153c9112cac5dd3fbd234481c9961bfcbf665e645754f2e6c8b286b', 12477),\n",
       " ('0xe61bea48154a9c59a7ac1ddb56799c77b1b7a2f138a398c48fff835221f25430', 12476),\n",
       " ('0xa3b5cccf16dcd17b5e085152aee6bbb9c2463793df3a908a270de9f33bf80207', 12296),\n",
       " ('0x8db008fd6ee5df0bd9fa9bce59899f4a8674219a8a74b50818d2573c075bdf50', 12199),\n",
       " ('0x4e3e7bec358c9e2fc2f6b24be15cbd2bc13e31c1eff82151e6566b6b779ffbd4', 12199),\n",
       " ('0x61860171c5cbbd4ebec5e4a778d58f979e13e7f4657998defcee5fe46db3f54f', 12131),\n",
       " ('0x2ed941a8f36683066228c88758dfa4b34b923f34a81116f663d2b628da566fb6', 12108),\n",
       " ('0xdbc2ba0eb1308372d56c637aca77c143722f3efbc8191f63a99fcb26c94b5e7f', 12096),\n",
       " ('0x89ddca6114ec5732b0e5c6b83e4278d82b1d7eba5839ec2a58bad903945edd11', 12047),\n",
       " ('0xc28c45bf26a5ada3d891a5dbed7f76d1ff0444b9bc06d191a6ada99a658abe28', 11994),\n",
       " ('0x937fec6609589a35381e8f7819edaf0e24478da17ec4438f752267bf7494165d', 11951),\n",
       " ('0xa34ded687d0b4895d27560db6bbba98147ec87c4b8620fe7a043797dffac23a3', 11933),\n",
       " ('0xae0dd6149555aa32ea714f827999341e4c340605dc6c156ea53abf13dc3e37dc', 11908),\n",
       " ('0x710d91f3922cdb86359e751efe7c702826892b4f6d79217366bccda6a7e6d7d4', 11907),\n",
       " ('0x50823b158e340c73df3e928d1c72253927b6eb077fbce38dfb806c7a40c0e85e', 11853),\n",
       " ('0x2bcb747e008cb1f0a8fa625a4e8d3181e10a80843074091a8ba3a37cc4bb309b', 11850),\n",
       " ('0x15a031fa5f848aac269214a7cda2fed314590ab0c935b6879e4bf7fb9d87cc2c', 11778),\n",
       " ('0x3d3c7049e312803115588ae14b64f81c6e6206ed4f0054687b35c840b25bb041', 11746),\n",
       " ('0x66a4402b74554f791bbec9d2c3b0678534b2fd2826e2f483c44606c027851898', 11664),\n",
       " ('0xfbd6cbe0ae2fa721302b9288ec46488ec7e28b7e49641f9650535ba3251bb7a6', 11658),\n",
       " ('0x039b4075b91f1389298b5d383b760df5d5652174afe257b3f8459e727244ddf1', 11653),\n",
       " ('0x53d9351e52048c74b701ee540ee966c661459a29d41b79deacdc5c404b046eef', 11624),\n",
       " ('0x7a9eea52cba732f35af06d0e7345c1a5db8a011f4d9017b2b27dc7bacbc53fab', 11573),\n",
       " ('0xac0b6056bafb0b8db3b3d10fdb66ffc28a637cfd5cb09ab4a71b0c39f9c7d724', 11536),\n",
       " ('0xbd48ccce388a8820c4e37a33f368839c1ded4f4ead459efd5be7bc2618c290db', 11524),\n",
       " ('0x1ed4b888420aa4dbbb00eaa982bd12b029cc78e4a83cd62305c0db2a786dbfe4', 11358),\n",
       " ('0x7c2da0957e9e7660f9f6219c05291c0907bed79c10b6da15a95416e68cbb4ac1', 11316),\n",
       " ('0x1fda82a16813cb299b031a6a543550f2cd792dd47168671519d9ae5d40351667', 11200),\n",
       " ('0x86ccfd9ccce609cb27fdbd5b8344a8fee67805d896e75cbe127185c8d94656f1', 11168),\n",
       " ('0xff32d2010febf8fbd614e309f2854d49d25f13b1c8ff3b43fd1e078c3020ab7b', 11142),\n",
       " ('0xac7ba616ebee96930f313ddb4b75de9024ff88f17bf3c82ca783d904ab38d551', 11047),\n",
       " ('0xda1cc880069dceea9e386323120875ddecd1d23dcb46eab588beaf88b39f5a62', 10969),\n",
       " ('0x4f97f52ef593bbdddc1037597729e1575ed8d4df997c1781334795b569ca25ce', 10911),\n",
       " ('0xbff353c13861818ed952874dd76a04e4b97570edc0513bfc2eed64cd5277b404', 10881),\n",
       " ('0x7f2d0e26225fec1dd19ae4870532a09014a69f2d973dde0a7b8296d556f221df', 10879),\n",
       " ('0x0286e35a8799d3cf0c84784cd54debae258177b0c31408a48dc00c69b8d4a010', 10810),\n",
       " ('0x4ce1d5366ccf19f67a36c423b547c14e68f400a761ecbe290c064a9d9464028d', 10795),\n",
       " ('0xbda28d65ca4d64005e6019948ed52d9d62c9e73e356ab1013aa2d4829f40c735', 10786),\n",
       " ('0xe8576f9fdc053ce3102ac33bb055b71af0681045f6c1472ec0261031dad829f6', 10774),\n",
       " ('0x1e0f369526aa5aa036650f21715ce5f9dbbab6a12f5839cea99f9f7639d1ec99', 10768),\n",
       " ('0x9f2c87a0eb6296ca1ef45bc3ce70cbd7884a0c7b960f17f32a0742abf89c2b8a', 10742),\n",
       " ('0x0ad8db211cb1d64ce36c86415cdfdbb34d220622db187a12a85f4443a103dc1e', 10725),\n",
       " ('0xdf4772f4a44a10d23bec3dff0595571179160af74bc983db9753b34a6c8f0e27', 10722),\n",
       " ('0xfd9d6a2cc49918aa319d0d4a87e4f1d6ec7aedd57262015c5c5c354a0e578437', 10717),\n",
       " ('0x243feae61d40e73a4a88c6c581bfe74a5899e10b2bf01b04d0479a3c94b7e581', 10700),\n",
       " ('0x1e50356a7221240e88aca5771e6cbeac5d895ff9d69dec52a0cd4879eeb6d006', 10671),\n",
       " ('0xcbe4c9d4eb07ae3725c89d8a76fcdddd967aeac5e2ddb90ef42ec52a8d577672', 10670),\n",
       " ('0x35629e93d2f02004486325e1308229dedd0907b8d424c8bd38b40c897eee2012', 10658),\n",
       " ('0x8bd10fa2a38047fb65c6c4138cfed3f180fd9075888cac6d7f783728f4d93ae3', 10571),\n",
       " ('0x2a1c563340067fd135847b66c89b5f81ef96c126708336737ad946c128aae440', 10513),\n",
       " ('0xbe09b02fb1d5f357c3fbf074e06d42de9516eee1d59ff5d129dcd7e4fe7e9dc4', 10489),\n",
       " ('0x97c7a151624fd39c5b85e7cf8c3ac8affc43791768773c40703ae497fbd21e99', 10416),\n",
       " ('0x9d8a447d5f4c04f070531baec0d5d4f7b0f9ccdb036aab2e68628bab342939d9', 10403),\n",
       " ('0xc4d0096702c0c0f32f3156676ace8b09fa67f8b1c413d0b1ccbc6f2843cc613f', 10384),\n",
       " ('0x58c408348473856bdd0f8fcdde26936a3f828a33bdb91d5a5e4286237c9ba397', 10326),\n",
       " ('0x5d3f7aca80dac05c70eae279551d3c8baed64fdfbc52c7cd1e7dfeeba6baf207', 10298),\n",
       " ('0x9edb5671207f8840f110f9c24beb522ae7ecd7c4b637998bf9c8252e76ecbe1a', 10235),\n",
       " ('0x1521d43b549216dddcc4d7628779097d0f22c93d8a63de4e9b7d26b102e0ae3b', 10219),\n",
       " ('0x7fe7d372601aa2864cbe21071bd2fda10bf22aa8f66076db276818a2d6808bef', 10206),\n",
       " ('0x8e81f1d2ad732cbc983ea6e743e833905d7cf1496b84f0f1f2d58145072b15aa', 10205),\n",
       " ('0x25d5209d71c95866b5e8d96a0d8b73b1374fdeea3c028bed13a46c9c809be9ed', 10202),\n",
       " ('0x8abe6a2ae1134d6886f460d6648dc3a5d2f789e1b94e78f496e7f5ec5ff38697', 10166),\n",
       " ('0xa0b5336692735fb4288537646aec5819cb4cbf01fc3a8a7cb06c9e62db708055', 10162),\n",
       " ('0xb4c756ac701b5cbc0ec2d832652e4f1c820aa40f7d9be18eb81f87080a52c5f1', 10119),\n",
       " ('0x1c2192eb6fe46d33e3603a7eaffa46f48dfffa3a376ca035e9c41e9bcf423b33', 10068),\n",
       " ('0xbdc32909dac4409add8544eca72f339ec0b086e16998f667d67821a2e6b1f64c', 10043),\n",
       " ('0xfa202e11656cee660fb926cd6f9205d6964b25a409c8686169a3a66b85f2a9e3', 10028),\n",
       " ('0xda3519f11e2308239d5f179b2579fe921b2a421eb752aba959779ee9ecea0d69', 9998),\n",
       " ('0x6015a11a333729d7f126482ab3b8537143d75e457421bb7513982d219bfe8458', 9993),\n",
       " ('0x85ec333b7b5b999ed9cd5af4861b994023f8a7b059fc930fb4b135cbb938979a', 9986),\n",
       " ('0xb27d0581dd89bdb758bda189f144a2e63d8bae2aba328bc447015181c3b62117', 9975),\n",
       " ('0x0f2e11f834b5a6ccd80fc5aeeaf4e8f5691a83e93e8df5f689bb944db8c0e691', 9967),\n",
       " ('0x0e5894b5090d6906f867494f27d2b9a0872bc357ad3677141b5f9c51c436ce1b', 9954),\n",
       " ('0x0ddd965be7471ca3d399af6b845791d86c649389e22681df1f62473d01a9a5fd', 9937),\n",
       " ('0xf551b2c1134ea377af9f743e218a9a5364325379986e407a27da82d878311b07', 9917),\n",
       " ('0x179ae89a38a19665d1cc7e892fc43fde79cfe0aba5b87fe12a1cde0bf2d4b4c4', 9884),\n",
       " ('0xd5e569d7c66e1ac7209c6870688f0ed2b53098d3c334685f62f24583adad4c67', 9862),\n",
       " ('0xbe3ff894ff9a979846b45e0fece4368245f61fa1d449d3761a3990b8da4aa6d7', 9834),\n",
       " ('0xe1619dbffa3b6075f3c06308d45d3fb2260d1d0e93fee3eeec4ab84a98c4511c', 9795),\n",
       " ('0xe5d5f2068e8823d7e394e2556581b843faac8f114250f4772e9b033e62bc720f', 9758),\n",
       " ('0xd69d9a25e888891e5daa8dc5c7838cac04d315f7011d4ea24881dbfcc504b888', 9753),\n",
       " ('0xad9fed98e0a6555c5786a49390c6541ac5a0d1fe5be686c7aefffbbb6fd59886', 9719),\n",
       " ('0x15031b68121659b87a3f5e33c303cd517bcbc003d3f60fc82f1299620475bcab', 9707),\n",
       " ('0x11955a28d8f964fdf5855862cc15d155cd805c8393dbc1eb359e720b7e34a316', 9677),\n",
       " ('0xcf136bb973e9e9bed205ae0aa58dac6d007130fc5e26822f663cdc7cf8fde5dd', 9659),\n",
       " ('0xfe2b6553185b6a0633a6145db11bda64fa7386277a54b88a3bb492ddac5819a6', 9635),\n",
       " ('0x08a9c7f13a3970cf9754ca52da51ca05d8baad8dc30927a2752344577b167f09', 9634),\n",
       " ('0x2cbfeb5c5329c4d1720dbae4045386fceb2d2a9bd5b42a81cee47ea5c934f491', 9607),\n",
       " ('0x5d9fc5612ff6034a4526db786111167ac61d06b1e9eb185860f76670f1ae396e', 9511),\n",
       " ('0x2914fc85c70ee26aa3fe4cfeec57ac63f9674aec6d6488e45d377f22f68249d1', 9482),\n",
       " ('0x69d96862a9f68e0ff6501cf766cc9be38c9ea3745698fc77897db9311d4219f6', 9468),\n",
       " ('0xdc3e034f9b7c876736f1b629c7c9ff9c466205dfe075607d70e69b6af2fa87ef', 9445),\n",
       " ('0x42c0d89114121312a44904af578c18a49b41dc87c6d14e27de97734d71a559ae', 9437),\n",
       " ('0xa6a68f6e95f5d343d4fc787f0ab9461b78e12aa8a977391c4cc752a3229ab5a1', 9436),\n",
       " ('0x0c3763d218f4acf718022a64ef9e56d105faf0d80f5ccd0aacac6259cef4a243', 9430),\n",
       " ('0x7460b5b302011874a0f76d53b55e91d4bb1e263bf1cda958f2a7011bd4ed6843', 9363),\n",
       " ('0x99ef5672ed49efcb36b3de22d24a05474e9e009b1b388005890fa743b5e97c94', 9352),\n",
       " ('0x50f25e6c1fe09f2edc45fb7770f2ed532e7bf505d6ee9b11fcf64759f80f46b4', 9345),\n",
       " ('0x037a5ef4ac471dfc07054c01f909b9a71d7bf5ffdfe9b959121bf60d600427b4', 9337),\n",
       " ('0x151ce59b0e75e58dd8f2d102e9d07a3f0d7575b95d6268c91a615ded39054568', 9317),\n",
       " ('0xef9654757a0d1aaec6f970f444ce54cfb2d6c2af0ccbfeb9a182acd51919453c', 9312),\n",
       " ('0xb7a9f7487ed183c049514c01328321fafe561b6ad50896b083ffdd608237c23b', 9265),\n",
       " ('0x022af42bdad3e6c2874c6186738414eacbbcef8bc8d66d2c5533356662511c54', 9237),\n",
       " ('0x2cb10cfb57a79bb97c3aed1cc3e9847227fb0f6a843916921ae315b9d8ad11d3', 9229),\n",
       " ('0x2569f55c8973e6f07cafb091da2dcbf50c105d5ec720991125e09b962a9b8e1b', 9191),\n",
       " ('0x6429006d07ef886730c0a8c53021ac27960fba2395ee1e56ee1a7fdaa8ea7a62', 9160),\n",
       " ('0x6eb27b66f6dd08eb27e3a629faa27d7000ef64b9e54157781fd5724946cabafe', 9090),\n",
       " ('0xab2381e2fcda147ec0ab8417a09c0a6188fce034c12d0c0c42a43b8cbbea8db4', 9086),\n",
       " ('0x381fb746979b9cd4abc22cbe4cf1ea36d959ee5edcc503401171aacbacf01cb5', 9078),\n",
       " ('0x7fa9944e6866ab6dafcebdf1536655faf5a5ba0adc36e6df467702f7ae096c17', 9072),\n",
       " ('QmYJ3qNhuuxK4VsVabniUoB1XwThKQeq1wQtprPcBSzufW', 9056),\n",
       " ('0x02b1043150b2abc2147bf5c7892559d9d88afa23e5765f799131a29c024ffaf6', 9051),\n",
       " ('0xe12f0a813a7eeed63f8b88c60559c90629c583388dd6deb81f7776f7c16b42a2', 9033),\n",
       " ('0x5a4161240bf90f98c407b14e757ec15eeee6ed88d7be26d08a274308c7fe5c5f', 8998),\n",
       " ('0xc074e43c31ef6416083ef7bdad26e0b74a32063eb382b19ecfd29da397f6279b', 8967),\n",
       " ('0x81e8a39e2c0409b5aeb82e5ac367492759a60e93da15f7b64bd4560508400987', 8909),\n",
       " ('0x1cd291193cf5c24be67dab29e4f90038fc941fedf5ccd6f7a0a37af6ed3390b9', 8902),\n",
       " ('QmQQPy6EuruQteXvafQ5GwhzGGNvMqhakNGqoyVCUSvsoi', 8888),\n",
       " ('0xa5e1b6d13f305ae07d3f3e8bd7494ab55313fce6ee386d477295c8ce4b859614', 8887),\n",
       " ('0x4bb9b614bdc4354856c4d0002ad0845b73b5290e5799013192cbc6491e6eea0e', 8872),\n",
       " ('0x219e6f3cc726c24e7eb100959abea6cc3a5c24a24ffec3072a7784d33f030096', 8769),\n",
       " ('0xd469ba187d0232c9626a7e6179c35adfdbdf1df8874375a2e54ff0d0de3c1501', 8762),\n",
       " ('0xf2c2621dce969b0f91b5cdf8270dfbde55f04ba5a8bd09478b7b792f1b6fdf49', 8682),\n",
       " ('0xee6d6685a0147750e853248b4fc0472b6b96b8dbe9169a87c60302137be804d4', 8660),\n",
       " ('0x0a8d5926a4a2e1623435aaa1ff878035fa8a22cc51dcb40249bf3726db3ade3f', 8625),\n",
       " ('0x59019f6c2d82b7a2f66d19ef08997a99be48527fcc55b6b597a8be0d270cc5a4', 8611),\n",
       " ('0x9ae28e9c82c5fc0d24cf1df788094e959d99f906d11b89e455a60ee16b071d6f', 8608),\n",
       " ('0x387b5e811e9673359b98729af5c7f14a50b7d0ea9b4dcf9278686b238932e25d', 8603),\n",
       " ('0x194b68a5319b074065e38fcb0bd96e8e8b6ce15870844593e79750605a609109', 8585),\n",
       " ('0xc4fc70d893c53a28df55fd66264458f1c693770201b4f83cf784bb66ee83044a', 8546),\n",
       " ('0x98cd8b8f756bded02826473d963a44f77785f1b2f2789074021f236598c78277', 8543),\n",
       " ('0x2eee373d157f10c2bd159852aef229d862074c3c3d751bb6dd5e3dd9f30f34cb', 8483),\n",
       " ('0xf8e6f7a7c5af6db94e8bc76285be601319eeed62a76ec8ec430420b1071f1d14', 8480),\n",
       " ('0xb06bac2b74fb2fafcfb21492c938f03a52a389d545b9975f8dc926374e966b04', 8448),\n",
       " ('0x677c1f477b058ed9e296b505efea272b77bf625b415efeb53be78333091c68a6', 8431),\n",
       " ('0xbadf3b39b681c98ba8fb988d5b6c9454ebeb5aae88545a6a852d0734e9f7c957', 8397),\n",
       " ('0xe5631173e5f81906e0497b6fe209ef2c72b4b8d882a0250ce0feeafb8278fb72', 8392),\n",
       " ('0xe46718518bda3aeea483f6fe9b8a2c94488cc739a1b1bf468d6e504a747eea4d', 8390),\n",
       " ('0xf56624e0f8c29eec802a9024bfebd88a58c0ea57a73f3faf776243725c66ef91', 8367),\n",
       " ('0x6b8df360fdf73085b21fdf5eef9f85916fbde95621a3d454cb20fbe545ffc852', 8348),\n",
       " ('0xf796c9d2d484ffebe23e934b670ac56c334ddfb72362ada3904d0b66e77d45a0', 8324),\n",
       " ('0x26884fce58b66e82fa74735a2e255f76654618278432897f4ca2430702e95dcd', 8306),\n",
       " ('0x6b0c32f57d7f4943811ccdcf00246e3cb5a4e3faeffd0f067ce25e8ef8b23ffa', 8224),\n",
       " ('0xc63da6ee5a15c4bb6db7f9352c7b029d8206bcebca96aff1c7d26ec11b95a253', 8220),\n",
       " ('0xdc3e5ead9c55a5bbc7251ecb776d5759345762651e14ece6b7ea491866a644a4', 8206),\n",
       " ('0x402647b83c436aecbe2fe404870f08767b5509225cbe606913e50801f87f5db8', 8194),\n",
       " ('0x4bbd4dc6928b3d341381c5ba25cf9dfa41386229706832c627aef300963f5864', 8173),\n",
       " ('0x54f945d39404873e908f8da7f52b4235426122e772b5f115fbd184c3f8e56ac3', 8140),\n",
       " ('0x2eb66b901a2acbab008cc524e75aae7beb27cd7d00a50d1a7b894d04f7c999b3', 8127),\n",
       " ('0xd899313a60f86ac98081712691255b94f90504c564a7e16053d69814477d718c', 8123),\n",
       " ('0x65cf6a3f93c6e606fc0050c0d5b5ebe4035061837a7dd563f96d08c9fd22a645', 8105),\n",
       " ('0x22f2e31050866dbb46356ab099ee4c317f7b939267e6b03d223931c91013fae8', 8053),\n",
       " ('0x8ed2f2b55a00775c6160913f42ae65a46c379151a99bcf95dc5a27a4164a2dde', 8051),\n",
       " ('0x159846435f2e39a10f0fc25f708b3772b7fc036af6598fb4d14ba5b6c34d4355', 8050),\n",
       " ('0x56aaf192f5cad8277b0e7c82abad030c62bb8fcfe4f2640ce5b896ab04397c20', 8010),\n",
       " ('0x18e9bd0e99d676d45f44bd2713701c90239d0c116e437f64c76c6ef6678623d4', 7941),\n",
       " ('0x635d76930c9f55dca299c50c60c93d0964c8751671405249f80cc04fa9b2a7da', 7941),\n",
       " ('0x0f8a85d90759acf3a6fdc018e20b991f3562847122a8142c4e166c71d0e755e3', 7936),\n",
       " ('0xdbd0215c5c05701838792a5f68637a304c9fc5500a19566be6512712a291aa03', 7920),\n",
       " ('0xcf6a74597ee93b12732784fea55d6d670650b5479196a57ed325b797e3958137', 7904),\n",
       " ('0x7fda3ce38189d5abc80d1d5ba5b660dadc295b930eb9fe20f6e5a2b84a6de834', 7883),\n",
       " ('0xa3e30b1dcba6c3b5d618cff5ee7e8b68977e7d3a1677d55d6142c0438bdd0e8f', 7865),\n",
       " ('0xc31254fac1369090cea7c0105cbc6381b72189c038391996f855708ff2e0c02e', 7857),\n",
       " ('0x724e6fa1185f3a44d21f52fe80d1971702456d76dbb1f813a2c6d96aa6a26ad3', 7825),\n",
       " ('0x969e85ce0624264eeb825908f8e13221fae7f8f245c59301a08fbd2081015010', 7795),\n",
       " ('0x36cdf280fe8c3760561e76d57a9e7022cb383e789ce80b70ed791c6a68166afb', 7787),\n",
       " ('0xb17bbb0e2f62c5c770ac7ea11c19c64d3c3848c4119b598eddebae6c137ddb1e', 7786),\n",
       " ('0xf140cd15c8c9803dc698e907c50837b97d967c1b716661de3573c2f7ba410e2d', 7779),\n",
       " ('0x31b0f1d75477c48b329f990001d689a199eb624f04d94dd97294dd6e4433b6c6', 7755),\n",
       " ('0x77e51710627c8cab3b0326c402cb780e17d4886d09d05183ff450b7ddc5c9835', 7742),\n",
       " ('0x10e6378f193ec4a2953b3ca73b86947586676250191346a90ed4c83593f14883', 7739),\n",
       " ('0xf7360d24caaddf1b44592586d193e02e8e6ecf60d473b3fcefa0d30201f2e4fe', 7737),\n",
       " ('0x2102ea7e303e9ed17a64a6b159cd12416338106be6c449b36a89051a83b76b88', 7730),\n",
       " ('0x00625c4f2d9aa9d4efb41ef3d0942194ca2087fae0599deced8b8ed86372c6c2', 7716),\n",
       " ('0x6305f2622595bb2f832a4d16eab7492ce6ee47650cc20a917abeaee9d3df6f8d', 7707),\n",
       " ('0x2b95df8c7b2141acdead83beb4cdede9624bb2a4c74f873a5727e2a54f322525', 7675),\n",
       " ('0xff69be7580614ebc1a455591c1bd651d8f0af12070d277d7d8846beb3c7c964b', 7672),\n",
       " ('0xa76f65c68a5aa5a58c2a047dbd2ea21f8a9a6fc2b8d6d62d2342dbad8e1a8e74', 7666),\n",
       " ('0x42bc152be4cb5b78d6b7b7c6abedabbe2d6f2f3f55a90570158dfbfb017616fb', 7637),\n",
       " ('0x4b9d159e8a7970ea8fc940821b6ce0b17c1ab9e9f510ce28637c13cce0377fb6', 7605),\n",
       " ('0xb321a0cb19147a75ccca41d482594d785673b767593a0d25964c7ec9a3358128', 7582),\n",
       " ('0x1668a198111fcd139195ff512e986a38f648a53341b44f90ad01b8fcd2878594', 7568),\n",
       " ('0xe4a520e923a4669fceb53c88caa13699c2fd94608df08b9a804506ac808a02f9', 7542),\n",
       " ('0x2fc69bfb36df2b73209bc5347efb5a85b20aef2f6f182ee468832fc4cf5ceb41', 7535),\n",
       " ('0xe394799e4d006c15e0cb13155701de495888b7e7dad8f917a6b5dd1c8106cea5', 7522),\n",
       " ('0x3c5603522d6a957b2445f690f6952290d5cc0efb0a28eb3e1f44af599ba9693f', 7513),\n",
       " ('0xd7d52524eae1ce7b51db980a9ec8b34466aa44a05f3cf3a7ab090397cf235e7d', 7510),\n",
       " ('0x84f200a727f9df8f7718f1bb8ba8b75f987dab145873656242d1fe1dda98c427', 7495),\n",
       " ('0xcd3f4071be5a00fbafd438dbc92cc561a0a35494fabf1b47b4073852f35ad065', 7464),\n",
       " ('0xbae4b03256b501173cf6dd0e9d277fed5e5a133b7267623350c57a76b74ae09b', 7417),\n",
       " ('0xa3f5b45c0238ae1363eb50ffbd59dd19b07c2ce52b7afd21179d6e1416a8ed4c', 7407),\n",
       " ('0x79962be61bbbd57ef0d15017761c4dbd8e54f2468ef34ef50c696e9d6dcec033', 7402),\n",
       " ('0x59b274a61cb8006d7a93a62b9d803dbc9f01b0ccaba2bfae319bf1e47ebac917', 7402),\n",
       " ('0xb36a68459e024b89db9ed6bb3b25ef98df6c06f5e65fbf01f5a679841df4293c', 7401),\n",
       " ('0xc8646abba01becf81ad32bf4adf48f723a31483dc4dedc773bbb6e3954c3990f', 7397),\n",
       " ('0x625e70dcff35be042778684d66cb3e24efd35bdc4222d263047afd2699188fb6', 7379),\n",
       " ('0x7a43312a4bf29272dc1bc768392d21368eb77ee42fab7c1b2186f581a32f6972', 7379),\n",
       " ('0xf4c19cef7f1cb44e91e21c04c877d9389ad5391869669f3da11b8ae152c7ea2b', 7321),\n",
       " ('0x8446404bd2dbd6a0b6b3a70dd2db64bd5b4a5408684aa93b263623fa0fdc0e85', 7299),\n",
       " ('0x91b9ca4c999185e2a17a6ceba6bb83c74c9800cd9d2dd64c12431aca2169d458', 7274),\n",
       " ('0xa497af11ab31e638d38bcf6d57689a5729bf66ee1c3fd89f20bcd7d9e6fa6d4b', 7263),\n",
       " ('0x1cb55b7daca38a37dfd2507218329fb5d7912ac5b237859c547dcea0115231d7', 7260),\n",
       " ('0x3447c5c95e70304122194efb2874757059f0851cc7449e58682f48a25e4ce7ba', 7259),\n",
       " ('0x2a83d049054285cc7bb9c89599d469045b76d29d7ace9928ab2b05bd01a72aed', 7259),\n",
       " ('0x480660b522817a8ba9aeb9c4aa757789e7a68ef8eabf03df8adae0c0310cf7c6', 7241),\n",
       " ('QmbpiveZ4PaG1D18BRKxFFWjimzvuKCnXUXjysYxzsK56v', 7233),\n",
       " ('QmcJkhhPKQjL15Px3v7m3Df86hTASqsMbLkBuwMMRDsJ7d', 7202),\n",
       " ('0x56e68cd25fa1ed6fc33f6a6e4cfc170f038d79f800f0426e077259fb6eed82c3', 7199),\n",
       " ('0xa485bc60ab18ae437c0daacaa069e1deb3ba0b010203851011392e0cb54ba6a6', 7164),\n",
       " ('0xaba8da3287788ee77013aa6b0584694807dc15304ab5c283fe1fc728bf1d5864', 7164),\n",
       " ('0x02283fcdd2d1d91d6bb6cdeca0fd54a57c48bcab2e665a4d2f96a45297298752', 7155),\n",
       " ('0x5c66ab47332df1fd14d2eca7632439115c6ebc0f956f498d74e9d6fb6348f1dd', 7112),\n",
       " ('0xd824b439d0bc7a69f112691087b0076e3ebe0d7b03cf9e9f64f8a2200d1d3b89', 7102),\n",
       " ('0x395e58727038c5a855977248a1dd6e07356674c11f0293eb4b0f68de4e73792f', 7082),\n",
       " ('0xe3f4713ca1dcfe8e9e3e3f59560e28895a8895b559cc1f2331ca401ce51125f4', 7079),\n",
       " ('0x037e4148cf8feb706c023108e1c82f9d765a6c6217dcef9ae367a672683820e9', 7079),\n",
       " ('0x0ddd9784d8ac59ffcabc8ce86d2993179e044eeb102df1644b5b58d04ff25e63', 7071),\n",
       " ('0x751b8fd1c77677643e419d327bdf749c29ccf0a0269e58ed2af0013843376051', 7049),\n",
       " ('QmSxyU8ar8CpoDotginqoxoGMnxvVTFKpJ6u4Zb6Uqr3Cy', 7001),\n",
       " ('0xc45bb3f66f6137ae13d301e7af0e0548f4f6b5826fe7a91d66514254c384a491', 6955),\n",
       " ('QmeMYwoCCEhSk8E7BNshU2XeSD91RVdLrkkv3mSV2EApTe', 6945),\n",
       " ('0x442fcbc24d9080360dbc72f8f9031db75e0bf921f65b1ef8d1f551fa8778c06d', 6925),\n",
       " ('0xeb100d90d82d55e82d132c90f2e5be6fd0544b52dbd157039c012b57994ef408', 6912),\n",
       " ('0x49486dc5964267bf67f034bb6146cd93ffe6c9e3a85c7368334b48b8e5057776', 6900),\n",
       " ('0x35d251a902de06abb7101836cf6423c9289951c0fd6b4dab3182026677e09036', 6871),\n",
       " ('0xf2396c4dde8e252939f601a39a98c00722292e36a638b0a567a97e5de9ed6ed5', 6867),\n",
       " ('0x546ead37609b3f23c11559fe90e798b725af755f402bdd77e37583b4186d1f29', 6819),\n",
       " ('0x4de9db43a2a16258b7369716ba8c20a04241e300af3559a7468fc98a0460a963', 6802),\n",
       " ('0x374d7f9ba673e65d6a85c3cfcc082fd3ad22ca5d8f9f44ac14e1d67154640d90', 6800),\n",
       " ('0x31c3409c09f5561d6aff1e0adeee6c83a5e73768a5d5c3e01b2a48a3894eda54', 6741),\n",
       " ('0x21edffffadce673f5b749fef452395f60f9f95943a393f86d3abeacb257a75c3', 6732),\n",
       " ('0x63f6c44e4245e5b90a0f30ebb6932506879f68b149a5f78fd2186125c9144535', 6702),\n",
       " ('0xd706dfcb631076d5e835e0640d120b8de333d31ef30f66e3dbb529a380608ea1', 6684),\n",
       " ('0xb52053d14f31ede4bd15a5310a4095845fd7718dcbbbd46d03f6d81db9c35b13', 6634),\n",
       " ('0x8f974b76d4f50ea26a1f44843dcda2e0f6a4736883968b29996d272b86b447a9', 6630),\n",
       " ('0x016d9c5bf00ae9ac3c4197467de798394cc6c3bffacb6883615a91154850e596', 6627),\n",
       " ('0x54b6b8929304f080cc510994a756e82ebbb00b8bad5c9fa611c251b56fa9e381', 6618),\n",
       " ('0x9ddf65a57f4d12bbf6736cf8e103b5ed889eb295fbade4d9fc0b17af0b819361', 6572),\n",
       " ('0xecdaaaffd060ca378411e16d738b354a728c13f3f59db3dd252013e99ef6ffa6', 6558),\n",
       " ('0x7ee1bb96cfec2aa6c7847a294cacd768d63a531d3188ba3458223288c7bc5787', 6531),\n",
       " ('0xa3c7247632d3a08e4e73a63867908d0cd4402f48fa673945f93e3197dee5450a', 6495),\n",
       " ('0x40871bfdae8e39b8ddfd7cc63b9138ca115dbd7ab84097dc953e74b8da042ef8', 6469),\n",
       " ('0x334a1fefbdd10f96c0bfbbc79e6ef9b59442b8e68d44c8d9124eb6825eaaa44e', 6459),\n",
       " ('0xcbb588f0030f7726da3d065a30c2500652bbd0def6ca5f5f17a82daca777578e', 6425),\n",
       " ('0xa47404722b9c8a6fb850cf5de79e8a95f073f06393290949644a627bfe85bced', 6413),\n",
       " ('0x0e564f5351b582f48a45bce5684389061fd770bc830cbed5bb94ccb7cddf07f4', 6407),\n",
       " ('0x4e213742cee16505497c1d555adfa37b49597e0f23f7b11436e8393a28198d49', 6406),\n",
       " ('0x1272854ba4c9e20ae5098c1f1316eb6bf216259dc0928852002ce19ba53fc51a', 6396),\n",
       " ('0x8574423107275337c4892ec1af6a712fc53e3f4ab678f68b5770372f372029d0', 6349),\n",
       " ('0x5703f4165baa8fedd3fbf17cd7145099b2cbb043e9b7c9fe2ca9b40801bad097', 6322),\n",
       " ('0xcb36daea932ac232f0c0ef4dbba3c41d94e98a252a71815a6d2ab4e73107669b', 6301),\n",
       " ('0xf013f4235b865570e235f902f5d1e2ed1d40a897b0fb837e116a2821b4a9c30c', 6297),\n",
       " ('0x02ada853586a9fa9b8917952aa88c4dea2cd935d4282b9bf6edaa39301d8ec98', 6252),\n",
       " ('0xedb87c640a24dadde80f39db547d8ea913483b638efb045fc9ac1a4132d7b78f', 6250),\n",
       " ('0x4d996dec3f1b6c756b230575e68dcbc09a85d081448f8c1dbfa7bd75c4ba9ab8', 6238),\n",
       " ('0x430e6dd571c656d7cbe337f5f5287498325fe594475b6da6c4a47fa662729d4f', 6235),\n",
       " ('0x55f22aac1ec31c6a1f88f9bf48d08e4939dec52908ed549a232460f60b492951', 6207),\n",
       " ('0x796dfa42d56f9be526960e9dd516ccb50a6bd5e834f361ee387a0e4633b9e93c', 6178),\n",
       " ('0xb81e12285c6de6f9fec9906c6d0149b33809c2ba6cf79a05cdab26ea70caadff', 6147),\n",
       " ('0xfd3d3807bd2a6eda1327c311b83de235061d39ff1bdfb616c9f9b0d367c3ac2c', 6096),\n",
       " ('0xd096f98237c642614fe154844c5037a85c1f287f3323c4b003a83bd3f4ea658a', 6095),\n",
       " ('0x4fd357741900bfe62a863d1e3ec84fbf79bfebd5bdda3f66eee75b8845274b6d', 6083),\n",
       " ('0x01268e1e4d8ebbec3a6e3e6fb514b88bc77208a85b4d9120244f585ea25d6706', 6076),\n",
       " ('0x1a9deb5c46818aad1a128e65821ecab82fe8c9e01b82551b080f4059f871e91e', 6075),\n",
       " ('0xceb72907ec281318c0271039c6cbde07d057e368aff8d8b75ad90389f64bf83c', 6040),\n",
       " ('0xbdfed349a52173ccf3ddf96ecfd5e1cc23885e85b615093abd9bad16dac38885', 6001),\n",
       " ('0xaca5b7e014d4e752ce5ff0d0a1b1d9bf86496338d1ec53bfb0132810535f6db8', 5996),\n",
       " ('0x067402d5886032caf8ad98ec2490635ec856d7a8dd618786469cd5d9a2b9662b', 5972),\n",
       " ('0xd4df8cd3ef68f787d08cd0f8c529471ed48d70ebc15a562a39dbc0196a9f8e47', 5920),\n",
       " ('0xb467d9e6e83895dc892eed3767f133dc51da8b27e1e077a995801a2d66eb4b8b', 5889),\n",
       " ('0x1fb511b257d51323afb133a795b7a43b33b652e5b1ee5a6fc674ee6383fc0f66', 5858),\n",
       " ('0xf5e05a0cd06bcc74f7cfa004effe3fdedf5dbb24da3b700fe645b8f87763f47d', 5846),\n",
       " ('0x950dac4d5715b8aa8eab29c484b1c9dd0eed161141262b0425874f65be4d9f8e', 5846),\n",
       " ('0x6809125a89d40c3f9e344b1ef27588ec6f3bd358391524d06e1bb9d4f15b7cfa', 5838),\n",
       " ('0x4d69f27a92875170e5db685ecac4c3a41a12d4510b4d98c7faab6150444d5db8', 5825),\n",
       " ('0xebeb1aeab55f2036398b8bfac6357c5864f2160ca254de57aee4da1ddfddc006', 5809),\n",
       " ('0x67366e22b9177b0ca4aeef2b368d75f2821d13de111998f7943aa15c9e900bb7', 5805),\n",
       " ('0x4c1397375133308e1d73aa5d7a401ce76485cf4f81c785ba82ea78e1601fec35', 5796),\n",
       " ('0xa85d356cf0cd05a88f5493b3f7a02ad80c65484491e7aa01629bb29fc2438fab', 5792),\n",
       " ('0xe1e72012b87ead90a7be671cd4adba4b5d7c543be5c2c876d14337e6e22d3cec', 5787),\n",
       " ('0xa9634f562ba88a5cd23fabe515f36094ccb1d13294a5319bc41ead5dc77a23f9', 5784),\n",
       " ('0x8a117727a5655a7aafe6ddada24be5fe63c68450c7cd70b755d84480b554fcb1', 5768),\n",
       " ('0x1ba7a93c7a264e0808c6040e877d32a239bc1de4a3a767e0d41ae63265441918', 5767),\n",
       " ('0xc498ec21bdb9e06fb4182ed427c6ff4f4a1b30c16e616a900532c77f9f8ed56f', 5757),\n",
       " ('0x9cea3af4ff216622c5a938e3f5b8cac50f0e63dcfaa77cc3523a263441108c59', 5756),\n",
       " ('0xb1086fea9d6f4c2fcde0362768e4cd8c2bc1a42a1897704ac5639490f1ef895e', 5752),\n",
       " ('0x2ca1c70f1d1ba224eba07d4dbb716e7ec42503f3c64d5682f9da12e37bde2c58', 5743),\n",
       " ('0xb6c04a25eb129a5da45971f202148a579ca6acad18a76bce378d003a8d0ae145', 5741),\n",
       " ('0xb4e35ca76ff5696570631fe3ae38fd8c268a081e1b0f0a7614d1779a4ebdbc33', 5733),\n",
       " ('0x2c4ff84bad155840cc6b66ae630d3f4ba7a37f21bf364a529b889a7c15695214', 5727),\n",
       " ('0x9db793de052692853aa3749920e1c7161de0eead4730c3fef516bc11eb829879', 5723),\n",
       " ('0x28e3ce2620b0dd1aee0260efef56e9a9bae96a547b390ec25fdca25c071c3c65', 5714),\n",
       " ('0xcfec9d4fe02ccf206264ded55366e70e8ad919e6597ca079175fab231fa399b6', 5713),\n",
       " ('0xff80bc37d587a81b4e3749d4e06138096835a5aa94db9031bba682a3470015d9', 5689),\n",
       " ('0xcd4d410fcf1c6ccfa89038e4aa4ec656ec2e0c8afd9d3bb603448c928764bb3e', 5688),\n",
       " ('0xd30fe39646ead648b6989c4ad5507afeac295ee84900eb32ffd8b65123a8432e', 5657),\n",
       " ('0x5efa2c3fe01997cfc5e6aef5911ccb46f6ea1a383d287cc1289671c86bfcd158', 5654),\n",
       " ('0x54fa8ed9147096b548f5a7b1bcdb8a674070c895a8c22480c41adcc79be44a16', 5624),\n",
       " ('0xac6b9ebb8cff7817fdf144119742e474dfeec984632ab374727770579e2653ed', 5591),\n",
       " ('0xd8ea5749c5fb886021f27c422b1bb1ae5ff972e8fa73853608f242cbe18744da', 5564),\n",
       " ('0x8cd74072d4ae997c11fe5351c3a8c3fcd05440091858c1ced911bb2e9043c3bb', 5563),\n",
       " ('0x0f3592ac3e437870affacc5fc64ce3c266b5041e24a3a31e490021d00d8dbd7f', 5555),\n",
       " ('0x96abe29e4a54f4e7bcfb0cef16203952836ebef60a7b6e5f787853ed827aaa52', 5549),\n",
       " ('0x89ca6f762851897d1662f91284163d10a159fb22ba5c7a1f764338189824b038', 5547),\n",
       " ('0x5e8280af9c314519d63093f2bffe7194e469e0d0bf1c89e828c63d1469166866', 5540),\n",
       " ('0xffffdad886763e8c4314011399c7c4d995cbe2714ad7fdab28a024743398db0c', 5536),\n",
       " ('0xd4fbc646ea487f86836b899a86efcd3ce745d96f2a64b7b87bcdf4f6a3429154', 5528),\n",
       " ('0x913c2931fdd67d0ed41b2932868e0c094d0738afbd705af28c9aab32f9126eed', 5520),\n",
       " ('0x5a35edacc5f2412fbcceb778c671a0a94b76b700812e89212dab9e01255cdf00', 5518),\n",
       " ('0x7f0a014e458cb05e3bccf71502a592f84168b7d3efe30e6f4caafd02b3956f9b', 5517),\n",
       " ('0x45637160bf6a4fd0c9dd1fe37812645cfa46702c30e197d0cd42b46f7a25bad3', 5514),\n",
       " ('0x71f584faea97cd3426604079224001e383422fb31177d21d98189894caa3cf75', 5509),\n",
       " ('0xe7892e1d5697797526f3198167e97a4db00c34bf8dd5a44456fe4b9438200004', 5496),\n",
       " ('0xc34224565166bbfc1d1842e0074b2ae856bcbbced2a70e8cacd3ac2cf84f15fe', 5493),\n",
       " ('0x69ccd0d10456c742700e500df235b447fa9aee14470cf1c9fd9ab81b3d3bd814', 5476),\n",
       " ('0x73021d63f985aba8e42c67165f80c0027a591980a5cc372cda9637bdf2173f95', 5472),\n",
       " ('QmTBWGSFEHFBahhA32PH2aVYxxWkeDsSZKaDpp3uQP8a8j', 5471),\n",
       " ('0x7cb63fe4ea9416f9fd04faeba39e64b5cf7fcae7a6d2c34f942fb342a99b7242', 5460),\n",
       " ('0x4ed87e13f34a9173181112b26448042dafd2bc01713cefc0b08e6721ded36906', 5453),\n",
       " ('0xfdb4855fb97fddee4f4bc0d87a23b5e885c64c6bc71d8ccf5f643d10cb7655a1', 5452),\n",
       " ('0x8ef075d11b27be16304a97956e821bb34468556b6221990c67aa8c805e8c96a2', 5450),\n",
       " ('0x8ebe3b30462211e55f7f2d0ba60126f810c3a330b2b8aa935ea0f4c05dacb257', 5447),\n",
       " ('0x7e59029dfa6f62cf1eb305c7c12c791a0b1b6de719352455d1bcff427380fa0c', 5446),\n",
       " ('0x95b90166a8fedccc1e8568c1d02ee18bdb7999c8e9b4022875ff02d5bf7218b4', 5419),\n",
       " ('0xd47c5461ecc6fc6e8cab0f5946473509ab7f667daa202b25196ef10e6ceca4c9', 5408),\n",
       " ('0x408ac8d6e74febd74a11371d66ba40ab58fcaf0eb70c34c449731651e0222d32', 5385),\n",
       " ('0xb643c2ccb468812901c9490dbb31c5aada0140e83d0f6ce30e04fc7a237748e8', 5373),\n",
       " ('0x62872db793edbae7f8f7dfe9da72823db1a958219320554f094227adb4fb308d', 5357),\n",
       " ('0x77c12db81f97a466b9276924a102a351477bc468497ac4c4bf0c766024973013', 5351),\n",
       " ('0xde1911643d70f08cd77b9180d012e2176c86afc463bde1b7fa74bfa1291f0401', 5335),\n",
       " ('0xb6424a59579077efba31f9d0fb70876527e18a8f0842363ec0448cdac9f34835', 5331),\n",
       " ('0x1375e6e8bc4df57ce2778e1b3602d4f42295928f4bbe339d8ba594268c2f647b', 5314),\n",
       " ('0x11db413eecdca10c8535ed079f89fc4f39e638d63f7856ba0a23161d90fdeefe', 5308),\n",
       " ('0x3d5bcce327f73d550a39f730f5cbdc99faa9a1cffcf48386dafc06fd794bc623', 5289),\n",
       " ('0xa707e5dc323e53821f215b62dd903add3c28240f2c14b2671dd4495c86df8e51', 5273),\n",
       " ('0x1f4bf00d6a9e1dcd3a3e3931816b9ec2b84731e55e6e0c196dade293b48ac395', 5255),\n",
       " ('0x1755e6ac9b088e1ec05e3b74a8cd7c9233fdd449f79efb88fa866d2ad756fa7e', 5238),\n",
       " ('0xa4a21c808b28a61562c6b4ebf5b71c0cd37ee2d630bcbdf91ffaf5f683cc650f', 5238),\n",
       " ('0x3d7b923c141d3134dc5e3d23f61206967f56df420624a7eb04c3dff5dca93a75', 5144),\n",
       " ('0xcc67de5239b20097ac30b288a6665455dd39fbb450bb9f3db8d2d908a000cb66', 5143),\n",
       " ('0xd98b1048ecd9f4aaee43b6d99e45a98fd32f6033330e6f7bc9e42b9a9ab19a4d', 5140),\n",
       " ('0xb31e59b27d0a1fe91ef75e2c141fcbe7fcd3068363ba2ed4b61ab78883bb8c88', 5125),\n",
       " ('0xb358938a752f6887b5e95c5d31358f340a591b21ae6ab15a1a8bf10bd966b04b', 5122),\n",
       " ('0xa8fc488493dfd2d28ba1927efbce021cccf0172f67df5db7fb2bb80485da23e4', 5037),\n",
       " ('0xcf408ef01d60307b668d349d80b930346f76e88835d50653e0a81ca3cb2637ff', 5024)]"
      ]
     },
     "execution_count": 106,
     "metadata": {},
     "output_type": "execute_result"
    }
   ],
   "source": [
    "import pandas as pd\n",
    "\n",
    "pd.read_pickle(\"./votes/snapshot/large_proposals_and_votes.pkl\")"
   ]
  },
  {
   "cell_type": "markdown",
   "metadata": {},
   "source": [
    "# Clean the data"
   ]
  },
  {
   "cell_type": "code",
   "execution_count": null,
   "metadata": {},
   "outputs": [],
   "source": [
    "run_notebook('./parquet_versions/parquet_cleanup/remove_parquet_duplicate_deployments.ipynb')\n",
    "\n",
    "run_notebook('./parquet_versions/parquet_cleanup/v3_add_deployment_uuids.ipynb')\n",
    "run_notebook('./parquet_versions/parquet_cleanup/v3_add_proposal_uuids.ipynb')\n",
    "\n",
    "# TODO: Now is just the necessary so proposals-text works, but I should clean also the deployments\n",
    "# and votes parquets\n",
    "run_notebook('./parquet_versions/parquet_cleanup/v6_fix_date_fields_proposals.ipynb')"
   ]
  }
 ],
 "metadata": {
  "kernelspec": {
   "display_name": "Python 3",
   "language": "python",
   "name": "python3"
  },
  "language_info": {
   "codemirror_mode": {
    "name": "ipython",
    "version": 3
   },
   "file_extension": ".py",
   "mimetype": "text/x-python",
   "name": "python",
   "nbconvert_exporter": "python",
   "pygments_lexer": "ipython3",
   "version": "3.11.6"
  }
 },
 "nbformat": 4,
 "nbformat_minor": 2
}
