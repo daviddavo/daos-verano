{
 "cells": [
  {
   "cell_type": "code",
   "execution_count": 27,
   "id": "a328c23f",
   "metadata": {
    "execution": {
     "iopub.execute_input": "2024-01-22T18:42:22.110193Z",
     "iopub.status.busy": "2024-01-22T18:42:22.109776Z",
     "iopub.status.idle": "2024-01-22T18:42:22.121382Z",
     "shell.execute_reply": "2024-01-22T18:42:22.120427Z"
    },
    "papermill": {
     "duration": 0.020149,
     "end_time": "2024-01-22T18:42:22.123219",
     "exception": false,
     "start_time": "2024-01-22T18:42:22.103070",
     "status": "completed"
    },
    "tags": []
   },
   "outputs": [],
   "source": [
    "# mkdir if not exist 'proposals_out_2023_07_21'\n",
    "import os\n",
    "if not os.path.exists('proposals_out_2023_07_21'):\n",
    "    os.makedirs('proposals_out_2023_07_21')"
   ]
  },
  {
   "cell_type": "code",
   "execution_count": 28,
   "id": "4ec8c38a",
   "metadata": {
    "execution": {
     "iopub.execute_input": "2024-01-22T18:42:22.133779Z",
     "iopub.status.busy": "2024-01-22T18:42:22.133434Z",
     "iopub.status.idle": "2024-01-22T18:42:22.389303Z",
     "shell.execute_reply": "2024-01-22T18:42:22.388920Z"
    },
    "papermill": {
     "duration": 0.262018,
     "end_time": "2024-01-22T18:42:22.390107",
     "exception": false,
     "start_time": "2024-01-22T18:42:22.128089",
     "status": "completed"
    },
    "tags": []
   },
   "outputs": [
    {
     "data": {
      "text/plain": [
       "26902"
      ]
     },
     "execution_count": 28,
     "metadata": {},
     "output_type": "execute_result"
    }
   ],
   "source": [
    "# read in ../../DATA/deployments/snapshot_deployments.csv\n",
    "import pandas as pd\n",
    "df = pd.read_csv('../../DATA/deployments/snapshot_deployments.csv')\n",
    "space_ids = df.platform_id.unique()\n",
    "len(space_ids)"
   ]
  },
  {
   "cell_type": "code",
   "execution_count": 29,
   "id": "ee1f31e6",
   "metadata": {
    "execution": {
     "iopub.execute_input": "2024-01-22T18:42:22.394190Z",
     "iopub.status.busy": "2024-01-22T18:42:22.393993Z",
     "iopub.status.idle": "2024-01-22T18:42:22.402207Z",
     "shell.execute_reply": "2024-01-22T18:42:22.401828Z"
    },
    "papermill": {
     "duration": 0.011034,
     "end_time": "2024-01-22T18:42:22.402938",
     "exception": false,
     "start_time": "2024-01-22T18:42:22.391904",
     "status": "completed"
    },
    "tags": []
   },
   "outputs": [
    {
     "data": {
      "text/html": [
       "<div>\n",
       "<style scoped>\n",
       "    .dataframe tbody tr th:only-of-type {\n",
       "        vertical-align: middle;\n",
       "    }\n",
       "\n",
       "    .dataframe tbody tr th {\n",
       "        vertical-align: top;\n",
       "    }\n",
       "\n",
       "    .dataframe thead th {\n",
       "        text-align: right;\n",
       "    }\n",
       "</style>\n",
       "<table border=\"1\" class=\"dataframe\">\n",
       "  <thead>\n",
       "    <tr style=\"text-align: right;\">\n",
       "      <th></th>\n",
       "      <th>platform</th>\n",
       "      <th>platform_id</th>\n",
       "      <th>name</th>\n",
       "      <th>additional</th>\n",
       "      <th>website</th>\n",
       "      <th>votes_count</th>\n",
       "      <th>proposals_count</th>\n",
       "    </tr>\n",
       "  </thead>\n",
       "  <tbody>\n",
       "    <tr>\n",
       "      <th>0</th>\n",
       "      <td>snapshot</td>\n",
       "      <td>ethfund.eth</td>\n",
       "      <td>ETHFUND</td>\n",
       "      <td>NaN</td>\n",
       "      <td>https://snapshot.org/#/ethfund.eth</td>\n",
       "      <td>1</td>\n",
       "      <td>1</td>\n",
       "    </tr>\n",
       "    <tr>\n",
       "      <th>1</th>\n",
       "      <td>snapshot</td>\n",
       "      <td>fadedfate.eth</td>\n",
       "      <td>Magic Girls</td>\n",
       "      <td>liuhaha5308848</td>\n",
       "      <td>https://snapshot.org/#/fadedfate.eth</td>\n",
       "      <td>1</td>\n",
       "      <td>3</td>\n",
       "    </tr>\n",
       "    <tr>\n",
       "      <th>2</th>\n",
       "      <td>snapshot</td>\n",
       "      <td>fangnaoke.eth</td>\n",
       "      <td>study group</td>\n",
       "      <td>https://app.syndicate.io/collectives/0x5f51845...</td>\n",
       "      <td>https://snapshot.org/#/fangnaoke.eth</td>\n",
       "      <td>1</td>\n",
       "      <td>1</td>\n",
       "    </tr>\n",
       "    <tr>\n",
       "      <th>3</th>\n",
       "      <td>snapshot</td>\n",
       "      <td>fasola.eth</td>\n",
       "      <td>FASOLA.ETH</td>\n",
       "      <td>NaN</td>\n",
       "      <td>https://snapshot.org/#/fasola.eth</td>\n",
       "      <td>7</td>\n",
       "      <td>1</td>\n",
       "    </tr>\n",
       "    <tr>\n",
       "      <th>4</th>\n",
       "      <td>snapshot</td>\n",
       "      <td>fdsfsfss.eth</td>\n",
       "      <td>alex</td>\n",
       "      <td>NaN</td>\n",
       "      <td>https://snapshot.org/#/fdsfsfss.eth</td>\n",
       "      <td>3</td>\n",
       "      <td>3</td>\n",
       "    </tr>\n",
       "  </tbody>\n",
       "</table>\n",
       "</div>"
      ],
      "text/plain": [
       "   platform    platform_id         name  \\\n",
       "0  snapshot    ethfund.eth      ETHFUND   \n",
       "1  snapshot  fadedfate.eth  Magic Girls   \n",
       "2  snapshot  fangnaoke.eth  study group   \n",
       "3  snapshot     fasola.eth   FASOLA.ETH   \n",
       "4  snapshot   fdsfsfss.eth         alex   \n",
       "\n",
       "                                          additional  \\\n",
       "0                                                NaN   \n",
       "1                                     liuhaha5308848   \n",
       "2  https://app.syndicate.io/collectives/0x5f51845...   \n",
       "3                                                NaN   \n",
       "4                                                NaN   \n",
       "\n",
       "                                website  votes_count  proposals_count  \n",
       "0    https://snapshot.org/#/ethfund.eth            1                1  \n",
       "1  https://snapshot.org/#/fadedfate.eth            1                3  \n",
       "2  https://snapshot.org/#/fangnaoke.eth            1                1  \n",
       "3     https://snapshot.org/#/fasola.eth            7                1  \n",
       "4   https://snapshot.org/#/fdsfsfss.eth            3                3  "
      ]
     },
     "execution_count": 29,
     "metadata": {},
     "output_type": "execute_result"
    }
   ],
   "source": [
    "df.head()"
   ]
  },
  {
   "cell_type": "code",
   "execution_count": 30,
   "id": "2d08f431",
   "metadata": {
    "execution": {
     "iopub.execute_input": "2024-01-22T18:42:22.406770Z",
     "iopub.status.busy": "2024-01-22T18:42:22.406623Z",
     "iopub.status.idle": "2024-01-22T18:42:22.411004Z",
     "shell.execute_reply": "2024-01-22T18:42:22.410730Z"
    },
    "papermill": {
     "duration": 0.007178,
     "end_time": "2024-01-22T18:42:22.411757",
     "exception": false,
     "start_time": "2024-01-22T18:42:22.404579",
     "status": "completed"
    },
    "tags": []
   },
   "outputs": [
    {
     "data": {
      "text/plain": [
       "count    27471.000000\n",
       "mean         4.371883\n",
       "std         30.036288\n",
       "min          0.000000\n",
       "25%          1.000000\n",
       "50%          1.000000\n",
       "75%          2.000000\n",
       "max       3177.000000\n",
       "Name: proposals_count, dtype: float64"
      ]
     },
     "execution_count": 30,
     "metadata": {},
     "output_type": "execute_result"
    }
   ],
   "source": [
    "df.proposals_count.describe()"
   ]
  },
  {
   "cell_type": "code",
   "execution_count": 31,
   "id": "0804ad40",
   "metadata": {
    "execution": {
     "iopub.execute_input": "2024-01-22T18:42:22.416743Z",
     "iopub.status.busy": "2024-01-22T18:42:22.416454Z",
     "iopub.status.idle": "2024-01-22T18:42:22.426344Z",
     "shell.execute_reply": "2024-01-22T18:42:22.426066Z"
    },
    "papermill": {
     "duration": 0.013244,
     "end_time": "2024-01-22T18:42:22.427158",
     "exception": false,
     "start_time": "2024-01-22T18:42:22.413914",
     "status": "completed"
    },
    "tags": []
   },
   "outputs": [
    {
     "data": {
      "text/plain": [
       "[('cakevote.eth', 3177),\n",
       " ('snapshot.dcl.eth', 2226),\n",
       " ('index-coop.eth', 1052),\n",
       " ('frami.eth', 657),\n",
       " ('huwacoin.eth', 631)]"
      ]
     },
     "execution_count": 31,
     "metadata": {},
     "output_type": "execute_result"
    }
   ],
   "source": [
    "# remove the space_ids that have no proposals\n",
    "df = df[df.proposals_count > 0]\n",
    "platforms_and_proposal_count = df[['platform_id', 'proposals_count']].sort_values(by='proposals_count', ascending=False)\n",
    "# make these into a list of tuples\n",
    "platforms_and_proposal_count = list(platforms_and_proposal_count.itertuples(index=False, name=None))\n",
    "platforms_and_proposal_count[:5]"
   ]
  },
  {
   "cell_type": "code",
   "execution_count": 32,
   "id": "da249a59",
   "metadata": {
    "execution": {
     "iopub.execute_input": "2024-01-22T18:42:22.432913Z",
     "iopub.status.busy": "2024-01-22T18:42:22.432641Z",
     "iopub.status.idle": "2024-01-22T18:42:22.576388Z",
     "shell.execute_reply": "2024-01-22T18:42:22.576085Z"
    },
    "papermill": {
     "duration": 0.152096,
     "end_time": "2024-01-22T18:42:22.581683",
     "exception": false,
     "start_time": "2024-01-22T18:42:22.429587",
     "status": "completed"
    },
    "tags": []
   },
   "outputs": [
    {
     "data": {
      "text/plain": [
       "[[('cakevote.eth', 3177)],\n",
       " [('snapshot.dcl.eth', 2226),\n",
       "  ('index-coop.eth', 1052),\n",
       "  ('frami.eth', 657),\n",
       "  ('huwacoin.eth', 631)],\n",
       " [('balancer.eth', 602),\n",
       "  ('bentfinance.eth', 542),\n",
       "  ('bancornetwork.eth', 541),\n",
       "  ('sdbal.eth', 535),\n",
       "  ('lemu.dcl.eth', 476),\n",
       "  ('sharkdao.eth', 471),\n",
       "  ('aave.eth', 445),\n",
       "  ('aavegotchi.eth', 433),\n",
       "  ('aurafinance.eth', 415),\n",
       "  ('fabien.eth', 367)],\n",
       " [('orbapp.eth', 365),\n",
       "  ('frax.eth', 359),\n",
       "  ('alluo.eth', 357),\n",
       "  ('jbdao.eth', 354),\n",
       "  ('goodmorningnews.eth', 352),\n",
       "  ('aladdindao.eth', 331),\n",
       "  ('magicappstore.eth', 319),\n",
       "  ('fuse.eth', 317),\n",
       "  ('goopsnapshot.eth', 315),\n",
       "  ('leagueoflils.eth', 299),\n",
       "  ('sdfxs.eth', 289),\n",
       "  ('olympusdao.eth', 272),\n",
       "  ('狂奔的蜗牛1.eth', 271),\n",
       "  ('17707.eth', 262),\n",
       "  ('primerating.eth', 261),\n",
       "  ('veclev.eth', 260)],\n",
       " [('xdaistake.eth', 257),\n",
       "  ('bgansv2.eth', 255),\n",
       "  ('fantomecosystem.eth', 250),\n",
       "  ('decentralgames.eth', 238),\n",
       "  ('lido-snapshot.eth', 228),\n",
       "  ('karastar.eth', 222),\n",
       "  ('theheaddao.eth', 219),\n",
       "  ('pnounsdao.eth', 219),\n",
       "  ('dorg.eth', 216),\n",
       "  ('sushigov.eth', 215),\n",
       "  ('futera.eth', 215),\n",
       "  ('yam.eth', 215),\n",
       "  ('qidao.eth', 207),\n",
       "  ('sixer.eth', 205),\n",
       "  ('curve.eth', 203),\n",
       "  ('ppybbbbbb.eth', 198),\n",
       "  ('rallygov.eth', 198),\n",
       "  ('haitang.eth', 197),\n",
       "  ('krausehouse.eth', 195),\n",
       "  ('sdcrv.eth', 194),\n",
       "  ('gotchivault.eth', 194),\n",
       "  ('levidao.eth', 191),\n",
       "  ('sdcrv-gov.eth', 187)]]"
      ]
     },
     "execution_count": 32,
     "metadata": {},
     "output_type": "execute_result"
    }
   ],
   "source": [
    "# make groups of rows where the proposals_count in the group sums to less than 5000\n",
    "groups_of_space_ids_that_sum_to_less_than_5000 = []\n",
    "while len(platforms_and_proposal_count) > 0:\n",
    "    group = []\n",
    "    total = 0\n",
    "    while total < 5000:\n",
    "        if platforms_and_proposal_count[0][1] + total > 5000:\n",
    "            break\n",
    "        row = platforms_and_proposal_count.pop(0)\n",
    "        group.append(row)\n",
    "        total += row[1]\n",
    "        if len(platforms_and_proposal_count) == 0:\n",
    "            break\n",
    "    groups_of_space_ids_that_sum_to_less_than_5000.append(group)\n",
    "\n",
    "groups_of_space_ids_that_sum_to_less_than_5000[:5]"
   ]
  },
  {
   "cell_type": "code",
   "execution_count": 33,
   "id": "00f0c38b",
   "metadata": {},
   "outputs": [
    {
     "name": "stdout",
     "output_type": "stream",
     "text": [
      "1 3177\n",
      "4 4566\n",
      "10 4827\n",
      "16 4983\n",
      "23 4918\n",
      "32 4910\n",
      "44 4967\n",
      "57 4951\n",
      "73 4943\n",
      "96 4992\n",
      "120 4967\n",
      "150 4977\n",
      "190 4984\n",
      "236 4998\n",
      "293 4987\n",
      "358 4997\n",
      "457 5000\n",
      "584 4994\n",
      "811 4997\n",
      "1125 4998\n",
      "1765 4999\n",
      "2500 5000\n",
      "4969 5000\n",
      "5000 5000\n",
      "2968 2968\n"
     ]
    }
   ],
   "source": [
    "for g in groups_of_space_ids_that_sum_to_less_than_5000:\n",
    "    print(len(g), sum((x[1] for x in g)))"
   ]
  },
  {
   "cell_type": "code",
   "execution_count": 34,
   "id": "1d0728f5",
   "metadata": {
    "execution": {
     "iopub.execute_input": "2024-01-22T18:42:22.595053Z",
     "iopub.status.busy": "2024-01-22T18:42:22.594258Z",
     "iopub.status.idle": "2024-01-22T18:42:22.598530Z",
     "shell.execute_reply": "2024-01-22T18:42:22.598003Z"
    },
    "papermill": {
     "duration": 0.011215,
     "end_time": "2024-01-22T18:42:22.599359",
     "exception": false,
     "start_time": "2024-01-22T18:42:22.588144",
     "status": "completed"
    },
    "tags": []
   },
   "outputs": [
    {
     "data": {
      "text/plain": [
       "25"
      ]
     },
     "execution_count": 34,
     "metadata": {},
     "output_type": "execute_result"
    }
   ],
   "source": [
    "len(groups_of_space_ids_that_sum_to_less_than_5000)"
   ]
  },
  {
   "cell_type": "code",
   "execution_count": 35,
   "id": "b732518f",
   "metadata": {
    "execution": {
     "iopub.execute_input": "2024-01-22T18:42:22.612246Z",
     "iopub.status.busy": "2024-01-22T18:42:22.611762Z",
     "iopub.status.idle": "2024-01-22T18:42:22.616813Z",
     "shell.execute_reply": "2024-01-22T18:42:22.616532Z"
    },
    "papermill": {
     "duration": 0.012249,
     "end_time": "2024-01-22T18:42:22.617565",
     "exception": false,
     "start_time": "2024-01-22T18:42:22.605316",
     "status": "completed"
    },
    "tags": []
   },
   "outputs": [
    {
     "data": {
      "text/plain": [
       "[3177,\n",
       " 4566,\n",
       " 4827,\n",
       " 4983,\n",
       " 4918,\n",
       " 4910,\n",
       " 4967,\n",
       " 4951,\n",
       " 4943,\n",
       " 4992,\n",
       " 4967,\n",
       " 4977,\n",
       " 4984,\n",
       " 4998,\n",
       " 4987,\n",
       " 4997,\n",
       " 5000,\n",
       " 4994,\n",
       " 4997,\n",
       " 4998,\n",
       " 4999,\n",
       " 5000,\n",
       " 5000,\n",
       " 5000,\n",
       " 2968]"
      ]
     },
     "execution_count": 35,
     "metadata": {},
     "output_type": "execute_result"
    }
   ],
   "source": [
    "# sum the proposals_count in each group\n",
    "sums = [sum([x[1] for x in group]) for group in groups_of_space_ids_that_sum_to_less_than_5000]\n",
    "sums"
   ]
  },
  {
   "cell_type": "code",
   "execution_count": 36,
   "id": "e07a56f8",
   "metadata": {
    "execution": {
     "iopub.execute_input": "2024-01-22T18:42:22.630414Z",
     "iopub.status.busy": "2024-01-22T18:42:22.630209Z",
     "iopub.status.idle": "2024-01-22T18:42:22.636576Z",
     "shell.execute_reply": "2024-01-22T18:42:22.636314Z"
    },
    "papermill": {
     "duration": 0.014101,
     "end_time": "2024-01-22T18:42:22.637332",
     "exception": false,
     "start_time": "2024-01-22T18:42:22.623231",
     "status": "completed"
    },
    "tags": []
   },
   "outputs": [
    {
     "data": {
      "text/plain": [
       "'\"cakevote.eth\"'"
      ]
     },
     "execution_count": 36,
     "metadata": {},
     "output_type": "execute_result"
    }
   ],
   "source": [
    "# make into a list of strings for the graphql query\n",
    "groups_of_space_ids_that_sum_to_less_than_5000_strings = []\n",
    "for group in groups_of_space_ids_that_sum_to_less_than_5000:\n",
    "    group_of_space_ids = [str(x[0]) for x in group]\n",
    "    query_string = \", \".join([f'\"{sid}\"' for sid in group_of_space_ids])\n",
    "    groups_of_space_ids_that_sum_to_less_than_5000_strings.append(query_string)\n",
    "\n",
    "groups_of_space_ids_that_sum_to_less_than_5000_strings[0]"
   ]
  },
  {
   "cell_type": "code",
   "execution_count": 37,
   "id": "06a37fcb",
   "metadata": {
    "execution": {
     "iopub.execute_input": "2024-01-22T18:42:22.650558Z",
     "iopub.status.busy": "2024-01-22T18:42:22.650418Z",
     "iopub.status.idle": "2024-01-22T18:42:22.652960Z",
     "shell.execute_reply": "2024-01-22T18:42:22.652683Z"
    },
    "papermill": {
     "duration": 0.010645,
     "end_time": "2024-01-22T18:42:22.653603",
     "exception": false,
     "start_time": "2024-01-22T18:42:22.642958",
     "status": "completed"
    },
    "tags": []
   },
   "outputs": [],
   "source": [
    "# TODO: Instead of using first/skip use first / created or any other \"index\"\n",
    "# Furthermore, use some caching library instead, so if the space_ids / created / skip combo changes,\n",
    "# we don't get incorrect results\n",
    "def make_query(space_ids: str, skip: int) -> str:\n",
    "    first = 1000\n",
    "    base = \"\"\"\n",
    "        query Proposals {\n",
    "         proposals(where: {space_in: [%s], state: \"closed\"}, first: %s, skip: %s, orderDirection: desc, orderBy: \"created\") {\n",
    "            id\n",
    "            space {\n",
    "              id\n",
    "            }\n",
    "            author\n",
    "            created\n",
    "            votes\n",
    "            title\n",
    "            body\n",
    "            start\n",
    "            end\n",
    "          }\n",
    "        }\n",
    "    \"\"\"\n",
    "    return base % (space_ids, first, skip)\n"
   ]
  },
  {
   "cell_type": "code",
   "execution_count": 38,
   "id": "cb426820",
   "metadata": {
    "execution": {
     "iopub.execute_input": "2024-01-22T18:42:22.667473Z",
     "iopub.status.busy": "2024-01-22T18:42:22.667323Z",
     "iopub.status.idle": "2024-01-22T18:42:22.704808Z",
     "shell.execute_reply": "2024-01-22T18:42:22.704428Z"
    },
    "papermill": {
     "duration": 0.046329,
     "end_time": "2024-01-22T18:42:22.705848",
     "exception": false,
     "start_time": "2024-01-22T18:42:22.659519",
     "status": "completed"
    },
    "tags": []
   },
   "outputs": [],
   "source": [
    "import requests\n",
    "import backoff\n",
    "URL = \"https://hub.snapshot.org/graphql\"\n",
    "\n",
    "\n",
    "@backoff.on_exception(backoff.expo,\n",
    "                      requests.exceptions.RequestException)\n",
    "def query_snapshot(query):\n",
    "    r = requests.post(URL, json={'query': query})\n",
    "    return r.json()"
   ]
  },
  {
   "cell_type": "code",
   "execution_count": 39,
   "id": "67795aa5",
   "metadata": {
    "execution": {
     "iopub.execute_input": "2024-01-22T18:42:22.720502Z",
     "iopub.status.busy": "2024-01-22T18:42:22.720307Z",
     "iopub.status.idle": "2024-01-22T18:42:24.582453Z",
     "shell.execute_reply": "2024-01-22T18:42:24.581602Z"
    },
    "papermill": {
     "duration": 1.871243,
     "end_time": "2024-01-22T18:42:24.584520",
     "exception": false,
     "start_time": "2024-01-22T18:42:22.713277",
     "status": "completed"
    },
    "tags": []
   },
   "outputs": [
    {
     "data": {
      "application/vnd.jupyter.widget-view+json": {
       "model_id": "5045afc76c1c4c89a4442239d413b797",
       "version_major": 2,
       "version_minor": 0
      },
      "text/plain": [
       "  0%|          | 0/25 [00:00<?, ?it/s]"
      ]
     },
     "metadata": {},
     "output_type": "display_data"
    },
    {
     "name": "stdout",
     "output_type": "stream",
     "text": [
      "got 1000 proposals for 0 0\n",
      "got 1000 proposals for 0 1000\n",
      "got 1000 proposals for 0 2000\n",
      "got 666 proposals for 0 3000\n",
      "got 1000 proposals for 1 0\n",
      "got 1000 proposals for 1 1000\n",
      "got 1000 proposals for 1 2000\n",
      "got 1000 proposals for 1 3000\n",
      "got 825 proposals for 1 4000\n",
      "got 1000 proposals for 2 0\n",
      "got 1000 proposals for 2 1000\n",
      "got 1000 proposals for 2 2000\n",
      "got 1000 proposals for 2 3000\n",
      "got 1000 proposals for 2 4000\n",
      "got 449 proposals for 2 5000\n",
      "got 1000 proposals for 3 0\n",
      "got 1000 proposals for 3 1000\n",
      "got 1000 proposals for 3 2000\n",
      "got 1000 proposals for 3 3000\n",
      "got 1000 proposals for 3 4000\n",
      "got 652 proposals for 3 5000\n",
      "got 1000 proposals for 4 0\n",
      "got 1000 proposals for 4 1000\n",
      "got 1000 proposals for 4 2000\n",
      "got 1000 proposals for 4 3000\n",
      "got 1000 proposals for 4 4000\n",
      "got 218 proposals for 4 5000\n",
      "got 1000 proposals for 5 0\n",
      "got 1000 proposals for 5 1000\n",
      "got 1000 proposals for 5 2000\n",
      "got 1000 proposals for 5 3000\n",
      "got 1000 proposals for 5 4000\n",
      "got 97 proposals for 5 5000\n",
      "got 1000 proposals for 6 0\n",
      "got 1000 proposals for 6 1000\n",
      "got 1000 proposals for 6 2000\n",
      "got 1000 proposals for 6 3000\n",
      "got 946 proposals for 6 4000\n",
      "got 1000 proposals for 7 0\n",
      "got 1000 proposals for 7 1000\n",
      "got 1000 proposals for 7 2000\n",
      "got 1000 proposals for 7 3000\n",
      "got 953 proposals for 7 4000\n",
      "got 1000 proposals for 8 0\n",
      "got 1000 proposals for 8 1000\n",
      "got 1000 proposals for 8 2000\n",
      "got 1000 proposals for 8 3000\n",
      "got 1000 proposals for 8 4000\n",
      "got 190 proposals for 8 5000\n",
      "got 1000 proposals for 9 0\n",
      "got 1000 proposals for 9 1000\n",
      "got 1000 proposals for 9 2000\n",
      "got 1000 proposals for 9 3000\n",
      "got 1000 proposals for 9 4000\n",
      "got 170 proposals for 9 5000\n",
      "got 1000 proposals for 10 0\n",
      "got 1000 proposals for 10 1000\n",
      "got 1000 proposals for 10 2000\n",
      "got 1000 proposals for 10 3000\n",
      "got 1000 proposals for 10 4000\n",
      "got 11 proposals for 10 5000\n",
      "got 1000 proposals for 11 0\n",
      "got 1000 proposals for 11 1000\n",
      "got 1000 proposals for 11 2000\n",
      "got 1000 proposals for 11 3000\n",
      "got 1000 proposals for 11 4000\n",
      "got 185 proposals for 11 5000\n",
      "got 1000 proposals for 12 0\n",
      "got 1000 proposals for 12 1000\n",
      "got 1000 proposals for 12 2000\n",
      "got 1000 proposals for 12 3000\n",
      "got 1000 proposals for 12 4000\n",
      "got 116 proposals for 12 5000\n",
      "got 1000 proposals for 13 0\n",
      "got 1000 proposals for 13 1000\n",
      "got 1000 proposals for 13 2000\n",
      "got 1000 proposals for 13 3000\n",
      "got 981 proposals for 13 4000\n",
      "got 1000 proposals for 14 0\n",
      "got 1000 proposals for 14 1000\n",
      "got 1000 proposals for 14 2000\n",
      "got 1000 proposals for 14 3000\n",
      "got 1000 proposals for 14 4000\n",
      "got 175 proposals for 14 5000\n",
      "got 1000 proposals for 15 0\n",
      "got 1000 proposals for 15 1000\n",
      "got 1000 proposals for 15 2000\n",
      "got 1000 proposals for 15 3000\n",
      "got 1000 proposals for 15 4000\n",
      "got 138 proposals for 15 5000\n",
      "got 1000 proposals for 16 0\n",
      "got 1000 proposals for 16 1000\n",
      "got 1000 proposals for 16 2000\n",
      "got 1000 proposals for 16 3000\n",
      "got 1000 proposals for 16 4000\n",
      "got 90 proposals for 16 5000\n",
      "got 1000 proposals for 17 0\n",
      "got 1000 proposals for 17 1000\n",
      "got 1000 proposals for 17 2000\n",
      "got 1000 proposals for 17 3000\n",
      "got 1000 proposals for 17 4000\n",
      "got 127 proposals for 17 5000\n",
      "got 1000 proposals for 18 0\n",
      "got 1000 proposals for 18 1000\n",
      "got 1000 proposals for 18 2000\n",
      "got 1000 proposals for 18 3000\n",
      "got 1000 proposals for 18 4000\n",
      "got 200 proposals for 18 5000\n",
      "got 1000 proposals for 19 0\n",
      "got 1000 proposals for 19 1000\n",
      "got 1000 proposals for 19 2000\n",
      "got 1000 proposals for 19 3000\n",
      "got 1000 proposals for 19 4000\n",
      "got 156 proposals for 19 5000\n",
      "got 1000 proposals for 20 0\n",
      "got 1000 proposals for 20 1000\n",
      "got 1000 proposals for 20 2000\n",
      "got 1000 proposals for 20 3000\n",
      "got 1000 proposals for 20 4000\n",
      "got 127 proposals for 20 5000\n",
      "got 1000 proposals for 21 0\n",
      "got 1000 proposals for 21 1000\n",
      "got 1000 proposals for 21 2000\n",
      "got 1000 proposals for 21 3000\n",
      "got 1000 proposals for 21 4000\n",
      "got 806 proposals for 21 5000\n",
      "got 1000 proposals for 22 0\n",
      "got 1000 proposals for 22 1000\n",
      "got 1000 proposals for 22 2000\n",
      "got 1000 proposals for 22 3000\n",
      "got 1000 proposals for 22 4000\n",
      "got 109 proposals for 22 5000\n",
      "got 1000 proposals for 23 0\n",
      "got 1000 proposals for 23 1000\n",
      "got 1000 proposals for 23 2000\n",
      "got 1000 proposals for 23 3000\n",
      "got 1000 proposals for 23 4000\n",
      "got 116 proposals for 23 5000\n",
      "got 1000 proposals for 24 0\n",
      "got 1000 proposals for 24 1000\n",
      "got 1000 proposals for 24 2000\n",
      "got 33 proposals for 24 3000\n"
     ]
    }
   ],
   "source": [
    "import json\n",
    "from tqdm.autonotebook import tqdm\n",
    "\n",
    "for count, space_id_group in enumerate(tqdm(groups_of_space_ids_that_sum_to_less_than_5000_strings)):\n",
    "    # make pagination logic\n",
    "    skip = 0\n",
    "    has_more = True\n",
    "    while has_more:\n",
    "        filename = f'proposals_out_2023_07_21/proposals_{count}_{skip}.json'\n",
    "        next_proposals_filename = f'proposals_out_2023_07_21/proposals_{count}_{skip + 1000}.json'\n",
    "        if os.path.exists(next_proposals_filename):\n",
    "            print(f'next file exists: {next_proposals_filename}')\n",
    "            skip += 1000\n",
    "            continue\n",
    "        next_group_filename = f'proposals_out_2023_07_21/proposals_{count + 1}_0.json'\n",
    "        if os.path.exists(next_group_filename):\n",
    "            print(f'next group file exists: {next_group_filename}')\n",
    "            has_more = False\n",
    "            continue\n",
    "        query = make_query(space_id_group, skip)\n",
    "        result = query_snapshot(query)\n",
    "        proposals = result['data']['proposals']\n",
    "        print('got', len(proposals), 'proposals for', count, skip)\n",
    "        # save proposals to file in the output dir\n",
    "        with open(filename, 'w') as f:\n",
    "            json.dump(proposals, f)\n",
    "        if len(proposals) == 1000:\n",
    "            skip += 1000\n",
    "        else:\n",
    "            has_more = False\n"
   ]
  }
 ],
 "metadata": {
  "kernelspec": {
   "display_name": "Python 3",
   "language": "python",
   "name": "python3"
  },
  "language_info": {
   "codemirror_mode": {
    "name": "ipython",
    "version": 3
   },
   "file_extension": ".py",
   "mimetype": "text/x-python",
   "name": "python",
   "nbconvert_exporter": "python",
   "pygments_lexer": "ipython3",
   "version": "3.11.6"
  },
  "papermill": {
   "default_parameters": {},
   "duration": 3.237577,
   "end_time": "2024-01-22T18:42:24.819728",
   "environment_variables": {},
   "exception": null,
   "input_path": "./proposals/snapshot/download_all_proposals_new.ipynb",
   "output_path": "./proposals/snapshot/download_all_proposals_new.ipynb",
   "parameters": {},
   "start_time": "2024-01-22T18:42:21.582151",
   "version": "2.4.0"
  }
 },
 "nbformat": 4,
 "nbformat_minor": 5
}
