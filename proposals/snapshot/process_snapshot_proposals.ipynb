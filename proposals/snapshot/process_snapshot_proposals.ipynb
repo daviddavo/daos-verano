{
 "cells": [
  {
   "cell_type": "code",
   "execution_count": 1,
   "id": "3b552ded",
   "metadata": {
    "execution": {
     "iopub.execute_input": "2023-12-14T11:51:03.763982Z",
     "iopub.status.busy": "2023-12-14T11:51:03.763701Z",
     "iopub.status.idle": "2023-12-14T11:51:04.086714Z",
     "shell.execute_reply": "2023-12-14T11:51:04.086179Z"
    },
    "papermill": {
     "duration": 0.329979,
     "end_time": "2023-12-14T11:51:04.088697",
     "exception": false,
     "start_time": "2023-12-14T11:51:03.758718",
     "status": "completed"
    },
    "tags": []
   },
   "outputs": [
    {
     "data": {
      "text/plain": [
       "122"
      ]
     },
     "execution_count": 1,
     "metadata": {},
     "output_type": "execute_result"
    }
   ],
   "source": [
    "# get all of the json files in proposals_out_2023_07_21\n",
    "# read them all as one big dataframe\n",
    "\n",
    "import pandas as pd\n",
    "import glob\n",
    "\n",
    "# get all of the json files in proposals_out_2023_07_21\n",
    "file_names = glob.glob('proposals_out_2023_07_21/*.json')\n",
    "len(file_names)"
   ]
  },
  {
   "cell_type": "code",
   "execution_count": 2,
   "id": "d57177b7",
   "metadata": {
    "execution": {
     "iopub.execute_input": "2023-12-14T11:51:04.096362Z",
     "iopub.status.busy": "2023-12-14T11:51:04.096101Z",
     "iopub.status.idle": "2023-12-14T11:51:04.100902Z",
     "shell.execute_reply": "2023-12-14T11:51:04.100440Z"
    },
    "papermill": {
     "duration": 0.009387,
     "end_time": "2023-12-14T11:51:04.102190",
     "exception": false,
     "start_time": "2023-12-14T11:51:04.092803",
     "status": "completed"
    },
    "tags": []
   },
   "outputs": [],
   "source": [
    "# monkeypatch json\n",
    "# monkeypatch using standard python json module\n",
    "\n",
    "import json\n",
    "\n",
    "pd.io.json._json.loads = lambda s, *a, **kw: json.loads(s)\n",
    "\n",
    "# monkeypatch using faster simplejson module\n",
    "import simplejson\n",
    "pd.io.json._json.loads = lambda s, *a, **kw: simplejson.loads(s)\n",
    "\n",
    "# normalising (unnesting) at the same time (for nested jsons)\n",
    "pd.io.json._json.loads = lambda s, *a, **kw: pd.json_normalize(simplejson.loads(s))"
   ]
  },
  {
   "cell_type": "code",
   "execution_count": 3,
   "id": "7e5f8b19",
   "metadata": {
    "execution": {
     "iopub.execute_input": "2023-12-14T11:51:04.108191Z",
     "iopub.status.busy": "2023-12-14T11:51:04.107831Z",
     "iopub.status.idle": "2023-12-14T11:51:05.629695Z",
     "shell.execute_reply": "2023-12-14T11:51:05.629184Z"
    },
    "papermill": {
     "duration": 1.52586,
     "end_time": "2023-12-14T11:51:05.630614",
     "exception": false,
     "start_time": "2023-12-14T11:51:04.104754",
     "status": "completed"
    },
    "tags": []
   },
   "outputs": [
    {
     "data": {
      "text/plain": [
       "(116544, 9)"
      ]
     },
     "execution_count": 3,
     "metadata": {},
     "output_type": "execute_result"
    }
   ],
   "source": [
    "# read them all as one big dataframe\n",
    "df = pd.concat([pd.read_json(f) for f in file_names], ignore_index=True)\n",
    "df.shape"
   ]
  },
  {
   "cell_type": "code",
   "execution_count": 4,
   "id": "c6579aa0",
   "metadata": {
    "execution": {
     "iopub.execute_input": "2023-12-14T11:51:05.641038Z",
     "iopub.status.busy": "2023-12-14T11:51:05.640844Z",
     "iopub.status.idle": "2023-12-14T11:51:05.647238Z",
     "shell.execute_reply": "2023-12-14T11:51:05.646932Z"
    },
    "papermill": {
     "duration": 0.015671,
     "end_time": "2023-12-14T11:51:05.647989",
     "exception": false,
     "start_time": "2023-12-14T11:51:05.632318",
     "status": "completed"
    },
    "tags": []
   },
   "outputs": [
    {
     "data": {
      "text/html": [
       "<div>\n",
       "<style scoped>\n",
       "    .dataframe tbody tr th:only-of-type {\n",
       "        vertical-align: middle;\n",
       "    }\n",
       "\n",
       "    .dataframe tbody tr th {\n",
       "        vertical-align: top;\n",
       "    }\n",
       "\n",
       "    .dataframe thead th {\n",
       "        text-align: right;\n",
       "    }\n",
       "</style>\n",
       "<table border=\"1\" class=\"dataframe\">\n",
       "  <thead>\n",
       "    <tr style=\"text-align: right;\">\n",
       "      <th></th>\n",
       "      <th>id</th>\n",
       "      <th>author</th>\n",
       "      <th>created</th>\n",
       "      <th>votes</th>\n",
       "      <th>title</th>\n",
       "      <th>body</th>\n",
       "      <th>start</th>\n",
       "      <th>end</th>\n",
       "      <th>space.id</th>\n",
       "    </tr>\n",
       "  </thead>\n",
       "  <tbody>\n",
       "    <tr>\n",
       "      <th>0</th>\n",
       "      <td>0xd8c75dbcb32a6c82e049b482ecaa9706a78c2fc91d1a...</td>\n",
       "      <td>0x2b49F45B80d7AD5C3Af9C96B5B664A953979d16A</td>\n",
       "      <td>1638196253</td>\n",
       "      <td>3</td>\n",
       "      <td>Is SocialFi or GameFi next hustle?</td>\n",
       "      <td></td>\n",
       "      <td>1638158400</td>\n",
       "      <td>1656561600</td>\n",
       "      <td>modeplc.eth</td>\n",
       "    </tr>\n",
       "    <tr>\n",
       "      <th>1</th>\n",
       "      <td>0xf4fbef4f0a128f233b6da3b744d10d3b7a3c74d4b048...</td>\n",
       "      <td>0x2b49F45B80d7AD5C3Af9C96B5B664A953979d16A</td>\n",
       "      <td>1638195789</td>\n",
       "      <td>3</td>\n",
       "      <td>Is SocialFi or GameFi next hustle?</td>\n",
       "      <td></td>\n",
       "      <td>1638158400</td>\n",
       "      <td>1656561600</td>\n",
       "      <td>modeplc.eth</td>\n",
       "    </tr>\n",
       "    <tr>\n",
       "      <th>2</th>\n",
       "      <td>0xdd9a17031b8e109c04cef929129692e1632e8cfc40a6...</td>\n",
       "      <td>0x9349738c1491d4DDDfddDc3A4Cb0E3e709934C63</td>\n",
       "      <td>1638194719</td>\n",
       "      <td>5</td>\n",
       "      <td>Will Elon be the leadship in Crypto?</td>\n",
       "      <td></td>\n",
       "      <td>1638158400</td>\n",
       "      <td>1656561600</td>\n",
       "      <td>brummer.eth</td>\n",
       "    </tr>\n",
       "    <tr>\n",
       "      <th>3</th>\n",
       "      <td>0xc8c4f6054e9f9e1255768752ee07aaa9bdca15c95749...</td>\n",
       "      <td>0xB2b8DE16675ef164e51910BDf15e62F2f80f7f4c</td>\n",
       "      <td>1638193655</td>\n",
       "      <td>14</td>\n",
       "      <td>[BRIGHT-1] Chain for Bright Union NFT collection</td>\n",
       "      <td>As part of the BRIGHT loyalty program NFTs fro...</td>\n",
       "      <td>1638172800</td>\n",
       "      <td>1638529200</td>\n",
       "      <td>brightunion.eth</td>\n",
       "    </tr>\n",
       "    <tr>\n",
       "      <th>4</th>\n",
       "      <td>0xb7ed8c45ce8f8c23e52acc057ddc3d987d012532df7f...</td>\n",
       "      <td>0xAB45d5A30034e7959968cB7362f494bb95c19aB7</td>\n",
       "      <td>1638179838</td>\n",
       "      <td>24</td>\n",
       "      <td>DAO Leadership Nominations</td>\n",
       "      <td>This vote is open to DYSTOMICE, SPACEMICE and ...</td>\n",
       "      <td>1638216000</td>\n",
       "      <td>1638388800</td>\n",
       "      <td>dystomice.eth</td>\n",
       "    </tr>\n",
       "  </tbody>\n",
       "</table>\n",
       "</div>"
      ],
      "text/plain": [
       "                                                  id  \\\n",
       "0  0xd8c75dbcb32a6c82e049b482ecaa9706a78c2fc91d1a...   \n",
       "1  0xf4fbef4f0a128f233b6da3b744d10d3b7a3c74d4b048...   \n",
       "2  0xdd9a17031b8e109c04cef929129692e1632e8cfc40a6...   \n",
       "3  0xc8c4f6054e9f9e1255768752ee07aaa9bdca15c95749...   \n",
       "4  0xb7ed8c45ce8f8c23e52acc057ddc3d987d012532df7f...   \n",
       "\n",
       "                                       author     created  votes  \\\n",
       "0  0x2b49F45B80d7AD5C3Af9C96B5B664A953979d16A  1638196253      3   \n",
       "1  0x2b49F45B80d7AD5C3Af9C96B5B664A953979d16A  1638195789      3   \n",
       "2  0x9349738c1491d4DDDfddDc3A4Cb0E3e709934C63  1638194719      5   \n",
       "3  0xB2b8DE16675ef164e51910BDf15e62F2f80f7f4c  1638193655     14   \n",
       "4  0xAB45d5A30034e7959968cB7362f494bb95c19aB7  1638179838     24   \n",
       "\n",
       "                                              title  \\\n",
       "0                Is SocialFi or GameFi next hustle?   \n",
       "1                Is SocialFi or GameFi next hustle?   \n",
       "2              Will Elon be the leadship in Crypto?   \n",
       "3  [BRIGHT-1] Chain for Bright Union NFT collection   \n",
       "4                        DAO Leadership Nominations   \n",
       "\n",
       "                                                body       start         end  \\\n",
       "0                                                     1638158400  1656561600   \n",
       "1                                                     1638158400  1656561600   \n",
       "2                                                     1638158400  1656561600   \n",
       "3  As part of the BRIGHT loyalty program NFTs fro...  1638172800  1638529200   \n",
       "4  This vote is open to DYSTOMICE, SPACEMICE and ...  1638216000  1638388800   \n",
       "\n",
       "          space.id  \n",
       "0      modeplc.eth  \n",
       "1      modeplc.eth  \n",
       "2      brummer.eth  \n",
       "3  brightunion.eth  \n",
       "4    dystomice.eth  "
      ]
     },
     "execution_count": 4,
     "metadata": {},
     "output_type": "execute_result"
    }
   ],
   "source": [
    "df.head()"
   ]
  },
  {
   "cell_type": "code",
   "execution_count": 5,
   "id": "d7694520",
   "metadata": {
    "execution": {
     "iopub.execute_input": "2023-12-14T11:51:05.651911Z",
     "iopub.status.busy": "2023-12-14T11:51:05.651756Z",
     "iopub.status.idle": "2023-12-14T11:51:05.655598Z",
     "shell.execute_reply": "2023-12-14T11:51:05.655207Z"
    },
    "papermill": {
     "duration": 0.006714,
     "end_time": "2023-12-14T11:51:05.656299",
     "exception": false,
     "start_time": "2023-12-14T11:51:05.649585",
     "status": "completed"
    },
    "tags": []
   },
   "outputs": [
    {
     "data": {
      "text/plain": [
       "id          0x6ea46224e78ace67342fab4be1ab3853381878bcebee...\n",
       "author             0x65a5aBB63bb431a9B8377487d0A8cd2a797856f0\n",
       "created                                            1637860350\n",
       "votes                                                       1\n",
       "title             How many times will GhostBlockNFT increase?\n",
       "body              How many times will GhostBlockNFT increase?\n",
       "start                                              1637856000\n",
       "end                                                1638244800\n",
       "space.id                                           xiaohe.eth\n",
       "Name: 40, dtype: object"
      ]
     },
     "execution_count": 5,
     "metadata": {},
     "output_type": "execute_result"
    }
   ],
   "source": [
    "df.iloc[40]"
   ]
  },
  {
   "cell_type": "code",
   "execution_count": 6,
   "id": "fbb299e9",
   "metadata": {
    "execution": {
     "iopub.execute_input": "2023-12-14T11:51:05.660205Z",
     "iopub.status.busy": "2023-12-14T11:51:05.660014Z",
     "iopub.status.idle": "2023-12-14T11:51:05.662689Z",
     "shell.execute_reply": "2023-12-14T11:51:05.662419Z"
    },
    "papermill": {
     "duration": 0.005423,
     "end_time": "2023-12-14T11:51:05.663383",
     "exception": false,
     "start_time": "2023-12-14T11:51:05.657960",
     "status": "completed"
    },
    "tags": []
   },
   "outputs": [
    {
     "data": {
      "text/plain": [
       "Index(['id', 'author', 'created', 'votes', 'title', 'body', 'start', 'end',\n",
       "       'space.id'],\n",
       "      dtype='object')"
      ]
     },
     "execution_count": 6,
     "metadata": {},
     "output_type": "execute_result"
    }
   ],
   "source": [
    "df.columns"
   ]
  },
  {
   "cell_type": "code",
   "execution_count": 7,
   "id": "46d9150d",
   "metadata": {
    "execution": {
     "iopub.execute_input": "2023-12-14T11:51:05.667230Z",
     "iopub.status.busy": "2023-12-14T11:51:05.667003Z",
     "iopub.status.idle": "2023-12-14T11:51:05.737377Z",
     "shell.execute_reply": "2023-12-14T11:51:05.736776Z"
    },
    "papermill": {
     "duration": 0.073216,
     "end_time": "2023-12-14T11:51:05.738256",
     "exception": false,
     "start_time": "2023-12-14T11:51:05.665040",
     "status": "completed"
    },
    "tags": []
   },
   "outputs": [
    {
     "data": {
      "text/html": [
       "<div>\n",
       "<style scoped>\n",
       "    .dataframe tbody tr th:only-of-type {\n",
       "        vertical-align: middle;\n",
       "    }\n",
       "\n",
       "    .dataframe tbody tr th {\n",
       "        vertical-align: top;\n",
       "    }\n",
       "\n",
       "    .dataframe thead th {\n",
       "        text-align: right;\n",
       "    }\n",
       "</style>\n",
       "<table border=\"1\" class=\"dataframe\">\n",
       "  <thead>\n",
       "    <tr style=\"text-align: right;\">\n",
       "      <th></th>\n",
       "      <th>platform</th>\n",
       "      <th>platform_deployment_id</th>\n",
       "      <th>proposal_id</th>\n",
       "      <th>author</th>\n",
       "      <th>date</th>\n",
       "      <th>votes_count</th>\n",
       "      <th>title</th>\n",
       "      <th>description</th>\n",
       "      <th>start</th>\n",
       "      <th>end</th>\n",
       "    </tr>\n",
       "  </thead>\n",
       "  <tbody>\n",
       "    <tr>\n",
       "      <th>0</th>\n",
       "      <td>snapshot</td>\n",
       "      <td>modeplc.eth</td>\n",
       "      <td>0xd8c75dbcb32a6c82e049b482ecaa9706a78c2fc91d1a...</td>\n",
       "      <td>0x2b49F45B80d7AD5C3Af9C96B5B664A953979d16A</td>\n",
       "      <td>1638196253</td>\n",
       "      <td>3</td>\n",
       "      <td>Is SocialFi or GameFi next hustle?</td>\n",
       "      <td></td>\n",
       "      <td>1638158400</td>\n",
       "      <td>1656561600</td>\n",
       "    </tr>\n",
       "    <tr>\n",
       "      <th>1</th>\n",
       "      <td>snapshot</td>\n",
       "      <td>modeplc.eth</td>\n",
       "      <td>0xf4fbef4f0a128f233b6da3b744d10d3b7a3c74d4b048...</td>\n",
       "      <td>0x2b49F45B80d7AD5C3Af9C96B5B664A953979d16A</td>\n",
       "      <td>1638195789</td>\n",
       "      <td>3</td>\n",
       "      <td>Is SocialFi or GameFi next hustle?</td>\n",
       "      <td></td>\n",
       "      <td>1638158400</td>\n",
       "      <td>1656561600</td>\n",
       "    </tr>\n",
       "    <tr>\n",
       "      <th>2</th>\n",
       "      <td>snapshot</td>\n",
       "      <td>brummer.eth</td>\n",
       "      <td>0xdd9a17031b8e109c04cef929129692e1632e8cfc40a6...</td>\n",
       "      <td>0x9349738c1491d4DDDfddDc3A4Cb0E3e709934C63</td>\n",
       "      <td>1638194719</td>\n",
       "      <td>5</td>\n",
       "      <td>Will Elon be the leadship in Crypto?</td>\n",
       "      <td></td>\n",
       "      <td>1638158400</td>\n",
       "      <td>1656561600</td>\n",
       "    </tr>\n",
       "    <tr>\n",
       "      <th>3</th>\n",
       "      <td>snapshot</td>\n",
       "      <td>brightunion.eth</td>\n",
       "      <td>0xc8c4f6054e9f9e1255768752ee07aaa9bdca15c95749...</td>\n",
       "      <td>0xB2b8DE16675ef164e51910BDf15e62F2f80f7f4c</td>\n",
       "      <td>1638193655</td>\n",
       "      <td>14</td>\n",
       "      <td>[BRIGHT-1] Chain for Bright Union NFT collection</td>\n",
       "      <td>As part of the BRIGHT loyalty program NFTs fro...</td>\n",
       "      <td>1638172800</td>\n",
       "      <td>1638529200</td>\n",
       "    </tr>\n",
       "    <tr>\n",
       "      <th>4</th>\n",
       "      <td>snapshot</td>\n",
       "      <td>dystomice.eth</td>\n",
       "      <td>0xb7ed8c45ce8f8c23e52acc057ddc3d987d012532df7f...</td>\n",
       "      <td>0xAB45d5A30034e7959968cB7362f494bb95c19aB7</td>\n",
       "      <td>1638179838</td>\n",
       "      <td>24</td>\n",
       "      <td>DAO Leadership Nominations</td>\n",
       "      <td>This vote is open to DYSTOMICE, SPACEMICE and ...</td>\n",
       "      <td>1638216000</td>\n",
       "      <td>1638388800</td>\n",
       "    </tr>\n",
       "  </tbody>\n",
       "</table>\n",
       "</div>"
      ],
      "text/plain": [
       "   platform platform_deployment_id  \\\n",
       "0  snapshot            modeplc.eth   \n",
       "1  snapshot            modeplc.eth   \n",
       "2  snapshot            brummer.eth   \n",
       "3  snapshot        brightunion.eth   \n",
       "4  snapshot          dystomice.eth   \n",
       "\n",
       "                                         proposal_id  \\\n",
       "0  0xd8c75dbcb32a6c82e049b482ecaa9706a78c2fc91d1a...   \n",
       "1  0xf4fbef4f0a128f233b6da3b744d10d3b7a3c74d4b048...   \n",
       "2  0xdd9a17031b8e109c04cef929129692e1632e8cfc40a6...   \n",
       "3  0xc8c4f6054e9f9e1255768752ee07aaa9bdca15c95749...   \n",
       "4  0xb7ed8c45ce8f8c23e52acc057ddc3d987d012532df7f...   \n",
       "\n",
       "                                       author        date  votes_count  \\\n",
       "0  0x2b49F45B80d7AD5C3Af9C96B5B664A953979d16A  1638196253            3   \n",
       "1  0x2b49F45B80d7AD5C3Af9C96B5B664A953979d16A  1638195789            3   \n",
       "2  0x9349738c1491d4DDDfddDc3A4Cb0E3e709934C63  1638194719            5   \n",
       "3  0xB2b8DE16675ef164e51910BDf15e62F2f80f7f4c  1638193655           14   \n",
       "4  0xAB45d5A30034e7959968cB7362f494bb95c19aB7  1638179838           24   \n",
       "\n",
       "                                              title  \\\n",
       "0                Is SocialFi or GameFi next hustle?   \n",
       "1                Is SocialFi or GameFi next hustle?   \n",
       "2              Will Elon be the leadship in Crypto?   \n",
       "3  [BRIGHT-1] Chain for Bright Union NFT collection   \n",
       "4                        DAO Leadership Nominations   \n",
       "\n",
       "                                         description       start         end  \n",
       "0                                                     1638158400  1656561600  \n",
       "1                                                     1638158400  1656561600  \n",
       "2                                                     1638158400  1656561600  \n",
       "3  As part of the BRIGHT loyalty program NFTs fro...  1638172800  1638529200  \n",
       "4  This vote is open to DYSTOMICE, SPACEMICE and ...  1638216000  1638388800  "
      ]
     },
     "execution_count": 7,
     "metadata": {},
     "output_type": "execute_result"
    }
   ],
   "source": [
    "# * platform\n",
    "df['platform'] = 'snapshot'\n",
    "# * rename space.id to platform_deployment_id\n",
    "df.rename(columns={'space.id': 'platform_deployment_id'}, inplace=True)\n",
    "# * rename id to proposal_id\n",
    "df.rename(columns={'id': 'proposal_id'}, inplace=True)\n",
    "# * author no chg\n",
    "# * rename created to date\n",
    "df.rename(columns={'created': 'date'}, inplace=True)\n",
    "# * votes to votes_count\n",
    "df.rename(columns={'votes': 'votes_count'}, inplace=True)\n",
    "# * body to description\n",
    "df.rename(columns={'body': 'description'}, inplace=True)\n",
    "\n",
    "# keep only these cols\n",
    "df = df[['platform', 'platform_deployment_id', 'proposal_id', 'author', 'date', 'votes_count', 'title', 'description', 'start', 'end']]\n",
    "df.head()"
   ]
  },
  {
   "cell_type": "code",
   "execution_count": 8,
   "id": "49df6ef0",
   "metadata": {
    "execution": {
     "iopub.execute_input": "2023-12-14T11:51:05.744917Z",
     "iopub.status.busy": "2023-12-14T11:51:05.744666Z",
     "iopub.status.idle": "2023-12-14T11:51:05.769735Z",
     "shell.execute_reply": "2023-12-14T11:51:05.769352Z"
    },
    "papermill": {
     "duration": 0.029323,
     "end_time": "2023-12-14T11:51:05.770605",
     "exception": false,
     "start_time": "2023-12-14T11:51:05.741282",
     "status": "completed"
    },
    "tags": []
   },
   "outputs": [
    {
     "data": {
      "text/html": [
       "<div>\n",
       "<style scoped>\n",
       "    .dataframe tbody tr th:only-of-type {\n",
       "        vertical-align: middle;\n",
       "    }\n",
       "\n",
       "    .dataframe tbody tr th {\n",
       "        vertical-align: top;\n",
       "    }\n",
       "\n",
       "    .dataframe thead th {\n",
       "        text-align: right;\n",
       "    }\n",
       "</style>\n",
       "<table border=\"1\" class=\"dataframe\">\n",
       "  <thead>\n",
       "    <tr style=\"text-align: right;\">\n",
       "      <th></th>\n",
       "      <th>platform</th>\n",
       "      <th>platform_deployment_id</th>\n",
       "      <th>proposal_id</th>\n",
       "      <th>author</th>\n",
       "      <th>date</th>\n",
       "      <th>votes_count</th>\n",
       "      <th>title</th>\n",
       "      <th>description</th>\n",
       "      <th>start</th>\n",
       "      <th>end</th>\n",
       "    </tr>\n",
       "  </thead>\n",
       "  <tbody>\n",
       "    <tr>\n",
       "      <th>0</th>\n",
       "      <td>snapshot</td>\n",
       "      <td>modeplc.eth</td>\n",
       "      <td>0xd8c75dbcb32a6c82e049b482ecaa9706a78c2fc91d1a...</td>\n",
       "      <td>0x2b49F45B80d7AD5C3Af9C96B5B664A953979d16A</td>\n",
       "      <td>2021-11-29 14:30:53</td>\n",
       "      <td>3</td>\n",
       "      <td>Is SocialFi or GameFi next hustle?</td>\n",
       "      <td></td>\n",
       "      <td>2021-11-29 04:00:00</td>\n",
       "      <td>2022-06-30 04:00:00</td>\n",
       "    </tr>\n",
       "    <tr>\n",
       "      <th>1</th>\n",
       "      <td>snapshot</td>\n",
       "      <td>modeplc.eth</td>\n",
       "      <td>0xf4fbef4f0a128f233b6da3b744d10d3b7a3c74d4b048...</td>\n",
       "      <td>0x2b49F45B80d7AD5C3Af9C96B5B664A953979d16A</td>\n",
       "      <td>2021-11-29 14:23:09</td>\n",
       "      <td>3</td>\n",
       "      <td>Is SocialFi or GameFi next hustle?</td>\n",
       "      <td></td>\n",
       "      <td>2021-11-29 04:00:00</td>\n",
       "      <td>2022-06-30 04:00:00</td>\n",
       "    </tr>\n",
       "    <tr>\n",
       "      <th>2</th>\n",
       "      <td>snapshot</td>\n",
       "      <td>brummer.eth</td>\n",
       "      <td>0xdd9a17031b8e109c04cef929129692e1632e8cfc40a6...</td>\n",
       "      <td>0x9349738c1491d4DDDfddDc3A4Cb0E3e709934C63</td>\n",
       "      <td>2021-11-29 14:05:19</td>\n",
       "      <td>5</td>\n",
       "      <td>Will Elon be the leadship in Crypto?</td>\n",
       "      <td></td>\n",
       "      <td>2021-11-29 04:00:00</td>\n",
       "      <td>2022-06-30 04:00:00</td>\n",
       "    </tr>\n",
       "    <tr>\n",
       "      <th>3</th>\n",
       "      <td>snapshot</td>\n",
       "      <td>brightunion.eth</td>\n",
       "      <td>0xc8c4f6054e9f9e1255768752ee07aaa9bdca15c95749...</td>\n",
       "      <td>0xB2b8DE16675ef164e51910BDf15e62F2f80f7f4c</td>\n",
       "      <td>2021-11-29 13:47:35</td>\n",
       "      <td>14</td>\n",
       "      <td>[BRIGHT-1] Chain for Bright Union NFT collection</td>\n",
       "      <td>As part of the BRIGHT loyalty program NFTs fro...</td>\n",
       "      <td>2021-11-29 08:00:00</td>\n",
       "      <td>2021-12-03 11:00:00</td>\n",
       "    </tr>\n",
       "    <tr>\n",
       "      <th>4</th>\n",
       "      <td>snapshot</td>\n",
       "      <td>dystomice.eth</td>\n",
       "      <td>0xb7ed8c45ce8f8c23e52acc057ddc3d987d012532df7f...</td>\n",
       "      <td>0xAB45d5A30034e7959968cB7362f494bb95c19aB7</td>\n",
       "      <td>2021-11-29 09:57:18</td>\n",
       "      <td>24</td>\n",
       "      <td>DAO Leadership Nominations</td>\n",
       "      <td>This vote is open to DYSTOMICE, SPACEMICE and ...</td>\n",
       "      <td>2021-11-29 20:00:00</td>\n",
       "      <td>2021-12-01 20:00:00</td>\n",
       "    </tr>\n",
       "  </tbody>\n",
       "</table>\n",
       "</div>"
      ],
      "text/plain": [
       "   platform platform_deployment_id  \\\n",
       "0  snapshot            modeplc.eth   \n",
       "1  snapshot            modeplc.eth   \n",
       "2  snapshot            brummer.eth   \n",
       "3  snapshot        brightunion.eth   \n",
       "4  snapshot          dystomice.eth   \n",
       "\n",
       "                                         proposal_id  \\\n",
       "0  0xd8c75dbcb32a6c82e049b482ecaa9706a78c2fc91d1a...   \n",
       "1  0xf4fbef4f0a128f233b6da3b744d10d3b7a3c74d4b048...   \n",
       "2  0xdd9a17031b8e109c04cef929129692e1632e8cfc40a6...   \n",
       "3  0xc8c4f6054e9f9e1255768752ee07aaa9bdca15c95749...   \n",
       "4  0xb7ed8c45ce8f8c23e52acc057ddc3d987d012532df7f...   \n",
       "\n",
       "                                       author                date  \\\n",
       "0  0x2b49F45B80d7AD5C3Af9C96B5B664A953979d16A 2021-11-29 14:30:53   \n",
       "1  0x2b49F45B80d7AD5C3Af9C96B5B664A953979d16A 2021-11-29 14:23:09   \n",
       "2  0x9349738c1491d4DDDfddDc3A4Cb0E3e709934C63 2021-11-29 14:05:19   \n",
       "3  0xB2b8DE16675ef164e51910BDf15e62F2f80f7f4c 2021-11-29 13:47:35   \n",
       "4  0xAB45d5A30034e7959968cB7362f494bb95c19aB7 2021-11-29 09:57:18   \n",
       "\n",
       "   votes_count                                             title  \\\n",
       "0            3                Is SocialFi or GameFi next hustle?   \n",
       "1            3                Is SocialFi or GameFi next hustle?   \n",
       "2            5              Will Elon be the leadship in Crypto?   \n",
       "3           14  [BRIGHT-1] Chain for Bright Union NFT collection   \n",
       "4           24                        DAO Leadership Nominations   \n",
       "\n",
       "                                         description               start  \\\n",
       "0                                                    2021-11-29 04:00:00   \n",
       "1                                                    2021-11-29 04:00:00   \n",
       "2                                                    2021-11-29 04:00:00   \n",
       "3  As part of the BRIGHT loyalty program NFTs fro... 2021-11-29 08:00:00   \n",
       "4  This vote is open to DYSTOMICE, SPACEMICE and ... 2021-11-29 20:00:00   \n",
       "\n",
       "                  end  \n",
       "0 2022-06-30 04:00:00  \n",
       "1 2022-06-30 04:00:00  \n",
       "2 2022-06-30 04:00:00  \n",
       "3 2021-12-03 11:00:00  \n",
       "4 2021-12-01 20:00:00  "
      ]
     },
     "execution_count": 8,
     "metadata": {},
     "output_type": "execute_result"
    }
   ],
   "source": [
    "# read date as pd date, it's a seconds epoch timestamp\n",
    "df['date'] = pd.to_datetime(df['date'], unit='s')\n",
    "df['start'] = pd.to_datetime(df['start'], unit='s')\n",
    "df['end'] = pd.to_datetime(df['end'], unit='s')\n",
    "df.head()"
   ]
  },
  {
   "cell_type": "code",
   "execution_count": 9,
   "id": "592dfd2b",
   "metadata": {
    "execution": {
     "iopub.execute_input": "2023-12-14T11:51:05.776042Z",
     "iopub.status.busy": "2023-12-14T11:51:05.775866Z",
     "iopub.status.idle": "2023-12-14T11:51:05.857574Z",
     "shell.execute_reply": "2023-12-14T11:51:05.857155Z"
    },
    "papermill": {
     "duration": 0.085386,
     "end_time": "2023-12-14T11:51:05.858525",
     "exception": false,
     "start_time": "2023-12-14T11:51:05.773139",
     "status": "completed"
    },
    "tags": []
   },
   "outputs": [
    {
     "name": "stdout",
     "output_type": "stream",
     "text": [
      "<class 'pandas.core.frame.DataFrame'>\n",
      "RangeIndex: 116544 entries, 0 to 116543\n",
      "Data columns (total 10 columns):\n",
      " #   Column                  Non-Null Count   Dtype         \n",
      "---  ------                  --------------   -----         \n",
      " 0   platform                116544 non-null  object        \n",
      " 1   platform_deployment_id  116544 non-null  object        \n",
      " 2   proposal_id             116544 non-null  object        \n",
      " 3   author                  116544 non-null  object        \n",
      " 4   date                    116544 non-null  datetime64[ns]\n",
      " 5   votes_count             116544 non-null  int64         \n",
      " 6   title                   116544 non-null  object        \n",
      " 7   description             116544 non-null  object        \n",
      " 8   start                   116544 non-null  datetime64[ns]\n",
      " 9   end                     116544 non-null  datetime64[ns]\n",
      "dtypes: datetime64[ns](3), int64(1), object(6)\n",
      "memory usage: 8.9+ MB\n"
     ]
    }
   ],
   "source": [
    "df.info()"
   ]
  },
  {
   "cell_type": "code",
   "execution_count": 10,
   "id": "71d1340b",
   "metadata": {
    "execution": {
     "iopub.execute_input": "2023-12-14T11:51:05.864557Z",
     "iopub.status.busy": "2023-12-14T11:51:05.864414Z",
     "iopub.status.idle": "2023-12-14T11:51:05.871222Z",
     "shell.execute_reply": "2023-12-14T11:51:05.870548Z"
    },
    "papermill": {
     "duration": 0.010711,
     "end_time": "2023-12-14T11:51:05.872173",
     "exception": false,
     "start_time": "2023-12-14T11:51:05.861462",
     "status": "completed"
    },
    "tags": []
   },
   "outputs": [
    {
     "data": {
      "text/html": [
       "<div>\n",
       "<style scoped>\n",
       "    .dataframe tbody tr th:only-of-type {\n",
       "        vertical-align: middle;\n",
       "    }\n",
       "\n",
       "    .dataframe tbody tr th {\n",
       "        vertical-align: top;\n",
       "    }\n",
       "\n",
       "    .dataframe thead th {\n",
       "        text-align: right;\n",
       "    }\n",
       "</style>\n",
       "<table border=\"1\" class=\"dataframe\">\n",
       "  <thead>\n",
       "    <tr style=\"text-align: right;\">\n",
       "      <th></th>\n",
       "      <th>platform</th>\n",
       "      <th>platform_deployment_id</th>\n",
       "      <th>proposal_id</th>\n",
       "      <th>author</th>\n",
       "      <th>date</th>\n",
       "      <th>votes_count</th>\n",
       "      <th>title</th>\n",
       "      <th>description</th>\n",
       "      <th>start</th>\n",
       "      <th>end</th>\n",
       "    </tr>\n",
       "  </thead>\n",
       "  <tbody>\n",
       "  </tbody>\n",
       "</table>\n",
       "</div>"
      ],
      "text/plain": [
       "Empty DataFrame\n",
       "Columns: [platform, platform_deployment_id, proposal_id, author, date, votes_count, title, description, start, end]\n",
       "Index: []"
      ]
     },
     "execution_count": 10,
     "metadata": {},
     "output_type": "execute_result"
    }
   ],
   "source": [
    "df[df['votes_count'].isna()]"
   ]
  },
  {
   "cell_type": "code",
   "execution_count": 11,
   "id": "bd594ead",
   "metadata": {
    "execution": {
     "iopub.execute_input": "2023-12-14T11:51:05.880721Z",
     "iopub.status.busy": "2023-12-14T11:51:05.880467Z",
     "iopub.status.idle": "2023-12-14T11:51:06.604622Z",
     "shell.execute_reply": "2023-12-14T11:51:06.604039Z"
    },
    "papermill": {
     "duration": 0.72975,
     "end_time": "2023-12-14T11:51:06.605654",
     "exception": false,
     "start_time": "2023-12-14T11:51:05.875904",
     "status": "completed"
    },
    "tags": []
   },
   "outputs": [],
   "source": [
    "# save\n",
    "# df.to_csv('snapshot_proposals.csv', index=False)\n",
    "df.to_parquet('snapshot_proposals.parquet', index=False)"
   ]
  },
  {
   "cell_type": "code",
   "execution_count": 12,
   "id": "ac1ba9dc",
   "metadata": {
    "execution": {
     "iopub.execute_input": "2023-12-14T11:51:06.611960Z",
     "iopub.status.busy": "2023-12-14T11:51:06.611637Z",
     "iopub.status.idle": "2023-12-14T11:51:07.151537Z",
     "shell.execute_reply": "2023-12-14T11:51:07.151209Z"
    },
    "papermill": {
     "duration": 0.543939,
     "end_time": "2023-12-14T11:51:07.152413",
     "exception": false,
     "start_time": "2023-12-14T11:51:06.608474",
     "status": "completed"
    },
    "tags": []
   },
   "outputs": [
    {
     "name": "stdout",
     "output_type": "stream",
     "text": [
      "<class 'pandas.core.frame.DataFrame'>\n",
      "RangeIndex: 116544 entries, 0 to 116543\n",
      "Data columns (total 10 columns):\n",
      " #   Column                  Non-Null Count   Dtype         \n",
      "---  ------                  --------------   -----         \n",
      " 0   platform                116544 non-null  object        \n",
      " 1   platform_deployment_id  116544 non-null  object        \n",
      " 2   proposal_id             116544 non-null  object        \n",
      " 3   author                  116544 non-null  object        \n",
      " 4   date                    116544 non-null  datetime64[ns]\n",
      " 5   votes_count             116544 non-null  int64         \n",
      " 6   title                   116544 non-null  object        \n",
      " 7   description             116544 non-null  object        \n",
      " 8   start                   116544 non-null  datetime64[ns]\n",
      " 9   end                     116544 non-null  datetime64[ns]\n",
      "dtypes: datetime64[ns](3), int64(1), object(6)\n",
      "memory usage: 8.9+ MB\n"
     ]
    }
   ],
   "source": [
    "aux = pd.read_parquet('snapshot_proposals.parquet')\n",
    "aux.info()"
   ]
  }
 ],
 "metadata": {
  "kernelspec": {
   "display_name": "Python 3",
   "language": "python",
   "name": "python3"
  },
  "language_info": {
   "codemirror_mode": {
    "name": "ipython",
    "version": 3
   },
   "file_extension": ".py",
   "mimetype": "text/x-python",
   "name": "python",
   "nbconvert_exporter": "python",
   "pygments_lexer": "ipython3",
   "version": "3.11.6"
  },
  "papermill": {
   "default_parameters": {},
   "duration": 4.309021,
   "end_time": "2023-12-14T11:51:07.473269",
   "environment_variables": {},
   "exception": null,
   "input_path": "./proposals/snapshot/process_snapshot_proposals.ipynb",
   "output_path": "./proposals/snapshot/process_snapshot_proposals.ipynb",
   "parameters": {},
   "start_time": "2023-12-14T11:51:03.164248",
   "version": "2.4.0"
  }
 },
 "nbformat": 4,
 "nbformat_minor": 5
}