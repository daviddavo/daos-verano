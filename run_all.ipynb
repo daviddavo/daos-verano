{
 "cells": [
  {
   "cell_type": "markdown",
   "metadata": {},
   "source": [
    "This notebook runs everything necessary"
   ]
  },
  {
   "cell_type": "code",
   "execution_count": 1,
   "metadata": {},
   "outputs": [],
   "source": [
    "import os\n",
    "from subprocess import call\n",
    "\n",
    "import requests\n",
    "import papermill as pm\n",
    "\n",
    "def run_notebook(path):\n",
    "    pm.execute_notebook(path, path, progress_bar=True, cwd=os.path.dirname(path))\n",
    "\n",
    "def run_file(path):\n",
    "    call(['python', path])"
   ]
  },
  {
   "cell_type": "markdown",
   "metadata": {},
   "source": [
    "# Deployments\n",
    "\n",
    "Getting the deployments"
   ]
  },
  {
   "cell_type": "code",
   "execution_count": 2,
   "metadata": {},
   "outputs": [],
   "source": [
    "def get_files_from_daoanalyzer(org, dst_path, download_files):\n",
    "    if not all( ( os.path.exists(os.path.join(dst_path, org, f)) for f in download_files ) ):\n",
    "        # Zenodo ID\n",
    "        zenodo_id = 8420583\n",
    "        \n",
    "        # Download from Zenodo (no API key needed)\n",
    "        url = f\"https://zenodo.org/records/{zenodo_id}/files/archive.zip?download=1\"\n",
    "        archive = f'./DATA/archive-{zenodo_id}.zip'\n",
    "\n",
    "        if not os.path.exists(archive):\n",
    "            r = requests.get(url)\n",
    "            r.raise_for_status()\n",
    "\n",
    "            with open(archive, 'wb') as f:\n",
    "                f.write(r.content)\n",
    "\n",
    "        call(['unzip', '-oj', archive, *[f'{org}/{f}' for f in download_files], '-d', os.path.join(dst_path, org)])\n",
    "    else:\n",
    "        print('All files already present')"
   ]
  },
  {
   "cell_type": "markdown",
   "metadata": {},
   "source": [
    "## Aragon"
   ]
  },
  {
   "cell_type": "code",
   "execution_count": 3,
   "metadata": {},
   "outputs": [
    {
     "name": "stdout",
     "output_type": "stream",
     "text": [
      "All files already present\n"
     ]
    },
    {
     "data": {
      "application/vnd.jupyter.widget-view+json": {
       "model_id": "cb00e1f3146d49b49a107f0505fb4f00",
       "version_major": 2,
       "version_minor": 0
      },
      "text/plain": [
       "Executing:   0%|          | 0/22 [00:00<?, ?cell/s]"
      ]
     },
     "metadata": {},
     "output_type": "display_data"
    },
    {
     "name": "stderr",
     "output_type": "stream",
     "text": [
      "[IPKernelApp] WARNING | debugpy_stream undefined, debugging will not be enabled\n"
     ]
    }
   ],
   "source": [
    "get_files_from_daoanalyzer('aragon', 'deployments', ['organizations.csv', 'casts.csv', 'votes.csv'])\n",
    "run_notebook('./deployments/aragon/aragon_get_deployments.ipynb')"
   ]
  },
  {
   "cell_type": "markdown",
   "metadata": {},
   "source": [
    "## DAOhaus"
   ]
  },
  {
   "cell_type": "code",
   "execution_count": 4,
   "metadata": {},
   "outputs": [
    {
     "name": "stdout",
     "output_type": "stream",
     "text": [
      "All files already present\n"
     ]
    },
    {
     "data": {
      "application/vnd.jupyter.widget-view+json": {
       "model_id": "3538b7256a35454b90bfe5c37473787c",
       "version_major": 2,
       "version_minor": 0
      },
      "text/plain": [
       "Executing:   0%|          | 0/25 [00:00<?, ?cell/s]"
      ]
     },
     "metadata": {},
     "output_type": "display_data"
    },
    {
     "name": "stderr",
     "output_type": "stream",
     "text": [
      "[IPKernelApp] WARNING | debugpy_stream undefined, debugging will not be enabled\n"
     ]
    }
   ],
   "source": [
    "get_files_from_daoanalyzer('daohaus', 'deployments', ['moloches.csv', 'votes.csv', 'proposals.csv'])\n",
    "run_notebook('./deployments/daohaus/daohaus_get_deployments.ipynb')"
   ]
  },
  {
   "cell_type": "markdown",
   "metadata": {},
   "source": [
    "## DAOstack"
   ]
  },
  {
   "cell_type": "code",
   "execution_count": 5,
   "metadata": {},
   "outputs": [
    {
     "name": "stdout",
     "output_type": "stream",
     "text": [
      "All files already present\n"
     ]
    },
    {
     "data": {
      "application/vnd.jupyter.widget-view+json": {
       "model_id": "df44442e09ed4cbe8ee1afd7ae381823",
       "version_major": 2,
       "version_minor": 0
      },
      "text/plain": [
       "Executing:   0%|          | 0/19 [00:00<?, ?cell/s]"
      ]
     },
     "metadata": {},
     "output_type": "display_data"
    },
    {
     "name": "stderr",
     "output_type": "stream",
     "text": [
      "[IPKernelApp] WARNING | debugpy_stream undefined, debugging will not be enabled\n"
     ]
    }
   ],
   "source": [
    "get_files_from_daoanalyzer('daostack', 'deployments', ['daos.csv', 'proposals.csv', 'votes.csv'])\n",
    "run_notebook('./deployments/daostack/daostack_get_deployments.ipynb')"
   ]
  },
  {
   "cell_type": "markdown",
   "metadata": {},
   "source": [
    "## Snapshot"
   ]
  },
  {
   "cell_type": "code",
   "execution_count": 6,
   "metadata": {},
   "outputs": [
    {
     "data": {
      "application/vnd.jupyter.widget-view+json": {
       "model_id": "eca363dfd1334a548ae3baddd31f466e",
       "version_major": 2,
       "version_minor": 0
      },
      "text/plain": [
       "Executing:   0%|          | 0/8 [00:00<?, ?cell/s]"
      ]
     },
     "metadata": {},
     "output_type": "display_data"
    },
    {
     "name": "stderr",
     "output_type": "stream",
     "text": [
      "[IPKernelApp] WARNING | debugpy_stream undefined, debugging will not be enabled\n"
     ]
    }
   ],
   "source": [
    "run_notebook('./deployments/snapshot/snapshot_get_deployments.ipynb')"
   ]
  },
  {
   "cell_type": "markdown",
   "metadata": {},
   "source": [
    "## Combine and analyze"
   ]
  },
  {
   "cell_type": "code",
   "execution_count": 7,
   "metadata": {},
   "outputs": [
    {
     "data": {
      "application/vnd.jupyter.widget-view+json": {
       "model_id": "e02c7be612ef4d9687221839ca6cc174",
       "version_major": 2,
       "version_minor": 0
      },
      "text/plain": [
       "Executing:   0%|          | 0/17 [00:00<?, ?cell/s]"
      ]
     },
     "metadata": {},
     "output_type": "display_data"
    },
    {
     "name": "stderr",
     "output_type": "stream",
     "text": [
      "[IPKernelApp] WARNING | debugpy_stream undefined, debugging will not be enabled\n"
     ]
    }
   ],
   "source": [
    "run_notebook('./deployments/combine_and_analyze.ipynb')"
   ]
  },
  {
   "cell_type": "markdown",
   "metadata": {},
   "source": [
    "# Proposals"
   ]
  },
  {
   "cell_type": "markdown",
   "metadata": {},
   "source": [
    "## Aragon"
   ]
  },
  {
   "cell_type": "code",
   "execution_count": 8,
   "metadata": {},
   "outputs": [
    {
     "name": "stdout",
     "output_type": "stream",
     "text": [
      "All files already present\n"
     ]
    },
    {
     "data": {
      "application/vnd.jupyter.widget-view+json": {
       "model_id": "14086a1904ad4863ab00a99b7343e169",
       "version_major": 2,
       "version_minor": 0
      },
      "text/plain": [
       "Executing:   0%|          | 0/6 [00:00<?, ?cell/s]"
      ]
     },
     "metadata": {},
     "output_type": "display_data"
    },
    {
     "name": "stderr",
     "output_type": "stream",
     "text": [
      "[IPKernelApp] WARNING | debugpy_stream undefined, debugging will not be enabled\n"
     ]
    }
   ],
   "source": [
    "get_files_from_daoanalyzer('aragon', './proposals/', ['votes.csv'])\n",
    "run_notebook('./proposals/aragon/get_aragon_proposals.ipynb')"
   ]
  },
  {
   "cell_type": "markdown",
   "metadata": {},
   "source": [
    "## DAOhaus"
   ]
  },
  {
   "cell_type": "code",
   "execution_count": 9,
   "metadata": {},
   "outputs": [
    {
     "name": "stdout",
     "output_type": "stream",
     "text": [
      "All files already present\n"
     ]
    },
    {
     "data": {
      "application/vnd.jupyter.widget-view+json": {
       "model_id": "e4765348a86f435e8519566b0f248d46",
       "version_major": 2,
       "version_minor": 0
      },
      "text/plain": [
       "Executing:   0%|          | 0/6 [00:00<?, ?cell/s]"
      ]
     },
     "metadata": {},
     "output_type": "display_data"
    },
    {
     "name": "stderr",
     "output_type": "stream",
     "text": [
      "[IPKernelApp] WARNING | debugpy_stream undefined, debugging will not be enabled\n"
     ]
    }
   ],
   "source": [
    "get_files_from_daoanalyzer('daohaus', './proposals/', ['proposals.csv'])\n",
    "run_notebook('./proposals/daohaus/get_daohaus_proposals.ipynb')"
   ]
  },
  {
   "cell_type": "markdown",
   "metadata": {},
   "source": [
    "## DAOstack"
   ]
  },
  {
   "cell_type": "code",
   "execution_count": 10,
   "metadata": {},
   "outputs": [
    {
     "name": "stdout",
     "output_type": "stream",
     "text": [
      "All files already present\n"
     ]
    },
    {
     "data": {
      "application/vnd.jupyter.widget-view+json": {
       "model_id": "02dc87f30d49422d8ccf976ed93991c6",
       "version_major": 2,
       "version_minor": 0
      },
      "text/plain": [
       "Executing:   0%|          | 0/9 [00:00<?, ?cell/s]"
      ]
     },
     "metadata": {},
     "output_type": "display_data"
    },
    {
     "name": "stderr",
     "output_type": "stream",
     "text": [
      "[IPKernelApp] WARNING | debugpy_stream undefined, debugging will not be enabled\n"
     ]
    }
   ],
   "source": [
    "get_files_from_daoanalyzer('daostack', './proposals/', ['proposals.csv', 'votes.csv'])\n",
    "run_notebook('./proposals/daostack/get_daostack_proposals.ipynb')"
   ]
  },
  {
   "cell_type": "markdown",
   "metadata": {},
   "source": [
    "## Snapshot"
   ]
  },
  {
   "cell_type": "code",
   "execution_count": 11,
   "metadata": {},
   "outputs": [
    {
     "data": {
      "application/vnd.jupyter.widget-view+json": {
       "model_id": "c7289b913f754e05a15c13c195048992",
       "version_major": 2,
       "version_minor": 0
      },
      "text/plain": [
       "Executing:   0%|          | 0/12 [00:00<?, ?cell/s]"
      ]
     },
     "metadata": {},
     "output_type": "display_data"
    },
    {
     "name": "stderr",
     "output_type": "stream",
     "text": [
      "[IPKernelApp] WARNING | debugpy_stream undefined, debugging will not be enabled\n"
     ]
    },
    {
     "data": {
      "application/vnd.jupyter.widget-view+json": {
       "model_id": "e60592cc557f48f5943a8688629c09ef",
       "version_major": 2,
       "version_minor": 0
      },
      "text/plain": [
       "Executing:   0%|          | 0/9 [00:00<?, ?cell/s]"
      ]
     },
     "metadata": {},
     "output_type": "display_data"
    },
    {
     "name": "stderr",
     "output_type": "stream",
     "text": [
      "[IPKernelApp] WARNING | debugpy_stream undefined, debugging will not be enabled\n"
     ]
    }
   ],
   "source": [
    "run_notebook('./proposals/snapshot/download_all_proposals_new.ipynb')\n",
    "run_notebook('./proposals/snapshot/process_snapshot_proposals.ipynb')"
   ]
  }
 ],
 "metadata": {
  "kernelspec": {
   "display_name": "Python 3",
   "language": "python",
   "name": "python3"
  },
  "language_info": {
   "codemirror_mode": {
    "name": "ipython",
    "version": 3
   },
   "file_extension": ".py",
   "mimetype": "text/x-python",
   "name": "python",
   "nbconvert_exporter": "python",
   "pygments_lexer": "ipython3",
   "version": "3.11.6"
  }
 },
 "nbformat": 4,
 "nbformat_minor": 2
}
