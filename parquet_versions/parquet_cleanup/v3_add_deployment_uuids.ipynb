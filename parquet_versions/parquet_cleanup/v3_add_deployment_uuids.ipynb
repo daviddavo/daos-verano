{
 "cells": [
  {
   "cell_type": "code",
   "execution_count": 121,
   "id": "d35a7f27",
   "metadata": {
    "execution": {
     "iopub.execute_input": "2024-01-22T18:46:37.812483Z",
     "iopub.status.busy": "2024-01-22T18:46:37.812089Z",
     "iopub.status.idle": "2024-01-22T18:46:37.823096Z",
     "shell.execute_reply": "2024-01-22T18:46:37.822065Z"
    },
    "papermill": {
     "duration": 0.019177,
     "end_time": "2024-01-22T18:46:37.825153",
     "exception": false,
     "start_time": "2024-01-22T18:46:37.805976",
     "status": "completed"
    },
    "tags": []
   },
   "outputs": [],
   "source": [
    "IN_FILE = '../../parquets/deployments.parquet'\n",
    "OUT_FILE = '../../parquets/deployments.parquet'"
   ]
  },
  {
   "cell_type": "code",
   "execution_count": 122,
   "id": "41dac1c6",
   "metadata": {
    "execution": {
     "iopub.execute_input": "2024-01-22T18:46:37.834037Z",
     "iopub.status.busy": "2024-01-22T18:46:37.833818Z",
     "iopub.status.idle": "2024-01-22T18:46:38.066627Z",
     "shell.execute_reply": "2024-01-22T18:46:38.066317Z"
    },
    "papermill": {
     "duration": 0.237516,
     "end_time": "2024-01-22T18:46:38.067493",
     "exception": false,
     "start_time": "2024-01-22T18:46:37.829977",
     "status": "completed"
    },
    "tags": []
   },
   "outputs": [
    {
     "data": {
      "text/plain": [
       "pyarrow.Table\n",
       "platform: string\n",
       "platform_id: string\n",
       "name: string\n",
       "website: string\n",
       "additional: string\n",
       "votes_count: int64\n",
       "proposals_count: int64\n",
       "----\n",
       "platform: [[\"daostack\",\"daostack\",\"daostack\",\"daostack\",\"daostack\",...,\"daostack\",\"daostack\",\"daostack\",\"daostack\",\"daostack\"],[\"snapshot\",\"snapshot\",\"snapshot\",\"snapshot\",\"snapshot\",...,\"snapshot\",\"snapshot\",\"snapshot\",\"snapshot\",\"snapshot\"],[\"aragon\",\"aragon\",\"aragon\",\"aragon\",\"aragon\",...,\"aragon\",\"aragon\",\"aragon\",\"aragon\",\"aragon\"],[\"daohaus\",\"daohaus\",\"daohaus\",\"daohaus\",\"daohaus\",...,\"daohaus\",\"daohaus\",\"daohaus\",\"daohaus\",\"daohaus\"]]\n",
       "platform_id: [[\"0x0b93ba560283350d4216f29dc57e15df38d0eace\",\"0x15344ecdc2c4edfcb092e284d93c20f0529fd8a6\",\"0x273d0f686a53a49a0fba2a801566b19f9aaf8fcd\",\"0x294f999356ed03347c7a23bcbcf8d33fa41dc830\",\"0x2b8c70fffda7f3d7667f7cfede1429313886329c\",...,\"0xe716ec63c5673b3a4732d22909b38d779fa47c3f\",\"0xeed417f80cd918ce65b8e141daa00704aef98a90\",\"0xef25b64d4bdbe23f1bb5e557b5d24f12c46da0bc\",\"0xf902172bd2f34a6cf86d424f0440836d2d89afeb\",\"0xfd4a08ba1863718d92467ad05f13b352c3ae2cfd\"],[\"bonustrack.eth\",\"fabien.eth\",\"ichi.eth\",\"loyalfinance.eth\",\"damflux.eth\",...,\"islamchik2006.eth\",\"luksh.eth\",\"dimonzamillionare.eth\",\"rog-strix.eth\",\"ssbvote.eth\"],[\"0x0017a25385931ee690dc09df6cca919d1cd007b2\",\"0x001cd74c9a99b6c68e93fe69595124407b37aa8e\",\"0x0068990f8910e502dd41eb71fbc506936ca100af\",\"0x00b424842685f69912cfd93af7293602c973bf56\",\"0x00ccb72bd1f72882d89774d9acccce616ed9227d\",...,\"0xffbbb4c1a8fe19ce874a125935dc25aadbcf19dd\",\"0xffbc4704f0ad912977136592d262d6a6c8b3c498\",\"0xffd2f503ec324b367a92ad81fbcc5c433b162721\",\"0xffd943ea0362ea0eef463e169394ae7ab6fbc35e\",\"0xffe19aaee419c46443ebe7f583230d7c32e42eb4\"],[\"0x02c6c33b9bb6b2fc8ae9ab43a0235f4d7897b5d9\",\"0x0a96234adacd1e71c9b2a237cf12374f64e05e3a\",\"0x0d8d5002562405cb1ed598ff4fb48c948f36a18b\",\"0x0feb2ee31f9d8bcc580f18d4fe8ed9de61d02ff8\",\"0x1543bcdf759c0fccbb375a8b8b0c5fd1393a9b85\",...,\"0xff07943f171b826b3618982a6213f157fbc5e226\",\"0xff3f8c0b98454306fb0bda57e5ae38cbfa66cc0d\",\"0xff4b20d48a1e8f93bf6745de388547e731f96fd0\",\"0xffb676765d521518ac5c0d4f4067a9db9b72901b\",\"0xffe8a8ec2477390c6b97074f44326fac24d7f6dd\"]]\n",
       "name: [[\"CuraDAO\",\"dOrg\",\"PrimeDAO\",\"Genesis Alpha\",\"ETHGlobal\",...,\"xDXdao\",\"Gitcoin: Shillin and Chillin DAO\",\"KyberHackDAO\",\"Unilogin\",\"Arbitrum DAO\"],[\"Hi\",\"Fabien\",\"ichi.farm\",\"loyal.finance\",\"FLUX\",...,\"Islam_crypto\",\"Luksh\",\"Rich DAO\",\"rog\",\"SatoshiStreetBets\"],[null,\"ShillDAO\",null,null,null,...,null,null,null,null,null],[\"Zaibatsu-DAO\",null,\"test commando\",\"HIEROPHANT GREEN DAO\",null,...,null,\"array.finance CCO\",\"PRIDEdao \",\"EmpanaDAO\",\"Kokonut Network\"]]\n",
       "website: [[\"nan\",\"nan\",\"nan\",\"nan\",\"nan\",...,\"nan\",\"nan\",\"nan\",\"nan\",\"nan\"],[\"https://snapshot.org/#/bonustrack.eth\",\"https://snapshot.org/#/fabien.eth\",\"https://snapshot.org/#/ichi.eth\",\"https://snapshot.org/#/loyalfinance.eth\",\"https://snapshot.org/#/damflux.eth\",...,\"https://snapshot.org/#/islamchik2006.eth\",\"https://snapshot.org/#/luksh.eth\",\"https://snapshot.org/#/dimonzamillionare.eth\",\"https://snapshot.org/#/rog-strix.eth\",\"https://snapshot.org/#/ssbvote.eth\"],[\"https://etherscan.io/address/0x0017a25385931ee690dc09df6cca919d1cd007b2#code\",\"https://etherscan.io/address/0x001cd74c9a99b6c68e93fe69595124407b37aa8e#code\",\"https://etherscan.io/address/0x0068990f8910e502dd41eb71fbc506936ca100af#code\",\"https://etherscan.io/address/0x00b424842685f69912cfd93af7293602c973bf56#code\",\"https://etherscan.io/address/0x00ccb72bd1f72882d89774d9acccce616ed9227d#code\",...,\"https://etherscan.io/address/0xffbbb4c1a8fe19ce874a125935dc25aadbcf19dd#code\",\"https://etherscan.io/address/0xffbc4704f0ad912977136592d262d6a6c8b3c498#code\",\"https://etherscan.io/address/0xffd2f503ec324b367a92ad81fbcc5c433b162721#code\",\"https://etherscan.io/address/0xffd943ea0362ea0eef463e169394ae7ab6fbc35e#code\",\"https://etherscan.io/address/0xffe19aaee419c46443ebe7f583230d7c32e42eb4#code\"],[\"nan\",\"nan\",\"nan\",\"nan\",\"nan\",...,\"nan\",\"nan\",\"nan\",\"nan\",\"nan\"]]\n",
       "additional: [[\"nan\",\"nan\",\"nan\",\"nan\",\"nan\",...,\"nan\",\"nan\",\"nan\",\"nan\",\"nan\"],[\"nan\",\"bonustrack87, https://snapshot.org/#/fabien.eth\",\"nan\",\"nan\",\"nan\",...,\"nan\",\"https://youtube.com/@cryptoman5041?si=jpcLEQZwv5aIqb7_\",\"nan\",\"nan\",\"https://ssbcoin.com\"],[\"nan\",\"nan\",\"nan\",\"nan\",\"nan\",...,\"nan\",\"nan\",\"nan\",\"nan\",\"nan\"],[\"network: arbitrum version: 2.1\",\"network: arbitrum version: 2.1\",\"network: arbitrum version: 2.1\",\"network: arbitrum version: 2.1\",\"network: arbitrum version: 2.1\",...,\"network: xdai version: 2.1\",\"network: xdai version: 2.1\",\"network: xdai version: 2.1\",\"network: xdai version: 2.0\",\"network: xdai version: 2.1\"]]\n",
       "votes_count: [[103,336,30,2203,74,...,5913,1,6,6,1],[52,4702,762,14,11,...,1,2,4,0,26],[2,216,0,0,16,...,0,0,1,0,0],[1,0,1,0,0,...,0,123,0,0,272]]\n",
       "proposals_count: [[49,127,37,387,19,...,1438,1,6,3,1],[2,384,60,2,2,...,1,2,3,0,1],[2,17,0,0,25,...,0,0,1,0,0],[2,0,1,0,0,...,0,122,0,3,92]]"
      ]
     },
     "execution_count": 122,
     "metadata": {},
     "output_type": "execute_result"
    }
   ],
   "source": [
    "import pyarrow.parquet as pq\n",
    "\n",
    "# read in ../parquets_version3/deployments.parquet\n",
    "deployments = pq.read_table(IN_FILE)\n",
    "deployments"
   ]
  },
  {
   "cell_type": "code",
   "execution_count": 123,
   "id": "4ae271f4",
   "metadata": {
    "execution": {
     "iopub.execute_input": "2024-01-22T18:46:38.071418Z",
     "iopub.status.busy": "2024-01-22T18:46:38.071200Z",
     "iopub.status.idle": "2024-01-22T18:46:38.073809Z",
     "shell.execute_reply": "2024-01-22T18:46:38.072967Z"
    },
    "papermill": {
     "duration": 0.005834,
     "end_time": "2024-01-22T18:46:38.074891",
     "exception": false,
     "start_time": "2024-01-22T18:46:38.069057",
     "status": "completed"
    },
    "tags": []
   },
   "outputs": [],
   "source": [
    "# print(deployments.column_names[7])\n",
    "# assert deployments.column_names[7] == '__index_level_0__'"
   ]
  },
  {
   "cell_type": "code",
   "execution_count": 124,
   "id": "e7169e7b",
   "metadata": {
    "execution": {
     "iopub.execute_input": "2024-01-22T18:46:38.079428Z",
     "iopub.status.busy": "2024-01-22T18:46:38.079262Z",
     "iopub.status.idle": "2024-01-22T18:46:38.081123Z",
     "shell.execute_reply": "2024-01-22T18:46:38.080831Z"
    },
    "papermill": {
     "duration": 0.004865,
     "end_time": "2024-01-22T18:46:38.081765",
     "exception": false,
     "start_time": "2024-01-22T18:46:38.076900",
     "status": "completed"
    },
    "tags": []
   },
   "outputs": [],
   "source": [
    "# deployments = deployments.remove_column(7)\n",
    "# deployments"
   ]
  },
  {
   "cell_type": "code",
   "execution_count": 125,
   "id": "d08c3f73",
   "metadata": {
    "execution": {
     "iopub.execute_input": "2024-01-22T18:46:38.084806Z",
     "iopub.status.busy": "2024-01-22T18:46:38.084705Z",
     "iopub.status.idle": "2024-01-22T18:46:38.181799Z",
     "shell.execute_reply": "2024-01-22T18:46:38.181479Z"
    },
    "papermill": {
     "duration": 0.099488,
     "end_time": "2024-01-22T18:46:38.182577",
     "exception": false,
     "start_time": "2024-01-22T18:46:38.083089",
     "status": "completed"
    },
    "tags": []
   },
   "outputs": [
    {
     "data": {
      "text/plain": [
       "<pyarrow.lib.StringArray object at 0x7f78c55f7f40>\n",
       "[\n",
       "  \"daostack_0x0b93ba560283350d4216f29dc57e15df38d0eace\",\n",
       "  \"daostack_0x15344ecdc2c4edfcb092e284d93c20f0529fd8a6\",\n",
       "  \"daostack_0x273d0f686a53a49a0fba2a801566b19f9aaf8fcd\",\n",
       "  \"daostack_0x294f999356ed03347c7a23bcbcf8d33fa41dc830\",\n",
       "  \"daostack_0x2b8c70fffda7f3d7667f7cfede1429313886329c\",\n",
       "  \"daostack_0x3324b516df92e78463d8b0616dd146cf6c58b0b9\",\n",
       "  \"daostack_0x39757e7cdb7022c3829195d57b29428d79593c9d\",\n",
       "  \"daostack_0x440583455bcd85ab2bd429c015d3aabcae135f0a\",\n",
       "  \"daostack_0x45cf7d5c503b6417d570929368b8f4c4567ad9eb\",\n",
       "  \"daostack_0x519b70055af55a007110b4ff99b0ea33071c720a\",\n",
       "  ...\n",
       "  \"daohaus_0xfe2d87b14dc0d0d60020b58314b6da197dbab9c6\",\n",
       "  \"daohaus_0xfe3df41697bd2e4e8afb596857e5f1c0744499b0\",\n",
       "  \"daohaus_0xfe960b72b3302867a2ce133831de1289ea5f3f1a\",\n",
       "  \"daohaus_0xfeb8db3e033ed3cec78fff9ad3b43ac219db5c4b\",\n",
       "  \"daohaus_0xfed1c9e27564b96053d00467c8e3de6baaebf02e\",\n",
       "  \"daohaus_0xff07943f171b826b3618982a6213f157fbc5e226\",\n",
       "  \"daohaus_0xff3f8c0b98454306fb0bda57e5ae38cbfa66cc0d\",\n",
       "  \"daohaus_0xff4b20d48a1e8f93bf6745de388547e731f96fd0\",\n",
       "  \"daohaus_0xffb676765d521518ac5c0d4f4067a9db9b72901b\",\n",
       "  \"daohaus_0xffe8a8ec2477390c6b97074f44326fac24d7f6dd\"\n",
       "]"
      ]
     },
     "execution_count": 125,
     "metadata": {},
     "output_type": "execute_result"
    }
   ],
   "source": [
    "import pyarrow as pa\n",
    "ids_to_hash = pa.array([str(deployments.column(0)[i]) + '_' + str(deployments.column(1)[i]) for i in range(len(deployments.column(0)))])\n",
    "ids_to_hash"
   ]
  },
  {
   "cell_type": "code",
   "execution_count": 126,
   "id": "c1a84d1f",
   "metadata": {
    "execution": {
     "iopub.execute_input": "2024-01-22T18:46:38.186283Z",
     "iopub.status.busy": "2024-01-22T18:46:38.186155Z",
     "iopub.status.idle": "2024-01-22T18:46:38.189672Z",
     "shell.execute_reply": "2024-01-22T18:46:38.188750Z"
    },
    "papermill": {
     "duration": 0.006612,
     "end_time": "2024-01-22T18:46:38.190916",
     "exception": false,
     "start_time": "2024-01-22T18:46:38.184304",
     "status": "completed"
    },
    "tags": []
   },
   "outputs": [
    {
     "name": "stdout",
     "output_type": "stream",
     "text": [
      "daostack_0x0b93ba560283350d4216f29dc57e15df38d0eace\n",
      "8c9adf1b-b1ca-57d1-ad50-1bb8733beb54\n",
      "daostack_0x15344ecdc2c4edfcb092e284d93c20f0529fd8a6\n",
      "5605fbf2-952a-54cd-b1f0-74c3382d543f\n",
      "daostack_0x273d0f686a53a49a0fba2a801566b19f9aaf8fcd\n",
      "72dcfa82-aec9-5902-98c4-2deca59f5406\n",
      "daostack_0x294f999356ed03347c7a23bcbcf8d33fa41dc830\n",
      "1ff410f5-1c80-53cd-9558-d93d1f6de121\n",
      "daostack_0x2b8c70fffda7f3d7667f7cfede1429313886329c\n",
      "8dc0d723-dc8e-5024-9644-cb60575698ed\n",
      "daostack_0x3324b516df92e78463d8b0616dd146cf6c58b0b9\n",
      "782029b1-bf08-5679-bfe0-8f95af8a3f20\n",
      "daostack_0x39757e7cdb7022c3829195d57b29428d79593c9d\n",
      "d16f1646-d170-5b57-8812-e43de6b87597\n",
      "daostack_0x440583455bcd85ab2bd429c015d3aabcae135f0a\n",
      "9fb971b0-de3e-5651-96cf-ad330a9c660b\n",
      "daostack_0x45cf7d5c503b6417d570929368b8f4c4567ad9eb\n",
      "393e9039-af87-5e45-a727-5c2e2cd2a72a\n",
      "daostack_0x519b70055af55a007110b4ff99b0ea33071c720a\n",
      "d3229595-ac4c-55bf-9808-386fc5603bd1\n"
     ]
    }
   ],
   "source": [
    "import uuid\n",
    "\n",
    "for i in ids_to_hash[:10]:\n",
    "    print(i)\n",
    "    print(uuid.uuid5(uuid.NAMESPACE_OID, str(i)))"
   ]
  },
  {
   "cell_type": "code",
   "execution_count": 127,
   "id": "b35f7ba5",
   "metadata": {
    "execution": {
     "iopub.execute_input": "2024-01-22T18:46:38.196136Z",
     "iopub.status.busy": "2024-01-22T18:46:38.195919Z",
     "iopub.status.idle": "2024-01-22T18:46:38.320524Z",
     "shell.execute_reply": "2024-01-22T18:46:38.320223Z"
    },
    "papermill": {
     "duration": 0.12768,
     "end_time": "2024-01-22T18:46:38.321361",
     "exception": false,
     "start_time": "2024-01-22T18:46:38.193681",
     "status": "completed"
    },
    "tags": []
   },
   "outputs": [
    {
     "data": {
      "text/plain": [
       "<pyarrow.lib.StringArray object at 0x7f78c3052d40>\n",
       "[\n",
       "  \"8c9adf1b-b1ca-57d1-ad50-1bb8733beb54\",\n",
       "  \"5605fbf2-952a-54cd-b1f0-74c3382d543f\",\n",
       "  \"72dcfa82-aec9-5902-98c4-2deca59f5406\",\n",
       "  \"1ff410f5-1c80-53cd-9558-d93d1f6de121\",\n",
       "  \"8dc0d723-dc8e-5024-9644-cb60575698ed\",\n",
       "  \"782029b1-bf08-5679-bfe0-8f95af8a3f20\",\n",
       "  \"d16f1646-d170-5b57-8812-e43de6b87597\",\n",
       "  \"9fb971b0-de3e-5651-96cf-ad330a9c660b\",\n",
       "  \"393e9039-af87-5e45-a727-5c2e2cd2a72a\",\n",
       "  \"d3229595-ac4c-55bf-9808-386fc5603bd1\",\n",
       "  ...\n",
       "  \"acc5c65c-d5ab-50ac-931f-919021fe325c\",\n",
       "  \"256403d8-8032-59d3-9d9c-d4126bc5df43\",\n",
       "  \"a1d3d127-555c-545b-8ff0-1227cc41270f\",\n",
       "  \"e75916ca-b87a-54fa-943f-530ca8723fa5\",\n",
       "  \"e93a3245-0378-58ab-b5c9-59a0ff35a749\",\n",
       "  \"47613333-0bba-5f5b-a644-08af7de0dc2d\",\n",
       "  \"4cc042df-fd7c-5a38-8095-98810c168f61\",\n",
       "  \"32bb4ebe-1f77-5faf-a5f4-f193b07d8795\",\n",
       "  \"ee55fd27-8760-5ea6-afa6-b12858820aac\",\n",
       "  \"306b521f-8cb7-5661-af97-fef9c7bc0189\"\n",
       "]"
      ]
     },
     "execution_count": 127,
     "metadata": {},
     "output_type": "execute_result"
    }
   ],
   "source": [
    "import uuid\n",
    "uuids = pa.array([str(uuid.uuid5(uuid.NAMESPACE_OID, str(ids_to_hash[i]))) for i in range(len(ids_to_hash))])\n",
    "uuids"
   ]
  },
  {
   "cell_type": "code",
   "execution_count": 128,
   "id": "d27eff9c",
   "metadata": {
    "execution": {
     "iopub.execute_input": "2024-01-22T18:46:38.328301Z",
     "iopub.status.busy": "2024-01-22T18:46:38.327701Z",
     "iopub.status.idle": "2024-01-22T18:46:38.331625Z",
     "shell.execute_reply": "2024-01-22T18:46:38.331327Z"
    },
    "papermill": {
     "duration": 0.00833,
     "end_time": "2024-01-22T18:46:38.332347",
     "exception": false,
     "start_time": "2024-01-22T18:46:38.324017",
     "status": "completed"
    },
    "tags": []
   },
   "outputs": [
    {
     "data": {
      "text/plain": [
       "pyarrow.Table\n",
       "platform: string\n",
       "platform_id: string\n",
       "name: string\n",
       "website: string\n",
       "additional: string\n",
       "votes_count: int64\n",
       "proposals_count: int64\n",
       "id: string\n",
       "----\n",
       "platform: [[\"daostack\",\"daostack\",\"daostack\",\"daostack\",\"daostack\",...,\"daostack\",\"daostack\",\"daostack\",\"daostack\",\"daostack\"],[\"snapshot\",\"snapshot\",\"snapshot\",\"snapshot\",\"snapshot\",...,\"snapshot\",\"snapshot\",\"snapshot\",\"snapshot\",\"snapshot\"],[\"aragon\",\"aragon\",\"aragon\",\"aragon\",\"aragon\",...,\"aragon\",\"aragon\",\"aragon\",\"aragon\",\"aragon\"],[\"daohaus\",\"daohaus\",\"daohaus\",\"daohaus\",\"daohaus\",...,\"daohaus\",\"daohaus\",\"daohaus\",\"daohaus\",\"daohaus\"]]\n",
       "platform_id: [[\"0x0b93ba560283350d4216f29dc57e15df38d0eace\",\"0x15344ecdc2c4edfcb092e284d93c20f0529fd8a6\",\"0x273d0f686a53a49a0fba2a801566b19f9aaf8fcd\",\"0x294f999356ed03347c7a23bcbcf8d33fa41dc830\",\"0x2b8c70fffda7f3d7667f7cfede1429313886329c\",...,\"0xe716ec63c5673b3a4732d22909b38d779fa47c3f\",\"0xeed417f80cd918ce65b8e141daa00704aef98a90\",\"0xef25b64d4bdbe23f1bb5e557b5d24f12c46da0bc\",\"0xf902172bd2f34a6cf86d424f0440836d2d89afeb\",\"0xfd4a08ba1863718d92467ad05f13b352c3ae2cfd\"],[\"bonustrack.eth\",\"fabien.eth\",\"ichi.eth\",\"loyalfinance.eth\",\"damflux.eth\",...,\"islamchik2006.eth\",\"luksh.eth\",\"dimonzamillionare.eth\",\"rog-strix.eth\",\"ssbvote.eth\"],[\"0x0017a25385931ee690dc09df6cca919d1cd007b2\",\"0x001cd74c9a99b6c68e93fe69595124407b37aa8e\",\"0x0068990f8910e502dd41eb71fbc506936ca100af\",\"0x00b424842685f69912cfd93af7293602c973bf56\",\"0x00ccb72bd1f72882d89774d9acccce616ed9227d\",...,\"0xffbbb4c1a8fe19ce874a125935dc25aadbcf19dd\",\"0xffbc4704f0ad912977136592d262d6a6c8b3c498\",\"0xffd2f503ec324b367a92ad81fbcc5c433b162721\",\"0xffd943ea0362ea0eef463e169394ae7ab6fbc35e\",\"0xffe19aaee419c46443ebe7f583230d7c32e42eb4\"],[\"0x02c6c33b9bb6b2fc8ae9ab43a0235f4d7897b5d9\",\"0x0a96234adacd1e71c9b2a237cf12374f64e05e3a\",\"0x0d8d5002562405cb1ed598ff4fb48c948f36a18b\",\"0x0feb2ee31f9d8bcc580f18d4fe8ed9de61d02ff8\",\"0x1543bcdf759c0fccbb375a8b8b0c5fd1393a9b85\",...,\"0xff07943f171b826b3618982a6213f157fbc5e226\",\"0xff3f8c0b98454306fb0bda57e5ae38cbfa66cc0d\",\"0xff4b20d48a1e8f93bf6745de388547e731f96fd0\",\"0xffb676765d521518ac5c0d4f4067a9db9b72901b\",\"0xffe8a8ec2477390c6b97074f44326fac24d7f6dd\"]]\n",
       "name: [[\"CuraDAO\",\"dOrg\",\"PrimeDAO\",\"Genesis Alpha\",\"ETHGlobal\",...,\"xDXdao\",\"Gitcoin: Shillin and Chillin DAO\",\"KyberHackDAO\",\"Unilogin\",\"Arbitrum DAO\"],[\"Hi\",\"Fabien\",\"ichi.farm\",\"loyal.finance\",\"FLUX\",...,\"Islam_crypto\",\"Luksh\",\"Rich DAO\",\"rog\",\"SatoshiStreetBets\"],[null,\"ShillDAO\",null,null,null,...,null,null,null,null,null],[\"Zaibatsu-DAO\",null,\"test commando\",\"HIEROPHANT GREEN DAO\",null,...,null,\"array.finance CCO\",\"PRIDEdao \",\"EmpanaDAO\",\"Kokonut Network\"]]\n",
       "website: [[\"nan\",\"nan\",\"nan\",\"nan\",\"nan\",...,\"nan\",\"nan\",\"nan\",\"nan\",\"nan\"],[\"https://snapshot.org/#/bonustrack.eth\",\"https://snapshot.org/#/fabien.eth\",\"https://snapshot.org/#/ichi.eth\",\"https://snapshot.org/#/loyalfinance.eth\",\"https://snapshot.org/#/damflux.eth\",...,\"https://snapshot.org/#/islamchik2006.eth\",\"https://snapshot.org/#/luksh.eth\",\"https://snapshot.org/#/dimonzamillionare.eth\",\"https://snapshot.org/#/rog-strix.eth\",\"https://snapshot.org/#/ssbvote.eth\"],[\"https://etherscan.io/address/0x0017a25385931ee690dc09df6cca919d1cd007b2#code\",\"https://etherscan.io/address/0x001cd74c9a99b6c68e93fe69595124407b37aa8e#code\",\"https://etherscan.io/address/0x0068990f8910e502dd41eb71fbc506936ca100af#code\",\"https://etherscan.io/address/0x00b424842685f69912cfd93af7293602c973bf56#code\",\"https://etherscan.io/address/0x00ccb72bd1f72882d89774d9acccce616ed9227d#code\",...,\"https://etherscan.io/address/0xffbbb4c1a8fe19ce874a125935dc25aadbcf19dd#code\",\"https://etherscan.io/address/0xffbc4704f0ad912977136592d262d6a6c8b3c498#code\",\"https://etherscan.io/address/0xffd2f503ec324b367a92ad81fbcc5c433b162721#code\",\"https://etherscan.io/address/0xffd943ea0362ea0eef463e169394ae7ab6fbc35e#code\",\"https://etherscan.io/address/0xffe19aaee419c46443ebe7f583230d7c32e42eb4#code\"],[\"nan\",\"nan\",\"nan\",\"nan\",\"nan\",...,\"nan\",\"nan\",\"nan\",\"nan\",\"nan\"]]\n",
       "additional: [[\"nan\",\"nan\",\"nan\",\"nan\",\"nan\",...,\"nan\",\"nan\",\"nan\",\"nan\",\"nan\"],[\"nan\",\"bonustrack87, https://snapshot.org/#/fabien.eth\",\"nan\",\"nan\",\"nan\",...,\"nan\",\"https://youtube.com/@cryptoman5041?si=jpcLEQZwv5aIqb7_\",\"nan\",\"nan\",\"https://ssbcoin.com\"],[\"nan\",\"nan\",\"nan\",\"nan\",\"nan\",...,\"nan\",\"nan\",\"nan\",\"nan\",\"nan\"],[\"network: arbitrum version: 2.1\",\"network: arbitrum version: 2.1\",\"network: arbitrum version: 2.1\",\"network: arbitrum version: 2.1\",\"network: arbitrum version: 2.1\",...,\"network: xdai version: 2.1\",\"network: xdai version: 2.1\",\"network: xdai version: 2.1\",\"network: xdai version: 2.0\",\"network: xdai version: 2.1\"]]\n",
       "votes_count: [[103,336,30,2203,74,...,5913,1,6,6,1],[52,4702,762,14,11,...,1,2,4,0,26],[2,216,0,0,16,...,0,0,1,0,0],[1,0,1,0,0,...,0,123,0,0,272]]\n",
       "proposals_count: [[49,127,37,387,19,...,1438,1,6,3,1],[2,384,60,2,2,...,1,2,3,0,1],[2,17,0,0,25,...,0,0,1,0,0],[2,0,1,0,0,...,0,122,0,3,92]]\n",
       "id: [[\"8c9adf1b-b1ca-57d1-ad50-1bb8733beb54\",\"5605fbf2-952a-54cd-b1f0-74c3382d543f\",\"72dcfa82-aec9-5902-98c4-2deca59f5406\",\"1ff410f5-1c80-53cd-9558-d93d1f6de121\",\"8dc0d723-dc8e-5024-9644-cb60575698ed\",...,\"47613333-0bba-5f5b-a644-08af7de0dc2d\",\"4cc042df-fd7c-5a38-8095-98810c168f61\",\"32bb4ebe-1f77-5faf-a5f4-f193b07d8795\",\"ee55fd27-8760-5ea6-afa6-b12858820aac\",\"306b521f-8cb7-5661-af97-fef9c7bc0189\"]]"
      ]
     },
     "execution_count": 128,
     "metadata": {},
     "output_type": "execute_result"
    }
   ],
   "source": [
    "# add uuids column to deployments\n",
    "deployments = deployments.append_column('id', uuids)\n",
    "deployments"
   ]
  },
  {
   "cell_type": "code",
   "execution_count": 129,
   "id": "c0296a0c",
   "metadata": {
    "execution": {
     "iopub.execute_input": "2024-01-22T18:46:38.336376Z",
     "iopub.status.busy": "2024-01-22T18:46:38.336115Z",
     "iopub.status.idle": "2024-01-22T18:46:38.338970Z",
     "shell.execute_reply": "2024-01-22T18:46:38.338708Z"
    },
    "papermill": {
     "duration": 0.005621,
     "end_time": "2024-01-22T18:46:38.339719",
     "exception": false,
     "start_time": "2024-01-22T18:46:38.334098",
     "status": "completed"
    },
    "tags": []
   },
   "outputs": [
    {
     "data": {
      "text/plain": [
       "pyarrow.Table\n",
       "id: string\n",
       "platform: string\n",
       "platform_id: string\n",
       "name: string\n",
       "website: string\n",
       "additional: string\n",
       "votes_count: int64\n",
       "proposals_count: int64\n",
       "----\n",
       "id: [[\"8c9adf1b-b1ca-57d1-ad50-1bb8733beb54\",\"5605fbf2-952a-54cd-b1f0-74c3382d543f\",\"72dcfa82-aec9-5902-98c4-2deca59f5406\",\"1ff410f5-1c80-53cd-9558-d93d1f6de121\",\"8dc0d723-dc8e-5024-9644-cb60575698ed\",...,\"47613333-0bba-5f5b-a644-08af7de0dc2d\",\"4cc042df-fd7c-5a38-8095-98810c168f61\",\"32bb4ebe-1f77-5faf-a5f4-f193b07d8795\",\"ee55fd27-8760-5ea6-afa6-b12858820aac\",\"306b521f-8cb7-5661-af97-fef9c7bc0189\"]]\n",
       "platform: [[\"daostack\",\"daostack\",\"daostack\",\"daostack\",\"daostack\",...,\"daostack\",\"daostack\",\"daostack\",\"daostack\",\"daostack\"],[\"snapshot\",\"snapshot\",\"snapshot\",\"snapshot\",\"snapshot\",...,\"snapshot\",\"snapshot\",\"snapshot\",\"snapshot\",\"snapshot\"],[\"aragon\",\"aragon\",\"aragon\",\"aragon\",\"aragon\",...,\"aragon\",\"aragon\",\"aragon\",\"aragon\",\"aragon\"],[\"daohaus\",\"daohaus\",\"daohaus\",\"daohaus\",\"daohaus\",...,\"daohaus\",\"daohaus\",\"daohaus\",\"daohaus\",\"daohaus\"]]\n",
       "platform_id: [[\"0x0b93ba560283350d4216f29dc57e15df38d0eace\",\"0x15344ecdc2c4edfcb092e284d93c20f0529fd8a6\",\"0x273d0f686a53a49a0fba2a801566b19f9aaf8fcd\",\"0x294f999356ed03347c7a23bcbcf8d33fa41dc830\",\"0x2b8c70fffda7f3d7667f7cfede1429313886329c\",...,\"0xe716ec63c5673b3a4732d22909b38d779fa47c3f\",\"0xeed417f80cd918ce65b8e141daa00704aef98a90\",\"0xef25b64d4bdbe23f1bb5e557b5d24f12c46da0bc\",\"0xf902172bd2f34a6cf86d424f0440836d2d89afeb\",\"0xfd4a08ba1863718d92467ad05f13b352c3ae2cfd\"],[\"bonustrack.eth\",\"fabien.eth\",\"ichi.eth\",\"loyalfinance.eth\",\"damflux.eth\",...,\"islamchik2006.eth\",\"luksh.eth\",\"dimonzamillionare.eth\",\"rog-strix.eth\",\"ssbvote.eth\"],[\"0x0017a25385931ee690dc09df6cca919d1cd007b2\",\"0x001cd74c9a99b6c68e93fe69595124407b37aa8e\",\"0x0068990f8910e502dd41eb71fbc506936ca100af\",\"0x00b424842685f69912cfd93af7293602c973bf56\",\"0x00ccb72bd1f72882d89774d9acccce616ed9227d\",...,\"0xffbbb4c1a8fe19ce874a125935dc25aadbcf19dd\",\"0xffbc4704f0ad912977136592d262d6a6c8b3c498\",\"0xffd2f503ec324b367a92ad81fbcc5c433b162721\",\"0xffd943ea0362ea0eef463e169394ae7ab6fbc35e\",\"0xffe19aaee419c46443ebe7f583230d7c32e42eb4\"],[\"0x02c6c33b9bb6b2fc8ae9ab43a0235f4d7897b5d9\",\"0x0a96234adacd1e71c9b2a237cf12374f64e05e3a\",\"0x0d8d5002562405cb1ed598ff4fb48c948f36a18b\",\"0x0feb2ee31f9d8bcc580f18d4fe8ed9de61d02ff8\",\"0x1543bcdf759c0fccbb375a8b8b0c5fd1393a9b85\",...,\"0xff07943f171b826b3618982a6213f157fbc5e226\",\"0xff3f8c0b98454306fb0bda57e5ae38cbfa66cc0d\",\"0xff4b20d48a1e8f93bf6745de388547e731f96fd0\",\"0xffb676765d521518ac5c0d4f4067a9db9b72901b\",\"0xffe8a8ec2477390c6b97074f44326fac24d7f6dd\"]]\n",
       "name: [[\"CuraDAO\",\"dOrg\",\"PrimeDAO\",\"Genesis Alpha\",\"ETHGlobal\",...,\"xDXdao\",\"Gitcoin: Shillin and Chillin DAO\",\"KyberHackDAO\",\"Unilogin\",\"Arbitrum DAO\"],[\"Hi\",\"Fabien\",\"ichi.farm\",\"loyal.finance\",\"FLUX\",...,\"Islam_crypto\",\"Luksh\",\"Rich DAO\",\"rog\",\"SatoshiStreetBets\"],[null,\"ShillDAO\",null,null,null,...,null,null,null,null,null],[\"Zaibatsu-DAO\",null,\"test commando\",\"HIEROPHANT GREEN DAO\",null,...,null,\"array.finance CCO\",\"PRIDEdao \",\"EmpanaDAO\",\"Kokonut Network\"]]\n",
       "website: [[\"nan\",\"nan\",\"nan\",\"nan\",\"nan\",...,\"nan\",\"nan\",\"nan\",\"nan\",\"nan\"],[\"https://snapshot.org/#/bonustrack.eth\",\"https://snapshot.org/#/fabien.eth\",\"https://snapshot.org/#/ichi.eth\",\"https://snapshot.org/#/loyalfinance.eth\",\"https://snapshot.org/#/damflux.eth\",...,\"https://snapshot.org/#/islamchik2006.eth\",\"https://snapshot.org/#/luksh.eth\",\"https://snapshot.org/#/dimonzamillionare.eth\",\"https://snapshot.org/#/rog-strix.eth\",\"https://snapshot.org/#/ssbvote.eth\"],[\"https://etherscan.io/address/0x0017a25385931ee690dc09df6cca919d1cd007b2#code\",\"https://etherscan.io/address/0x001cd74c9a99b6c68e93fe69595124407b37aa8e#code\",\"https://etherscan.io/address/0x0068990f8910e502dd41eb71fbc506936ca100af#code\",\"https://etherscan.io/address/0x00b424842685f69912cfd93af7293602c973bf56#code\",\"https://etherscan.io/address/0x00ccb72bd1f72882d89774d9acccce616ed9227d#code\",...,\"https://etherscan.io/address/0xffbbb4c1a8fe19ce874a125935dc25aadbcf19dd#code\",\"https://etherscan.io/address/0xffbc4704f0ad912977136592d262d6a6c8b3c498#code\",\"https://etherscan.io/address/0xffd2f503ec324b367a92ad81fbcc5c433b162721#code\",\"https://etherscan.io/address/0xffd943ea0362ea0eef463e169394ae7ab6fbc35e#code\",\"https://etherscan.io/address/0xffe19aaee419c46443ebe7f583230d7c32e42eb4#code\"],[\"nan\",\"nan\",\"nan\",\"nan\",\"nan\",...,\"nan\",\"nan\",\"nan\",\"nan\",\"nan\"]]\n",
       "additional: [[\"nan\",\"nan\",\"nan\",\"nan\",\"nan\",...,\"nan\",\"nan\",\"nan\",\"nan\",\"nan\"],[\"nan\",\"bonustrack87, https://snapshot.org/#/fabien.eth\",\"nan\",\"nan\",\"nan\",...,\"nan\",\"https://youtube.com/@cryptoman5041?si=jpcLEQZwv5aIqb7_\",\"nan\",\"nan\",\"https://ssbcoin.com\"],[\"nan\",\"nan\",\"nan\",\"nan\",\"nan\",...,\"nan\",\"nan\",\"nan\",\"nan\",\"nan\"],[\"network: arbitrum version: 2.1\",\"network: arbitrum version: 2.1\",\"network: arbitrum version: 2.1\",\"network: arbitrum version: 2.1\",\"network: arbitrum version: 2.1\",...,\"network: xdai version: 2.1\",\"network: xdai version: 2.1\",\"network: xdai version: 2.1\",\"network: xdai version: 2.0\",\"network: xdai version: 2.1\"]]\n",
       "votes_count: [[103,336,30,2203,74,...,5913,1,6,6,1],[52,4702,762,14,11,...,1,2,4,0,26],[2,216,0,0,16,...,0,0,1,0,0],[1,0,1,0,0,...,0,123,0,0,272]]\n",
       "proposals_count: [[49,127,37,387,19,...,1438,1,6,3,1],[2,384,60,2,2,...,1,2,3,0,1],[2,17,0,0,25,...,0,0,1,0,0],[2,0,1,0,0,...,0,122,0,3,92]]"
      ]
     },
     "execution_count": 129,
     "metadata": {},
     "output_type": "execute_result"
    }
   ],
   "source": [
    "deployments = deployments.select([\n",
    "    'id',\n",
    "    'platform',\n",
    "    'platform_id',\n",
    "    'name',\n",
    "    'website',\n",
    "    'additional',\n",
    "    'votes_count',\n",
    "    'proposals_count'\n",
    "])\n",
    "deployments"
   ]
  },
  {
   "cell_type": "code",
   "execution_count": 130,
   "id": "be541ab9",
   "metadata": {
    "execution": {
     "iopub.execute_input": "2024-01-22T18:46:38.345460Z",
     "iopub.status.busy": "2024-01-22T18:46:38.345272Z",
     "iopub.status.idle": "2024-01-22T18:46:38.347877Z",
     "shell.execute_reply": "2024-01-22T18:46:38.347599Z"
    },
    "papermill": {
     "duration": 0.00614,
     "end_time": "2024-01-22T18:46:38.348588",
     "exception": false,
     "start_time": "2024-01-22T18:46:38.342448",
     "status": "completed"
    },
    "tags": []
   },
   "outputs": [
    {
     "data": {
      "text/plain": [
       "['id',\n",
       " 'platform',\n",
       " 'platform_id',\n",
       " 'name',\n",
       " 'website',\n",
       " 'additional',\n",
       " 'votes_count',\n",
       " 'proposals_count']"
      ]
     },
     "execution_count": 130,
     "metadata": {},
     "output_type": "execute_result"
    }
   ],
   "source": [
    "deployments.column_names"
   ]
  },
  {
   "cell_type": "code",
   "execution_count": 131,
   "id": "67efb026",
   "metadata": {
    "execution": {
     "iopub.execute_input": "2024-01-22T18:46:38.353169Z",
     "iopub.status.busy": "2024-01-22T18:46:38.352939Z",
     "iopub.status.idle": "2024-01-22T18:46:38.355718Z",
     "shell.execute_reply": "2024-01-22T18:46:38.355450Z"
    },
    "papermill": {
     "duration": 0.005697,
     "end_time": "2024-01-22T18:46:38.356473",
     "exception": false,
     "start_time": "2024-01-22T18:46:38.350776",
     "status": "completed"
    },
    "tags": []
   },
   "outputs": [
    {
     "data": {
      "text/plain": [
       "pyarrow.Table\n",
       "id: string\n",
       "platform: string\n",
       "platform_deployment_id: string\n",
       "name: string\n",
       "website: string\n",
       "additional: string\n",
       "votes_count: int64\n",
       "proposals_count: int64\n",
       "----\n",
       "id: [[\"8c9adf1b-b1ca-57d1-ad50-1bb8733beb54\",\"5605fbf2-952a-54cd-b1f0-74c3382d543f\",\"72dcfa82-aec9-5902-98c4-2deca59f5406\",\"1ff410f5-1c80-53cd-9558-d93d1f6de121\",\"8dc0d723-dc8e-5024-9644-cb60575698ed\",...,\"47613333-0bba-5f5b-a644-08af7de0dc2d\",\"4cc042df-fd7c-5a38-8095-98810c168f61\",\"32bb4ebe-1f77-5faf-a5f4-f193b07d8795\",\"ee55fd27-8760-5ea6-afa6-b12858820aac\",\"306b521f-8cb7-5661-af97-fef9c7bc0189\"]]\n",
       "platform: [[\"daostack\",\"daostack\",\"daostack\",\"daostack\",\"daostack\",...,\"daostack\",\"daostack\",\"daostack\",\"daostack\",\"daostack\"],[\"snapshot\",\"snapshot\",\"snapshot\",\"snapshot\",\"snapshot\",...,\"snapshot\",\"snapshot\",\"snapshot\",\"snapshot\",\"snapshot\"],[\"aragon\",\"aragon\",\"aragon\",\"aragon\",\"aragon\",...,\"aragon\",\"aragon\",\"aragon\",\"aragon\",\"aragon\"],[\"daohaus\",\"daohaus\",\"daohaus\",\"daohaus\",\"daohaus\",...,\"daohaus\",\"daohaus\",\"daohaus\",\"daohaus\",\"daohaus\"]]\n",
       "platform_deployment_id: [[\"0x0b93ba560283350d4216f29dc57e15df38d0eace\",\"0x15344ecdc2c4edfcb092e284d93c20f0529fd8a6\",\"0x273d0f686a53a49a0fba2a801566b19f9aaf8fcd\",\"0x294f999356ed03347c7a23bcbcf8d33fa41dc830\",\"0x2b8c70fffda7f3d7667f7cfede1429313886329c\",...,\"0xe716ec63c5673b3a4732d22909b38d779fa47c3f\",\"0xeed417f80cd918ce65b8e141daa00704aef98a90\",\"0xef25b64d4bdbe23f1bb5e557b5d24f12c46da0bc\",\"0xf902172bd2f34a6cf86d424f0440836d2d89afeb\",\"0xfd4a08ba1863718d92467ad05f13b352c3ae2cfd\"],[\"bonustrack.eth\",\"fabien.eth\",\"ichi.eth\",\"loyalfinance.eth\",\"damflux.eth\",...,\"islamchik2006.eth\",\"luksh.eth\",\"dimonzamillionare.eth\",\"rog-strix.eth\",\"ssbvote.eth\"],[\"0x0017a25385931ee690dc09df6cca919d1cd007b2\",\"0x001cd74c9a99b6c68e93fe69595124407b37aa8e\",\"0x0068990f8910e502dd41eb71fbc506936ca100af\",\"0x00b424842685f69912cfd93af7293602c973bf56\",\"0x00ccb72bd1f72882d89774d9acccce616ed9227d\",...,\"0xffbbb4c1a8fe19ce874a125935dc25aadbcf19dd\",\"0xffbc4704f0ad912977136592d262d6a6c8b3c498\",\"0xffd2f503ec324b367a92ad81fbcc5c433b162721\",\"0xffd943ea0362ea0eef463e169394ae7ab6fbc35e\",\"0xffe19aaee419c46443ebe7f583230d7c32e42eb4\"],[\"0x02c6c33b9bb6b2fc8ae9ab43a0235f4d7897b5d9\",\"0x0a96234adacd1e71c9b2a237cf12374f64e05e3a\",\"0x0d8d5002562405cb1ed598ff4fb48c948f36a18b\",\"0x0feb2ee31f9d8bcc580f18d4fe8ed9de61d02ff8\",\"0x1543bcdf759c0fccbb375a8b8b0c5fd1393a9b85\",...,\"0xff07943f171b826b3618982a6213f157fbc5e226\",\"0xff3f8c0b98454306fb0bda57e5ae38cbfa66cc0d\",\"0xff4b20d48a1e8f93bf6745de388547e731f96fd0\",\"0xffb676765d521518ac5c0d4f4067a9db9b72901b\",\"0xffe8a8ec2477390c6b97074f44326fac24d7f6dd\"]]\n",
       "name: [[\"CuraDAO\",\"dOrg\",\"PrimeDAO\",\"Genesis Alpha\",\"ETHGlobal\",...,\"xDXdao\",\"Gitcoin: Shillin and Chillin DAO\",\"KyberHackDAO\",\"Unilogin\",\"Arbitrum DAO\"],[\"Hi\",\"Fabien\",\"ichi.farm\",\"loyal.finance\",\"FLUX\",...,\"Islam_crypto\",\"Luksh\",\"Rich DAO\",\"rog\",\"SatoshiStreetBets\"],[null,\"ShillDAO\",null,null,null,...,null,null,null,null,null],[\"Zaibatsu-DAO\",null,\"test commando\",\"HIEROPHANT GREEN DAO\",null,...,null,\"array.finance CCO\",\"PRIDEdao \",\"EmpanaDAO\",\"Kokonut Network\"]]\n",
       "website: [[\"nan\",\"nan\",\"nan\",\"nan\",\"nan\",...,\"nan\",\"nan\",\"nan\",\"nan\",\"nan\"],[\"https://snapshot.org/#/bonustrack.eth\",\"https://snapshot.org/#/fabien.eth\",\"https://snapshot.org/#/ichi.eth\",\"https://snapshot.org/#/loyalfinance.eth\",\"https://snapshot.org/#/damflux.eth\",...,\"https://snapshot.org/#/islamchik2006.eth\",\"https://snapshot.org/#/luksh.eth\",\"https://snapshot.org/#/dimonzamillionare.eth\",\"https://snapshot.org/#/rog-strix.eth\",\"https://snapshot.org/#/ssbvote.eth\"],[\"https://etherscan.io/address/0x0017a25385931ee690dc09df6cca919d1cd007b2#code\",\"https://etherscan.io/address/0x001cd74c9a99b6c68e93fe69595124407b37aa8e#code\",\"https://etherscan.io/address/0x0068990f8910e502dd41eb71fbc506936ca100af#code\",\"https://etherscan.io/address/0x00b424842685f69912cfd93af7293602c973bf56#code\",\"https://etherscan.io/address/0x00ccb72bd1f72882d89774d9acccce616ed9227d#code\",...,\"https://etherscan.io/address/0xffbbb4c1a8fe19ce874a125935dc25aadbcf19dd#code\",\"https://etherscan.io/address/0xffbc4704f0ad912977136592d262d6a6c8b3c498#code\",\"https://etherscan.io/address/0xffd2f503ec324b367a92ad81fbcc5c433b162721#code\",\"https://etherscan.io/address/0xffd943ea0362ea0eef463e169394ae7ab6fbc35e#code\",\"https://etherscan.io/address/0xffe19aaee419c46443ebe7f583230d7c32e42eb4#code\"],[\"nan\",\"nan\",\"nan\",\"nan\",\"nan\",...,\"nan\",\"nan\",\"nan\",\"nan\",\"nan\"]]\n",
       "additional: [[\"nan\",\"nan\",\"nan\",\"nan\",\"nan\",...,\"nan\",\"nan\",\"nan\",\"nan\",\"nan\"],[\"nan\",\"bonustrack87, https://snapshot.org/#/fabien.eth\",\"nan\",\"nan\",\"nan\",...,\"nan\",\"https://youtube.com/@cryptoman5041?si=jpcLEQZwv5aIqb7_\",\"nan\",\"nan\",\"https://ssbcoin.com\"],[\"nan\",\"nan\",\"nan\",\"nan\",\"nan\",...,\"nan\",\"nan\",\"nan\",\"nan\",\"nan\"],[\"network: arbitrum version: 2.1\",\"network: arbitrum version: 2.1\",\"network: arbitrum version: 2.1\",\"network: arbitrum version: 2.1\",\"network: arbitrum version: 2.1\",...,\"network: xdai version: 2.1\",\"network: xdai version: 2.1\",\"network: xdai version: 2.1\",\"network: xdai version: 2.0\",\"network: xdai version: 2.1\"]]\n",
       "votes_count: [[103,336,30,2203,74,...,5913,1,6,6,1],[52,4702,762,14,11,...,1,2,4,0,26],[2,216,0,0,16,...,0,0,1,0,0],[1,0,1,0,0,...,0,123,0,0,272]]\n",
       "proposals_count: [[49,127,37,387,19,...,1438,1,6,3,1],[2,384,60,2,2,...,1,2,3,0,1],[2,17,0,0,25,...,0,0,1,0,0],[2,0,1,0,0,...,0,122,0,3,92]]"
      ]
     },
     "execution_count": 131,
     "metadata": {},
     "output_type": "execute_result"
    }
   ],
   "source": [
    "# rename platform_id to platform_deployment_id\n",
    "deployments = deployments.rename_columns(['id',\n",
    " 'platform',\n",
    " 'platform_deployment_id',\n",
    " 'name',\n",
    " 'website',\n",
    " 'additional',\n",
    " 'votes_count',\n",
    " 'proposals_count'])\n",
    "deployments"
   ]
  },
  {
   "cell_type": "code",
   "execution_count": 132,
   "id": "7e88ae07",
   "metadata": {},
   "outputs": [
    {
     "data": {
      "text/plain": [
       "platform\n",
       "aragon      0\n",
       "daohaus     0\n",
       "daostack    0\n",
       "snapshot    0\n",
       "Name: id, dtype: int64"
      ]
     },
     "execution_count": 132,
     "metadata": {},
     "output_type": "execute_result"
    }
   ],
   "source": [
    "df = deployments.to_pandas()\n",
    "df.groupby('platform')['id'].apply(lambda x: x.duplicated().sum())"
   ]
  },
  {
   "cell_type": "code",
   "execution_count": 133,
   "id": "1cdc34bd",
   "metadata": {
    "execution": {
     "iopub.execute_input": "2024-01-22T18:46:38.362186Z",
     "iopub.status.busy": "2024-01-22T18:46:38.362029Z",
     "iopub.status.idle": "2024-01-22T18:46:38.386397Z",
     "shell.execute_reply": "2024-01-22T18:46:38.385985Z"
    },
    "papermill": {
     "duration": 0.034532,
     "end_time": "2024-01-22T18:46:38.393807",
     "exception": false,
     "start_time": "2024-01-22T18:46:38.359275",
     "status": "completed"
    },
    "tags": []
   },
   "outputs": [],
   "source": [
    "# check that there are no duplicate uuids\n",
    "assert deployments.shape[0] == len(set(deployments.column(0)))"
   ]
  },
  {
   "cell_type": "code",
   "execution_count": 134,
   "id": "9225ad6b",
   "metadata": {
    "execution": {
     "iopub.execute_input": "2024-01-22T18:46:38.398688Z",
     "iopub.status.busy": "2024-01-22T18:46:38.398508Z",
     "iopub.status.idle": "2024-01-22T18:46:38.425007Z",
     "shell.execute_reply": "2024-01-22T18:46:38.424439Z"
    },
    "papermill": {
     "duration": 0.030733,
     "end_time": "2024-01-22T18:46:38.426863",
     "exception": false,
     "start_time": "2024-01-22T18:46:38.396130",
     "status": "completed"
    },
    "tags": []
   },
   "outputs": [],
   "source": [
    "# save\n",
    "pq.write_table(deployments, OUT_FILE)"
   ]
  }
 ],
 "metadata": {
  "kernelspec": {
   "display_name": "Python 3",
   "language": "python",
   "name": "python3"
  },
  "language_info": {
   "codemirror_mode": {
    "name": "ipython",
    "version": 3
   },
   "file_extension": ".py",
   "mimetype": "text/x-python",
   "name": "python",
   "nbconvert_exporter": "python",
   "pygments_lexer": "ipython3",
   "version": "3.11.6"
  },
  "papermill": {
   "default_parameters": {},
   "duration": 1.538335,
   "end_time": "2024-01-22T18:46:38.648486",
   "environment_variables": {},
   "exception": null,
   "input_path": "./parquet_versions/parquet_cleanup/v3_add_deployment_uuids.ipynb",
   "output_path": "./parquet_versions/parquet_cleanup/v3_add_deployment_uuids.ipynb",
   "parameters": {},
   "start_time": "2024-01-22T18:46:37.110151",
   "version": "2.4.0"
  }
 },
 "nbformat": 4,
 "nbformat_minor": 5
}
