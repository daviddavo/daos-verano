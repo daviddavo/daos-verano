{
 "cells": [
  {
   "cell_type": "code",
   "execution_count": 13,
   "metadata": {},
   "outputs": [],
   "source": [
    "IN_FILE = '../../parquets/deployments.parquet'\n",
    "OUT_FILE = '../../parquets/deployments.parquet'"
   ]
  },
  {
   "cell_type": "code",
   "execution_count": 14,
   "metadata": {},
   "outputs": [
    {
     "data": {
      "text/plain": [
       "pyarrow.Table\n",
       "platform: string\n",
       "platform_id: string\n",
       "name: string\n",
       "website: string\n",
       "additional: string\n",
       "votes_count: int64\n",
       "proposals_count: int64\n",
       "__index_level_0__: int64\n",
       "----\n",
       "platform: [[\"daostack\",\"daostack\",\"daostack\",\"daostack\",\"daostack\",...,\"daohaus\",\"daohaus\",\"daohaus\",\"daohaus\",\"daohaus\"]]\n",
       "platform_id: [[\"0x0b93ba560283350d4216f29dc57e15df38d0eace\",\"0x15344ecdc2c4edfcb092e284d93c20f0529fd8a6\",\"0x273d0f686a53a49a0fba2a801566b19f9aaf8fcd\",\"0x294f999356ed03347c7a23bcbcf8d33fa41dc830\",\"0x2b8c70fffda7f3d7667f7cfede1429313886329c\",...,\"0xff07943f171b826b3618982a6213f157fbc5e226\",\"0xff3f8c0b98454306fb0bda57e5ae38cbfa66cc0d\",\"0xff4b20d48a1e8f93bf6745de388547e731f96fd0\",\"0xffb676765d521518ac5c0d4f4067a9db9b72901b\",\"0xffe8a8ec2477390c6b97074f44326fac24d7f6dd\"]]\n",
       "name: [[\"CuraDAO\",\"dOrg\",\"PrimeDAO\",\"Genesis Alpha\",\"ETHGlobal\",...,null,\"array.finance CCO\",\"PRIDEdao \",\"EmpanaDAO\",\"Kokonut Network\"]]\n",
       "website: [[\"nan\",\"nan\",\"nan\",\"nan\",\"nan\",...,\"nan\",\"nan\",\"nan\",\"nan\",\"nan\"]]\n",
       "additional: [[\"nan\",\"nan\",\"nan\",\"nan\",\"nan\",...,\"network: xdai version: 2.1\",\"network: xdai version: 2.1\",\"network: xdai version: 2.1\",\"network: xdai version: 2.0\",\"network: xdai version: 2.1\"]]\n",
       "votes_count: [[103,336,30,2203,74,...,0,123,0,0,272]]\n",
       "proposals_count: [[49,127,37,387,19,...,0,122,0,3,92]]\n",
       "__index_level_0__: [[0,1,2,3,4,...,35978,35979,35980,35981,35982]]"
      ]
     },
     "execution_count": 14,
     "metadata": {},
     "output_type": "execute_result"
    }
   ],
   "source": [
    "import pyarrow.parquet as pq\n",
    "\n",
    "# read in ../parquets_version3/deployments.parquet\n",
    "deployments = pq.read_table(IN_FILE)\n",
    "deployments"
   ]
  },
  {
   "cell_type": "code",
   "execution_count": 15,
   "metadata": {},
   "outputs": [],
   "source": [
    "# print(deployments.column_names[7])\n",
    "# assert deployments.column_names[7] == '__index_level_0__'"
   ]
  },
  {
   "cell_type": "code",
   "execution_count": 16,
   "metadata": {},
   "outputs": [],
   "source": [
    "# deployments = deployments.remove_column(7)\n",
    "# deployments"
   ]
  },
  {
   "cell_type": "code",
   "execution_count": 17,
   "metadata": {},
   "outputs": [
    {
     "data": {
      "text/plain": [
       "<pyarrow.lib.StringArray object at 0x7f450ad66b00>\n",
       "[\n",
       "  \"daostack_0x0b93ba560283350d4216f29dc57e15df38d0eace\",\n",
       "  \"daostack_0x15344ecdc2c4edfcb092e284d93c20f0529fd8a6\",\n",
       "  \"daostack_0x273d0f686a53a49a0fba2a801566b19f9aaf8fcd\",\n",
       "  \"daostack_0x294f999356ed03347c7a23bcbcf8d33fa41dc830\",\n",
       "  \"daostack_0x2b8c70fffda7f3d7667f7cfede1429313886329c\",\n",
       "  \"daostack_0x3324b516df92e78463d8b0616dd146cf6c58b0b9\",\n",
       "  \"daostack_0x39757e7cdb7022c3829195d57b29428d79593c9d\",\n",
       "  \"daostack_0x440583455bcd85ab2bd429c015d3aabcae135f0a\",\n",
       "  \"daostack_0x45cf7d5c503b6417d570929368b8f4c4567ad9eb\",\n",
       "  \"daostack_0x519b70055af55a007110b4ff99b0ea33071c720a\",\n",
       "  ...\n",
       "  \"daohaus_0xfe2d87b14dc0d0d60020b58314b6da197dbab9c6\",\n",
       "  \"daohaus_0xfe3df41697bd2e4e8afb596857e5f1c0744499b0\",\n",
       "  \"daohaus_0xfe960b72b3302867a2ce133831de1289ea5f3f1a\",\n",
       "  \"daohaus_0xfeb8db3e033ed3cec78fff9ad3b43ac219db5c4b\",\n",
       "  \"daohaus_0xfed1c9e27564b96053d00467c8e3de6baaebf02e\",\n",
       "  \"daohaus_0xff07943f171b826b3618982a6213f157fbc5e226\",\n",
       "  \"daohaus_0xff3f8c0b98454306fb0bda57e5ae38cbfa66cc0d\",\n",
       "  \"daohaus_0xff4b20d48a1e8f93bf6745de388547e731f96fd0\",\n",
       "  \"daohaus_0xffb676765d521518ac5c0d4f4067a9db9b72901b\",\n",
       "  \"daohaus_0xffe8a8ec2477390c6b97074f44326fac24d7f6dd\"\n",
       "]"
      ]
     },
     "execution_count": 17,
     "metadata": {},
     "output_type": "execute_result"
    }
   ],
   "source": [
    "import pyarrow as pa\n",
    "ids_to_hash = pa.array([str(deployments.column(0)[i]) + '_' + str(deployments.column(1)[i]) for i in range(len(deployments.column(0)))])\n",
    "ids_to_hash"
   ]
  },
  {
   "cell_type": "code",
   "execution_count": 18,
   "metadata": {},
   "outputs": [
    {
     "name": "stdout",
     "output_type": "stream",
     "text": [
      "daostack_0x0b93ba560283350d4216f29dc57e15df38d0eace\n",
      "8c9adf1b-b1ca-57d1-ad50-1bb8733beb54\n",
      "daostack_0x15344ecdc2c4edfcb092e284d93c20f0529fd8a6\n",
      "5605fbf2-952a-54cd-b1f0-74c3382d543f\n",
      "daostack_0x273d0f686a53a49a0fba2a801566b19f9aaf8fcd\n",
      "72dcfa82-aec9-5902-98c4-2deca59f5406\n",
      "daostack_0x294f999356ed03347c7a23bcbcf8d33fa41dc830\n",
      "1ff410f5-1c80-53cd-9558-d93d1f6de121\n",
      "daostack_0x2b8c70fffda7f3d7667f7cfede1429313886329c\n",
      "8dc0d723-dc8e-5024-9644-cb60575698ed\n",
      "daostack_0x3324b516df92e78463d8b0616dd146cf6c58b0b9\n",
      "782029b1-bf08-5679-bfe0-8f95af8a3f20\n",
      "daostack_0x39757e7cdb7022c3829195d57b29428d79593c9d\n",
      "d16f1646-d170-5b57-8812-e43de6b87597\n",
      "daostack_0x440583455bcd85ab2bd429c015d3aabcae135f0a\n",
      "9fb971b0-de3e-5651-96cf-ad330a9c660b\n",
      "daostack_0x45cf7d5c503b6417d570929368b8f4c4567ad9eb\n",
      "393e9039-af87-5e45-a727-5c2e2cd2a72a\n",
      "daostack_0x519b70055af55a007110b4ff99b0ea33071c720a\n",
      "d3229595-ac4c-55bf-9808-386fc5603bd1\n"
     ]
    }
   ],
   "source": [
    "import uuid\n",
    "\n",
    "for i in ids_to_hash[:10]:\n",
    "    print(i)\n",
    "    print(uuid.uuid5(uuid.NAMESPACE_OID, str(i)))"
   ]
  },
  {
   "cell_type": "code",
   "execution_count": 19,
   "metadata": {},
   "outputs": [
    {
     "data": {
      "text/plain": [
       "<pyarrow.lib.StringArray object at 0x7f4574113580>\n",
       "[\n",
       "  \"8c9adf1b-b1ca-57d1-ad50-1bb8733beb54\",\n",
       "  \"5605fbf2-952a-54cd-b1f0-74c3382d543f\",\n",
       "  \"72dcfa82-aec9-5902-98c4-2deca59f5406\",\n",
       "  \"1ff410f5-1c80-53cd-9558-d93d1f6de121\",\n",
       "  \"8dc0d723-dc8e-5024-9644-cb60575698ed\",\n",
       "  \"782029b1-bf08-5679-bfe0-8f95af8a3f20\",\n",
       "  \"d16f1646-d170-5b57-8812-e43de6b87597\",\n",
       "  \"9fb971b0-de3e-5651-96cf-ad330a9c660b\",\n",
       "  \"393e9039-af87-5e45-a727-5c2e2cd2a72a\",\n",
       "  \"d3229595-ac4c-55bf-9808-386fc5603bd1\",\n",
       "  ...\n",
       "  \"acc5c65c-d5ab-50ac-931f-919021fe325c\",\n",
       "  \"256403d8-8032-59d3-9d9c-d4126bc5df43\",\n",
       "  \"a1d3d127-555c-545b-8ff0-1227cc41270f\",\n",
       "  \"e75916ca-b87a-54fa-943f-530ca8723fa5\",\n",
       "  \"e93a3245-0378-58ab-b5c9-59a0ff35a749\",\n",
       "  \"47613333-0bba-5f5b-a644-08af7de0dc2d\",\n",
       "  \"4cc042df-fd7c-5a38-8095-98810c168f61\",\n",
       "  \"32bb4ebe-1f77-5faf-a5f4-f193b07d8795\",\n",
       "  \"ee55fd27-8760-5ea6-afa6-b12858820aac\",\n",
       "  \"306b521f-8cb7-5661-af97-fef9c7bc0189\"\n",
       "]"
      ]
     },
     "execution_count": 19,
     "metadata": {},
     "output_type": "execute_result"
    }
   ],
   "source": [
    "import uuid\n",
    "uuids = pa.array([str(uuid.uuid5(uuid.NAMESPACE_OID, str(ids_to_hash[i]))) for i in range(len(ids_to_hash))])\n",
    "uuids"
   ]
  },
  {
   "cell_type": "code",
   "execution_count": 20,
   "metadata": {},
   "outputs": [
    {
     "data": {
      "text/plain": [
       "pyarrow.Table\n",
       "platform: string\n",
       "platform_id: string\n",
       "name: string\n",
       "website: string\n",
       "additional: string\n",
       "votes_count: int64\n",
       "proposals_count: int64\n",
       "__index_level_0__: int64\n",
       "id: string\n",
       "----\n",
       "platform: [[\"daostack\",\"daostack\",\"daostack\",\"daostack\",\"daostack\",...,\"daohaus\",\"daohaus\",\"daohaus\",\"daohaus\",\"daohaus\"]]\n",
       "platform_id: [[\"0x0b93ba560283350d4216f29dc57e15df38d0eace\",\"0x15344ecdc2c4edfcb092e284d93c20f0529fd8a6\",\"0x273d0f686a53a49a0fba2a801566b19f9aaf8fcd\",\"0x294f999356ed03347c7a23bcbcf8d33fa41dc830\",\"0x2b8c70fffda7f3d7667f7cfede1429313886329c\",...,\"0xff07943f171b826b3618982a6213f157fbc5e226\",\"0xff3f8c0b98454306fb0bda57e5ae38cbfa66cc0d\",\"0xff4b20d48a1e8f93bf6745de388547e731f96fd0\",\"0xffb676765d521518ac5c0d4f4067a9db9b72901b\",\"0xffe8a8ec2477390c6b97074f44326fac24d7f6dd\"]]\n",
       "name: [[\"CuraDAO\",\"dOrg\",\"PrimeDAO\",\"Genesis Alpha\",\"ETHGlobal\",...,null,\"array.finance CCO\",\"PRIDEdao \",\"EmpanaDAO\",\"Kokonut Network\"]]\n",
       "website: [[\"nan\",\"nan\",\"nan\",\"nan\",\"nan\",...,\"nan\",\"nan\",\"nan\",\"nan\",\"nan\"]]\n",
       "additional: [[\"nan\",\"nan\",\"nan\",\"nan\",\"nan\",...,\"network: xdai version: 2.1\",\"network: xdai version: 2.1\",\"network: xdai version: 2.1\",\"network: xdai version: 2.0\",\"network: xdai version: 2.1\"]]\n",
       "votes_count: [[103,336,30,2203,74,...,0,123,0,0,272]]\n",
       "proposals_count: [[49,127,37,387,19,...,0,122,0,3,92]]\n",
       "__index_level_0__: [[0,1,2,3,4,...,35978,35979,35980,35981,35982]]\n",
       "id: [[\"8c9adf1b-b1ca-57d1-ad50-1bb8733beb54\",\"5605fbf2-952a-54cd-b1f0-74c3382d543f\",\"72dcfa82-aec9-5902-98c4-2deca59f5406\",\"1ff410f5-1c80-53cd-9558-d93d1f6de121\",\"8dc0d723-dc8e-5024-9644-cb60575698ed\",...,\"47613333-0bba-5f5b-a644-08af7de0dc2d\",\"4cc042df-fd7c-5a38-8095-98810c168f61\",\"32bb4ebe-1f77-5faf-a5f4-f193b07d8795\",\"ee55fd27-8760-5ea6-afa6-b12858820aac\",\"306b521f-8cb7-5661-af97-fef9c7bc0189\"]]"
      ]
     },
     "execution_count": 20,
     "metadata": {},
     "output_type": "execute_result"
    }
   ],
   "source": [
    "# add uuids column to deployments\n",
    "deployments = deployments.append_column('id', uuids)\n",
    "deployments"
   ]
  },
  {
   "cell_type": "code",
   "execution_count": 21,
   "metadata": {},
   "outputs": [
    {
     "data": {
      "text/plain": [
       "pyarrow.Table\n",
       "id: string\n",
       "platform: string\n",
       "platform_id: string\n",
       "name: string\n",
       "website: string\n",
       "additional: string\n",
       "votes_count: int64\n",
       "proposals_count: int64\n",
       "----\n",
       "id: [[\"8c9adf1b-b1ca-57d1-ad50-1bb8733beb54\",\"5605fbf2-952a-54cd-b1f0-74c3382d543f\",\"72dcfa82-aec9-5902-98c4-2deca59f5406\",\"1ff410f5-1c80-53cd-9558-d93d1f6de121\",\"8dc0d723-dc8e-5024-9644-cb60575698ed\",...,\"47613333-0bba-5f5b-a644-08af7de0dc2d\",\"4cc042df-fd7c-5a38-8095-98810c168f61\",\"32bb4ebe-1f77-5faf-a5f4-f193b07d8795\",\"ee55fd27-8760-5ea6-afa6-b12858820aac\",\"306b521f-8cb7-5661-af97-fef9c7bc0189\"]]\n",
       "platform: [[\"daostack\",\"daostack\",\"daostack\",\"daostack\",\"daostack\",...,\"daohaus\",\"daohaus\",\"daohaus\",\"daohaus\",\"daohaus\"]]\n",
       "platform_id: [[\"0x0b93ba560283350d4216f29dc57e15df38d0eace\",\"0x15344ecdc2c4edfcb092e284d93c20f0529fd8a6\",\"0x273d0f686a53a49a0fba2a801566b19f9aaf8fcd\",\"0x294f999356ed03347c7a23bcbcf8d33fa41dc830\",\"0x2b8c70fffda7f3d7667f7cfede1429313886329c\",...,\"0xff07943f171b826b3618982a6213f157fbc5e226\",\"0xff3f8c0b98454306fb0bda57e5ae38cbfa66cc0d\",\"0xff4b20d48a1e8f93bf6745de388547e731f96fd0\",\"0xffb676765d521518ac5c0d4f4067a9db9b72901b\",\"0xffe8a8ec2477390c6b97074f44326fac24d7f6dd\"]]\n",
       "name: [[\"CuraDAO\",\"dOrg\",\"PrimeDAO\",\"Genesis Alpha\",\"ETHGlobal\",...,null,\"array.finance CCO\",\"PRIDEdao \",\"EmpanaDAO\",\"Kokonut Network\"]]\n",
       "website: [[\"nan\",\"nan\",\"nan\",\"nan\",\"nan\",...,\"nan\",\"nan\",\"nan\",\"nan\",\"nan\"]]\n",
       "additional: [[\"nan\",\"nan\",\"nan\",\"nan\",\"nan\",...,\"network: xdai version: 2.1\",\"network: xdai version: 2.1\",\"network: xdai version: 2.1\",\"network: xdai version: 2.0\",\"network: xdai version: 2.1\"]]\n",
       "votes_count: [[103,336,30,2203,74,...,0,123,0,0,272]]\n",
       "proposals_count: [[49,127,37,387,19,...,0,122,0,3,92]]"
      ]
     },
     "execution_count": 21,
     "metadata": {},
     "output_type": "execute_result"
    }
   ],
   "source": [
    "deployments = deployments.select([\n",
    "    'id',\n",
    "    'platform',\n",
    "    'platform_id',\n",
    "    'name',\n",
    "    'website',\n",
    "    'additional',\n",
    "    'votes_count',\n",
    "    'proposals_count'\n",
    "])\n",
    "deployments"
   ]
  },
  {
   "cell_type": "code",
   "execution_count": 22,
   "metadata": {},
   "outputs": [
    {
     "data": {
      "text/plain": [
       "['id',\n",
       " 'platform',\n",
       " 'platform_id',\n",
       " 'name',\n",
       " 'website',\n",
       " 'additional',\n",
       " 'votes_count',\n",
       " 'proposals_count']"
      ]
     },
     "execution_count": 22,
     "metadata": {},
     "output_type": "execute_result"
    }
   ],
   "source": [
    "deployments.column_names"
   ]
  },
  {
   "cell_type": "code",
   "execution_count": 23,
   "metadata": {},
   "outputs": [
    {
     "data": {
      "text/plain": [
       "pyarrow.Table\n",
       "id: string\n",
       "platform: string\n",
       "platform_deployment_id: string\n",
       "name: string\n",
       "website: string\n",
       "additional: string\n",
       "votes_count: int64\n",
       "proposals_count: int64\n",
       "----\n",
       "id: [[\"8c9adf1b-b1ca-57d1-ad50-1bb8733beb54\",\"5605fbf2-952a-54cd-b1f0-74c3382d543f\",\"72dcfa82-aec9-5902-98c4-2deca59f5406\",\"1ff410f5-1c80-53cd-9558-d93d1f6de121\",\"8dc0d723-dc8e-5024-9644-cb60575698ed\",...,\"47613333-0bba-5f5b-a644-08af7de0dc2d\",\"4cc042df-fd7c-5a38-8095-98810c168f61\",\"32bb4ebe-1f77-5faf-a5f4-f193b07d8795\",\"ee55fd27-8760-5ea6-afa6-b12858820aac\",\"306b521f-8cb7-5661-af97-fef9c7bc0189\"]]\n",
       "platform: [[\"daostack\",\"daostack\",\"daostack\",\"daostack\",\"daostack\",...,\"daohaus\",\"daohaus\",\"daohaus\",\"daohaus\",\"daohaus\"]]\n",
       "platform_deployment_id: [[\"0x0b93ba560283350d4216f29dc57e15df38d0eace\",\"0x15344ecdc2c4edfcb092e284d93c20f0529fd8a6\",\"0x273d0f686a53a49a0fba2a801566b19f9aaf8fcd\",\"0x294f999356ed03347c7a23bcbcf8d33fa41dc830\",\"0x2b8c70fffda7f3d7667f7cfede1429313886329c\",...,\"0xff07943f171b826b3618982a6213f157fbc5e226\",\"0xff3f8c0b98454306fb0bda57e5ae38cbfa66cc0d\",\"0xff4b20d48a1e8f93bf6745de388547e731f96fd0\",\"0xffb676765d521518ac5c0d4f4067a9db9b72901b\",\"0xffe8a8ec2477390c6b97074f44326fac24d7f6dd\"]]\n",
       "name: [[\"CuraDAO\",\"dOrg\",\"PrimeDAO\",\"Genesis Alpha\",\"ETHGlobal\",...,null,\"array.finance CCO\",\"PRIDEdao \",\"EmpanaDAO\",\"Kokonut Network\"]]\n",
       "website: [[\"nan\",\"nan\",\"nan\",\"nan\",\"nan\",...,\"nan\",\"nan\",\"nan\",\"nan\",\"nan\"]]\n",
       "additional: [[\"nan\",\"nan\",\"nan\",\"nan\",\"nan\",...,\"network: xdai version: 2.1\",\"network: xdai version: 2.1\",\"network: xdai version: 2.1\",\"network: xdai version: 2.0\",\"network: xdai version: 2.1\"]]\n",
       "votes_count: [[103,336,30,2203,74,...,0,123,0,0,272]]\n",
       "proposals_count: [[49,127,37,387,19,...,0,122,0,3,92]]"
      ]
     },
     "execution_count": 23,
     "metadata": {},
     "output_type": "execute_result"
    }
   ],
   "source": [
    "# rename platform_id to platform_deployment_id\n",
    "deployments = deployments.rename_columns(['id',\n",
    " 'platform',\n",
    " 'platform_deployment_id',\n",
    " 'name',\n",
    " 'website',\n",
    " 'additional',\n",
    " 'votes_count',\n",
    " 'proposals_count'])\n",
    "deployments"
   ]
  },
  {
   "cell_type": "code",
   "execution_count": 24,
   "metadata": {},
   "outputs": [],
   "source": [
    "# check that there are no duplicate uuids\n",
    "assert deployments.shape[0] == len(set(deployments.column(0)))"
   ]
  },
  {
   "cell_type": "code",
   "execution_count": 25,
   "metadata": {},
   "outputs": [],
   "source": [
    "# save\n",
    "pq.write_table(deployments, OUT_FILE)"
   ]
  }
 ],
 "metadata": {
  "kernelspec": {
   "display_name": "Python 3",
   "language": "python",
   "name": "python3"
  },
  "language_info": {
   "codemirror_mode": {
    "name": "ipython",
    "version": 3
   },
   "file_extension": ".py",
   "mimetype": "text/x-python",
   "name": "python",
   "nbconvert_exporter": "python",
   "pygments_lexer": "ipython3",
   "version": "3.11.6"
  },
  "orig_nbformat": 4
 },
 "nbformat": 4,
 "nbformat_minor": 2
}
