{
 "cells": [
  {
   "cell_type": "markdown",
   "metadata": {},
   "source": [
    "here we will:\n",
    "1. make the proposal date field to type date and \n",
    "2. remove the 'platform' column from the proposal table; this is redundant as we have this field on the deployment table; this is a property of deployments, not of proposals\n",
    "3. make votes date precision to seconds"
   ]
  },
  {
   "cell_type": "code",
   "execution_count": 2,
   "metadata": {},
   "outputs": [],
   "source": [
    "IN_FILE = '../../parquets/votes.parquet'\n",
    "OUT_FILE = '../../parquets/votes.parquet'"
   ]
  },
  {
   "cell_type": "code",
   "execution_count": 11,
   "metadata": {},
   "outputs": [
    {
     "data": {
      "text/plain": [
       "id: string\n",
       "proposal_id: string\n",
       "deployment_id: string\n",
       "platform_vote_id: string\n",
       "voter: string\n",
       "date: timestamp[us]\n",
       "choice: string\n",
       "weight: decimal128(38, 4)"
      ]
     },
     "execution_count": 11,
     "metadata": {},
     "output_type": "execute_result"
    }
   ],
   "source": [
    "votes = pq.read_table(IN_FILE)\n",
    "votes.schema"
   ]
  },
  {
   "cell_type": "code",
   "execution_count": 12,
   "metadata": {},
   "outputs": [
    {
     "data": {
      "text/plain": [
       "'date'"
      ]
     },
     "execution_count": 12,
     "metadata": {},
     "output_type": "execute_result"
    }
   ],
   "source": [
    "print(votes.column_names[5])\n",
    "assert votes.column_names[5] == 'date'"
   ]
  },
  {
   "cell_type": "code",
   "execution_count": 13,
   "metadata": {},
   "outputs": [],
   "source": [
    "votes = votes.set_column(5, 'date', votes.column(5).cast(pa.timestamp('s')))"
   ]
  },
  {
   "cell_type": "code",
   "execution_count": 14,
   "metadata": {},
   "outputs": [
    {
     "data": {
      "text/plain": [
       "id: string\n",
       "proposal_id: string\n",
       "deployment_id: string\n",
       "platform_vote_id: string\n",
       "voter: string\n",
       "date: timestamp[s]\n",
       "choice: string\n",
       "weight: decimal128(38, 4)"
      ]
     },
     "execution_count": 14,
     "metadata": {},
     "output_type": "execute_result"
    }
   ],
   "source": [
    "votes.schema"
   ]
  },
  {
   "cell_type": "code",
   "execution_count": 15,
   "metadata": {},
   "outputs": [],
   "source": [
    "pa.parquet.write_table(votes, OUT_FILE)"
   ]
  }
 ],
 "metadata": {
  "kernelspec": {
   "display_name": "Python 3",
   "language": "python",
   "name": "python3"
  },
  "language_info": {
   "codemirror_mode": {
    "name": "ipython",
    "version": 3
   },
   "file_extension": ".py",
   "mimetype": "text/x-python",
   "name": "python",
   "nbconvert_exporter": "python",
   "pygments_lexer": "ipython3",
   "version": "3.11.6"
  },
  "orig_nbformat": 4
 },
 "nbformat": 4,
 "nbformat_minor": 2
}
