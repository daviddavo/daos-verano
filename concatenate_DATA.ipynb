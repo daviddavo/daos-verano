{
 "cells": [
  {
   "cell_type": "code",
   "execution_count": 8,
   "metadata": {},
   "outputs": [],
   "source": [
    "import glob\n",
    "\n",
    "# get all the csv files in the DATA/deployments folder\n",
    "deployments = glob.glob('./DATA/deployments/*_deployments.csv')\n",
    "deployments\n",
    "assert len(deployments) == 6"
   ]
  },
  {
   "cell_type": "code",
   "execution_count": 23,
   "metadata": {},
   "outputs": [
    {
     "name": "stdout",
     "output_type": "stream",
     "text": [
      "(2165, 7)\n",
      ".\n",
      "(2375, 7)\n",
      ".\n",
      "(58, 7)\n",
      ".\n",
      "(3528, 7)\n",
      ".\n",
      "(20782, 7)\n",
      ".\n",
      "(2387, 7)\n",
      ".\n",
      "took 0:00:00.126763 to pandas concat\n",
      "wrote 31295 rows to parquets/deployments.parquet\n"
     ]
    }
   ],
   "source": [
    "# we want to make three parquet files, one for deployments, one for proposals, and one for votes\n",
    "# start with deployments\n",
    "\n",
    "import pandas as pd\n",
    "\n",
    "import pandas as pd\n",
    "import pyarrow as pa\n",
    "import pyarrow.parquet as pq\n",
    "from datetime import datetime\n",
    "\n",
    "\n",
    "def deployments_csv_to_parquet(filenames: iter, out_filename: str) -> None:\n",
    "    rows_count = 0\n",
    "    chunksize = 1000000  # this is the number of lines\n",
    "    t1 = datetime.now()\n",
    "    table_exists = False\n",
    "    pqwriter = None\n",
    "    # if filename exists, raise error\n",
    "    if glob.glob(out_filename):\n",
    "        raise FileExistsError(f'{out_filename} already exists')\n",
    "    for file in filenames:\n",
    "        for i, df in enumerate(pd.read_csv(file, chunksize=chunksize)):\n",
    "            print(df.shape)\n",
    "            # make 'website' and 'additional' columns strings\n",
    "            df['website'] = df['website'].astype(str)\n",
    "            df['additional'] = df['additional'].astype(str)\n",
    "            # set col order\n",
    "            df = df[['platform', 'platform_id', 'name', 'website', 'additional', 'votes_count', 'proposals_count']]\n",
    "            table = pa.Table.from_pandas(df)\n",
    "            # 0 platform: string\n",
    "            # 1 platform_id: string\n",
    "            # 2 name: string\n",
    "            # 3 website: double\n",
    "            # 4 additional: string\n",
    "            # 5 votes_count: int64\n",
    "            # 6 proposals_count: int64\n",
    "            # cast the fourth column to string\n",
    "            # if file doesn't exist, create it\n",
    "            if not table_exists:\n",
    "                # create a parquet write object giving it an output file\n",
    "                pqwriter = pq.ParquetWriter(out_filename, table.schema)\n",
    "                table_exists = True\n",
    "            pqwriter.write_table(table)\n",
    "            rows_count += len(df)\n",
    "            print('.')\n",
    "    if pqwriter:\n",
    "        pqwriter.close()\n",
    "    t2 = datetime.now()\n",
    "    total = t2 - t1\n",
    "    print(f'took {total} to pandas concat')\n",
    "    print(f'wrote {rows_count} rows to {out_filename}')\n",
    "\n",
    "deployments_csv_to_parquet(deployments, 'parquets/deployments.parquet')\n"
   ]
  },
  {
   "cell_type": "code",
   "execution_count": 37,
   "metadata": {},
   "outputs": [
    {
     "name": "stdout",
     "output_type": "stream",
     "text": [
      "31295 7\n"
     ]
    }
   ],
   "source": [
    "import pyarrow.parquet as pq\n",
    "\n",
    "with pq.ParquetFile('parquets/deployments.parquet') as pf:\n",
    "    num_rows = pf.metadata.num_rows\n",
    "    num_columns = len(pf.metadata.schema.names)\n",
    "assert num_rows == 31_295\n",
    "print(num_rows, num_columns)\n"
   ]
  },
  {
   "cell_type": "code",
   "execution_count": 28,
   "metadata": {},
   "outputs": [
    {
     "data": {
      "text/plain": [
       "<Axes: >"
      ]
     },
     "execution_count": 28,
     "metadata": {},
     "output_type": "execute_result"
    },
    {
     "data": {
      "image/png": "[encoded data removed]",
      "text/plain": [
       "<Figure size 640x480 with 1 Axes>"
      ]
     },
     "metadata": {},
     "output_type": "display_data"
    }
   ],
   "source": [
    "# read parquet file\n",
    "import pyarrow.parquet as pq\n",
    "\n",
    "with pq.ParquetFile('parquets/deployments.parquet') as pf:\n",
    "    df = pf.read().to_pandas()\n",
    "df.votes_count.hist(log=True)"
   ]
  },
  {
   "cell_type": "code",
   "execution_count": 29,
   "metadata": {},
   "outputs": [],
   "source": [
    "# now let's do proposals"
   ]
  },
  {
   "cell_type": "code",
   "execution_count": 39,
   "metadata": {},
   "outputs": [
    {
     "data": {
      "text/plain": [
       "['./proposals/daostack/daostack_proposals.parquet',\n",
       " './proposals/snapshot/snapshot_proposals.parquet',\n",
       " './proposals/aragon/aragon_proposals.parquet',\n",
       " './proposals/daohaus/daohaus_proposals.parquet']"
      ]
     },
     "execution_count": 39,
     "metadata": {},
     "output_type": "execute_result"
    }
   ],
   "source": [
    "import glob\n",
    "from datetime import datetime\n",
    "import pandas as pd\n",
    "import pyarrow as pa\n",
    "import pyarrow.parquet as pq\n",
    "\n",
    "# get all the csv files in the DATA/deployments folder\n",
    "proposals = glob.glob('./proposals/*/*_proposals.parquet')\n",
    "assert len(proposals) == 4\n",
    "proposals"
   ]
  },
  {
   "cell_type": "code",
   "execution_count": 43,
   "metadata": {},
   "outputs": [
    {
     "name": "stdout",
     "output_type": "stream",
     "text": [
      "Doing file ./proposals/daostack/daostack_proposals.parquet\n",
      ".\n",
      "Doing file ./proposals/snapshot/snapshot_proposals.parquet\n",
      ".\n",
      "Doing file ./proposals/aragon/aragon_proposals.parquet\n",
      ".\n",
      "Doing file ./proposals/daohaus/daohaus_proposals.parquet\n",
      ".\n",
      "took 0:00:01.019020 to pandas concat\n",
      "wrote 182327 rows to parquets/proposals.parquet\n"
     ]
    }
   ],
   "source": [
    "\n",
    "def proposals_csv_to_parquet(filenames: iter, out_filename: str) -> None:\n",
    "    rows_count = 0\n",
    "    chunksize = 1000000  # this is the number of lines\n",
    "    t1 = datetime.now()\n",
    "    table_exists = False\n",
    "    pqwriter = None\n",
    "    # if filename exists, raise error\n",
    "    if glob.glob(out_filename):\n",
    "        raise FileExistsError(f'{out_filename} already exists')\n",
    "    for file in filenames:\n",
    "        # for i, df in enumerate(pd.read_csv(file, chunksize=chunksize)):\n",
    "        df = pd.read_parquet(file) \n",
    "    \n",
    "        print(\"Doing file\", file)\n",
    "        # print(df.info())\n",
    "        # make author column a string\n",
    "        df['author'] = df['author'].astype(str)\n",
    "        table = pa.Table.from_pandas(df)\n",
    "        # if file doesn't exist, create it\n",
    "        if not table_exists:\n",
    "            # create a parquet write object giving it an output file\n",
    "            pqwriter = pq.ParquetWriter(out_filename, table.schema)\n",
    "            table_exists = True\n",
    "        pqwriter.write_table(table)\n",
    "        rows_count += len(df)\n",
    "        print('.')\n",
    "    if pqwriter:\n",
    "        pqwriter.close()\n",
    "    t2 = datetime.now()\n",
    "    total = t2 - t1\n",
    "    print(f'took {total} to pandas concat')\n",
    "    print(f'wrote {rows_count} rows to {out_filename}')\n",
    "\n",
    "proposals_csv_to_parquet(proposals, 'parquets/proposals.parquet')"
   ]
  },
  {
   "cell_type": "code",
   "execution_count": 39,
   "metadata": {},
   "outputs": [
    {
     "name": "stdout",
     "output_type": "stream",
     "text": [
      "205749 6\n"
     ]
    }
   ],
   "source": [
    "import pyarrow.parquet as pq\n",
    "\n",
    "with pq.ParquetFile('parquets/proposals.parquet') as pf:\n",
    "    num_rows = pf.metadata.num_rows\n",
    "    num_columns = len(pf.metadata.schema.names)\n",
    "assert num_rows == 205_749\n",
    "print(num_rows, num_columns)\n"
   ]
  },
  {
   "cell_type": "code",
   "execution_count": 40,
   "metadata": {},
   "outputs": [
    {
     "data": {
      "text/plain": [
       "<Axes: >"
      ]
     },
     "execution_count": 40,
     "metadata": {},
     "output_type": "execute_result"
    },
    {
     "data": {
      "image/png": "[encoded data removed]",
      "text/plain": [
       "<Figure size 640x480 with 1 Axes>"
      ]
     },
     "metadata": {},
     "output_type": "display_data"
    }
   ],
   "source": [
    "# show hist by platform\n",
    "import pyarrow.parquet as pq\n",
    "\n",
    "with pq.ParquetFile('parquets/proposals.parquet') as pf:\n",
    "    df = pf.read().to_pandas()\n",
    "df.platform.value_counts().plot.barh()"
   ]
  },
  {
   "cell_type": "code",
   "execution_count": 28,
   "metadata": {},
   "outputs": [
    {
     "data": {
      "text/plain": [
       "['/users/personal/Downloads/DATA_onedrive_2023-07-25/votes/realms_votes.csv',\n",
       " '/users/personal/Downloads/DATA_onedrive_2023-07-25/votes/daostack_votes.csv',\n",
       " '/users/personal/Downloads/DATA_onedrive_2023-07-25/votes/tally_votes.csv',\n",
       " '/users/personal/Downloads/DATA_onedrive_2023-07-25/votes/aragon_votes.csv',\n",
       " '/users/personal/Downloads/DATA_onedrive_2023-07-25/votes/daohaus_votes.csv']"
      ]
     },
     "execution_count": 28,
     "metadata": {},
     "output_type": "execute_result"
    }
   ],
   "source": [
    "# now for votes\n",
    "import glob\n",
    "\n",
    "# get all the csv files in the DATA/deployments folder\n",
    "votes = glob.glob('/users/personal/Downloads/DATA_onedrive_2023-07-25/votes/*_votes.csv')\n",
    "assert len(votes) == 5\n",
    "# THIS IS MISSING SNAPSHOT bc its in a parquet, not a csv\n",
    "votes"
   ]
  },
  {
   "cell_type": "code",
   "execution_count": 3,
   "metadata": {},
   "outputs": [
    {
     "data": {
      "text/plain": [
       "'/users/personal/Downloads/DATA_onedrive_2023-07-25/votes/snapshot_votes.parquet'"
      ]
     },
     "execution_count": 3,
     "metadata": {},
     "output_type": "execute_result"
    }
   ],
   "source": [
    "import glob\n",
    "\n",
    "snapshot_votes = glob.glob('/users/personal/Downloads/DATA_onedrive_2023-07-25/votes/snapshot_*.parquet')[0]\n",
    "snapshot_votes"
   ]
  },
  {
   "cell_type": "code",
   "execution_count": 28,
   "metadata": {},
   "outputs": [
    {
     "name": "stdout",
     "output_type": "stream",
     "text": [
      "platform: string\n",
      "platform_deployment_id: string\n",
      "proposal_id: string\n",
      "vote_id: string\n",
      "voter: string\n",
      "date: timestamp[ms]\n",
      "choice: string\n",
      "weight: double\n",
      "-- schema metadata --\n",
      "pandas: '{\"index_columns\": [{\"kind\": \"range\", \"name\": null, \"start\": 0, \"' + 1194\n"
     ]
    }
   ],
   "source": [
    "# get snapshot_votes schema\n",
    "import pyarrow.parquet as pq\n",
    "\n",
    "with pq.ParquetFile(snapshot_votes) as pf:\n",
    "    # num_rows = pf.metadata.num_rows\n",
    "    # num_columns = len(pf.metadata.schema.names)\n",
    "    schema = pf.metadata.schema\n",
    "# convert pyarrow._parquet.ParquetSchema to  pyarrow.lib.Schema\n",
    "schema = schema.to_arrow_schema()\n",
    "# make weight a double instead of an int\n",
    "schema = schema.set(7, pa.field('weight', pa.float64()))\n",
    "# set date precision to millisecond like timestamp[ms]\n",
    "schema = schema.set(5, pa.field('date', pa.timestamp('ms')))\n",
    "print(schema)"
   ]
  },
  {
   "cell_type": "code",
   "execution_count": 43,
   "metadata": {},
   "outputs": [
    {
     "name": "stdout",
     "output_type": "stream",
     "text": [
      "/users/personal/Downloads/DATA_onedrive_2023-07-25/votes/realms_votes.csv\n",
      "(22552, 8)\n",
      "22552 dates are not a time /users/personal/Downloads/DATA_onedrive_2023-07-25/votes/realms_votes.csv\n",
      ".\n",
      "/users/personal/Downloads/DATA_onedrive_2023-07-25/votes/daostack_votes.csv\n",
      "(12328, 8)\n",
      "weight was not a double /users/personal/Downloads/DATA_onedrive_2023-07-25/votes/daostack_votes.csv\n",
      ".\n",
      "/users/personal/Downloads/DATA_onedrive_2023-07-25/votes/tally_votes.csv\n"
     ]
    },
    {
     "name": "stderr",
     "output_type": "stream",
     "text": [
      "/opt/homebrew/lib/python3.11/site-packages/pandas/core/tools/datetimes.py:557: RuntimeWarning: invalid value encountered in cast\n",
      "  arr, tz_parsed = tslib.array_with_unit_to_datetime(arg, unit, errors=errors)\n"
     ]
    },
    {
     "name": "stdout",
     "output_type": "stream",
     "text": [
      "(583597, 8)\n",
      "weight was not a double /users/personal/Downloads/DATA_onedrive_2023-07-25/votes/tally_votes.csv\n",
      ".\n",
      "/users/personal/Downloads/DATA_onedrive_2023-07-25/votes/aragon_votes.csv\n",
      "(26176, 8)\n",
      "weight was not a double /users/personal/Downloads/DATA_onedrive_2023-07-25/votes/aragon_votes.csv\n",
      ".\n",
      "/users/personal/Downloads/DATA_onedrive_2023-07-25/votes/daohaus_votes.csv\n",
      "(49454, 8)\n",
      ".\n",
      "took 0:00:03.656349 to pandas concat\n",
      "wrote 694107 rows to parquets/votes_without_snapshot.parquet\n"
     ]
    }
   ],
   "source": [
    "import pandas as pd\n",
    "import pyarrow as pa\n",
    "import pyarrow.parquet as pq\n",
    "from datetime import datetime\n",
    "\n",
    "\n",
    "def votes_csv_to_parquet(filenames: iter, out_filename: str) -> None:\n",
    "    rows_count = 0\n",
    "    chunksize = 1000000  # this is the number of lines\n",
    "    t1 = datetime.now()\n",
    "    table_exists = False\n",
    "    pqwriter = None\n",
    "    # if filename exists, raise error\n",
    "    if glob.glob(out_filename):\n",
    "        raise FileExistsError(f'{out_filename} already exists')\n",
    "    for file in filenames:\n",
    "        print(file)\n",
    "        for i, df in enumerate(pd.read_csv(file, chunksize=chunksize)):\n",
    "            print(df.shape)\n",
    "            # if dates are all null, set to datetime\n",
    "            if df.date.isna().all():\n",
    "                # for empty strings, make them not a time\n",
    "                df['date'] = pd.to_datetime(df['date'], unit='s')\n",
    "                # print the number of dates that are not a time\n",
    "                print(df.date.isna().sum(), 'dates are not a time', file)\n",
    "            # if choice is not a string, make it a string\n",
    "            df['choice'] = df['choice'].astype(str)\n",
    "            table = pa.Table.from_pandas(df)\n",
    "            # set date precision to millisecond\n",
    "            table = table.set_column(5, 'date', table.column(5).cast(pa.timestamp('ms')))\n",
    "            # if weight is not a double, cast it to a double\n",
    "            if table.column(7).type != pa.float64():\n",
    "                table = table.set_column(7, 'weight', table.column(7).cast(pa.float64()))\n",
    "                print('weight was not a double', file)\n",
    "            # describe table weight\n",
    "            # if file doesn't exist, create it\n",
    "            if not table_exists:\n",
    "                # create a parquet write object giving it an output file\n",
    "                pqwriter = pq.ParquetWriter(out_filename, schema)\n",
    "                table_exists = True\n",
    "            pqwriter.write_table(table)\n",
    "            rows_count += len(df)\n",
    "            print('.')\n",
    "    # TODO: add in snapshot...\n",
    "    if pqwriter:\n",
    "        pqwriter.close()\n",
    "    t2 = datetime.now()\n",
    "    total = t2 - t1\n",
    "    print(f'took {total} to pandas concat')\n",
    "    print(f'wrote {rows_count} rows to {out_filename}')\n",
    "\n",
    "votes_csv_to_parquet(votes, 'parquets/votes_without_snapshot.parquet')"
   ]
  },
  {
   "cell_type": "code",
   "execution_count": 29,
   "metadata": {},
   "outputs": [
    {
     "name": "stdout",
     "output_type": "stream",
     "text": [
      "/users/personal/Downloads/DATA_onedrive_2023-07-25/votes/realms_votes.csv\n",
      "22553\n",
      "/users/personal/Downloads/DATA_onedrive_2023-07-25/votes/daostack_votes.csv\n",
      "12329\n",
      "/users/personal/Downloads/DATA_onedrive_2023-07-25/votes/tally_votes.csv\n",
      "583598\n",
      "/users/personal/Downloads/DATA_onedrive_2023-07-25/votes/aragon_votes.csv\n",
      "26177\n",
      "/users/personal/Downloads/DATA_onedrive_2023-07-25/votes/daohaus_votes.csv\n",
      "49455\n",
      "694112 lines in all votes files\n",
      "694107 lines in all votes files without headers\n"
     ]
    }
   ],
   "source": [
    "# count the number of lines in each of the files in votes without reading them to memory\n",
    "lines_count = 0\n",
    "for file in votes:\n",
    "    print(file)\n",
    "    with open(file) as f:\n",
    "        count = sum(1 for line in f)\n",
    "        print(count)\n",
    "    lines_count += count\n",
    "print(lines_count, 'lines in all votes files')\n",
    "lines_count = lines_count - len(votes)  # subtract the header lines\n",
    "print(lines_count, 'lines in all votes files without headers')"
   ]
  },
  {
   "cell_type": "code",
   "execution_count": 45,
   "metadata": {},
   "outputs": [],
   "source": [
    "assert lines_count == 694_107"
   ]
  },
  {
   "cell_type": "code",
   "execution_count": 17,
   "metadata": {},
   "outputs": [
    {
     "data": {
      "text/plain": [
       "['parquets/votes_without_snapshot.parquet',\n",
       " '/users/personal/Downloads/DATA_onedrive_2023-07-25/votes/snapshot_votes.parquet']"
      ]
     },
     "execution_count": 17,
     "metadata": {},
     "output_type": "execute_result"
    }
   ],
   "source": [
    "files_to_concat = ['parquets/votes_without_snapshot.parquet', snapshot_votes]\n",
    "files_to_concat"
   ]
  },
  {
   "cell_type": "code",
   "execution_count": 23,
   "metadata": {},
   "outputs": [
    {
     "name": "stdout",
     "output_type": "stream",
     "text": [
      "took 0:00:18.833714 to concat\n"
     ]
    }
   ],
   "source": [
    "import pyarrow as pa\n",
    "import pyarrow.parquet as pq\n",
    "import os\n",
    "from datetime import datetime\n",
    "\n",
    "def concat_parquets(filenames: iter) -> None:\n",
    "    t1 = datetime.now()\n",
    "    pqwriter = None\n",
    "    for filename in filenames:\n",
    "        parquet_file = pq.ParquetFile(filename)\n",
    "        for i, batch_table in enumerate(parquet_file.iter_batches()):\n",
    "            table = pa.Table.from_batches([batch_table])\n",
    "            # cast the date column to timestamp[us]\n",
    "            table = table.set_column(5, 'date', table.column(5).cast(pa.timestamp('us')))\n",
    "            # if weight is not a double, cast it to a double\n",
    "            # we want to use Decimal128Type, cast to that\n",
    "            if table.column(7).type != pa.decimal256(62, 8):\n",
    "                table = table.set_column(7, 'weight', table.column(7).cast(pa.decimal256(62, 8)))\n",
    "                # print('weight was not a decimal128', filename)\n",
    "\n",
    "            if os.path.isfile('parquets/votes.parquet') == False:\n",
    "                # create a parquet write object giving it an output file\n",
    "                pqwriter = pq.ParquetWriter('parquets/votes.parquet', table.schema)\n",
    "            pqwriter.write_table(table)\n",
    "    if pqwriter:\n",
    "        pqwriter.close()\n",
    "    t2 = datetime.now()\n",
    "    total = t2 - t1\n",
    "    print(f'took {total} to concat')\n",
    "\n",
    "concat_parquets(files_to_concat)"
   ]
  },
  {
   "cell_type": "code",
   "execution_count": 25,
   "metadata": {},
   "outputs": [
    {
     "name": "stdout",
     "output_type": "stream",
     "text": [
      "21173881\n"
     ]
    }
   ],
   "source": [
    "# how many lines in snapshot_votes\n",
    "import pyarrow.parquet as pq\n",
    "\n",
    "with pq.ParquetFile(snapshot_votes) as pf:\n",
    "    num_rows = pf.metadata.num_rows\n",
    "    print(num_rows)"
   ]
  },
  {
   "cell_type": "code",
   "execution_count": 32,
   "metadata": {},
   "outputs": [
    {
     "data": {
      "text/plain": [
       "21867988"
      ]
     },
     "execution_count": 32,
     "metadata": {},
     "output_type": "execute_result"
    }
   ],
   "source": [
    "expected_size = num_rows + lines_count\n",
    "expected_size"
   ]
  },
  {
   "cell_type": "code",
   "execution_count": 34,
   "metadata": {},
   "outputs": [],
   "source": [
    "# open the votes.parquet file and check the number of rows\n",
    "import pyarrow.parquet as pq\n",
    "\n",
    "with pq.ParquetFile('parquets/votes.parquet') as pf:\n",
    "    num_rows = pf.metadata.num_rows\n",
    "assert num_rows == expected_size\n",
    "# wooo!!"
   ]
  }
 ],
 "metadata": {
  "kernelspec": {
   "display_name": "Python 3",
   "language": "python",
   "name": "python3"
  },
  "language_info": {
   "codemirror_mode": {
    "name": "ipython",
    "version": 3
   },
   "file_extension": ".py",
   "mimetype": "text/x-python",
   "name": "python",
   "nbconvert_exporter": "python",
   "pygments_lexer": "ipython3",
   "version": "3.11.6"
  },
  "orig_nbformat": 4
 },
 "nbformat": 4,
 "nbformat_minor": 2
}
